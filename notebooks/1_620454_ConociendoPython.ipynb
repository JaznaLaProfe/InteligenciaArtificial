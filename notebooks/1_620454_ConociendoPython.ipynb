{
  "nbformat": 4,
  "nbformat_minor": 0,
  "metadata": {
    "colab": {
      "provenance": []
    },
    "kernelspec": {
      "name": "python3",
      "display_name": "Python 3"
    },
    "language_info": {
      "name": "python"
    }
  },
  "cells": [
    {
      "cell_type": "markdown",
      "source": [
        "# Conociendo Python\n",
        "\n",
        "**Autor:** Jazna Meza Hidalgo\n",
        "\n",
        "**Correo Electrónico:** ymeza@ubiobio.cl\n",
        "\n",
        "**Fecha de Creación:** Septiembre de 2024  \n",
        "**Fecha de Actualización:** Marzo de 2025\n",
        "\n",
        "**Versión:** 1.1  \n",
        "\n",
        "---\n",
        "\n",
        "## Descripción\n",
        "\n",
        "Este notebook contiene algunas de las funcionalidades que ofrece Python y que se irán usando dentro del desarrollo del curso.\n",
        "\n",
        "---\n",
        "\n",
        "## Requisitos de Software\n",
        "\n",
        "Este notebook fue desarrollado con Python 3.9. A continuación se listan las bibliotecas necesarias:\n",
        "\n",
        "- numpy (1.26.4)\n",
        "- pandas (2.2.2)\n",
        "- matplotlib (3.7.1)\n",
        "- sklearn (1.6.1)\n",
        "\n",
        "\n",
        "Para verificar la versión instalada ejecutar usando el nombre del paquete del cual quieres saber la versión; por ejemplo, si quieres saber la versión de numpy usas:\n",
        "\n",
        "```bash\n",
        "import numpy\n",
        "print(numpy.__version__)\n",
        "````"
      ],
      "metadata": {
        "id": "MduaA8Ue1Q2C"
      }
    },
    {
      "cell_type": "markdown",
      "source": [
        "# Carga de librerías"
      ],
      "metadata": {
        "id": "bsfDeA7_R3Yl"
      }
    },
    {
      "cell_type": "code",
      "execution_count": 1,
      "metadata": {
        "id": "GFS3P15HPlTR"
      },
      "outputs": [],
      "source": [
        "import numpy as np\n",
        "import pandas as pd\n",
        "\n",
        "import matplotlib.pyplot as plt\n",
        "\n",
        "from sklearn.preprocessing import StandardScaler, PolynomialFeatures"
      ]
    },
    {
      "cell_type": "markdown",
      "source": [
        "# Uso de tipos de datos"
      ],
      "metadata": {
        "id": "53A7jMu1aHv9"
      }
    },
    {
      "cell_type": "code",
      "source": [
        "x = 29\n",
        "s = \"hola\"\n",
        "f = 15.9\n",
        "x = False\n",
        "\n",
        "print(x)\n",
        "print(s)\n",
        "print(f)"
      ],
      "metadata": {
        "colab": {
          "base_uri": "https://localhost:8080/"
        },
        "id": "0Qx0N4zSSOd1",
        "outputId": "e86ab7be-005f-4371-d3b4-5f07055b6e25"
      },
      "execution_count": 2,
      "outputs": [
        {
          "output_type": "stream",
          "name": "stdout",
          "text": [
            "False\n",
            "hola\n",
            "15.9\n"
          ]
        }
      ]
    },
    {
      "cell_type": "code",
      "source": [
        "print(s+str(f))\n",
        "print(s,f)"
      ],
      "metadata": {
        "colab": {
          "base_uri": "https://localhost:8080/"
        },
        "id": "9ZlTVd1_S7XN",
        "outputId": "903f7dab-14f3-41b1-a8f1-75de8275f0b9"
      },
      "execution_count": 3,
      "outputs": [
        {
          "output_type": "stream",
          "name": "stdout",
          "text": [
            "hola15.9\n",
            "hola 15.9\n"
          ]
        }
      ]
    },
    {
      "cell_type": "code",
      "source": [
        "# Variables y Operadores\n",
        "a = 10\n",
        "b = 5\n",
        "suma = a + b\n",
        "print(f\"La suma es: {suma}\")  # Output: La suma es: 15\n",
        "\n",
        "# Ciclos y condiciones\n",
        "for i in range(5):\n",
        "    if i % 2 == 0:\n",
        "        print(f\"{i} es par\")\n",
        "    else:\n",
        "        print(f\"{i} es impar\")\n"
      ],
      "metadata": {
        "colab": {
          "base_uri": "https://localhost:8080/"
        },
        "id": "iSH-b7qQvhc4",
        "outputId": "627662ad-8fe3-4e1e-a590-e6b61479c15d"
      },
      "execution_count": 4,
      "outputs": [
        {
          "output_type": "stream",
          "name": "stdout",
          "text": [
            "La suma es: 15\n",
            "0 es par\n",
            "1 es impar\n",
            "2 es par\n",
            "3 es impar\n",
            "4 es par\n"
          ]
        }
      ]
    },
    {
      "cell_type": "code",
      "source": [
        "a = 45.7875454\n",
        "print(\"El valor es {:.3f}\".format(a))"
      ],
      "metadata": {
        "colab": {
          "base_uri": "https://localhost:8080/"
        },
        "id": "0XPccFJlTdAd",
        "outputId": "641fbeb0-450e-45e2-d52e-41afc5585a05"
      },
      "execution_count": 5,
      "outputs": [
        {
          "output_type": "stream",
          "name": "stdout",
          "text": [
            "El valor es 45.788\n"
          ]
        }
      ]
    },
    {
      "cell_type": "markdown",
      "source": [
        "# Algunas funciones de numpy"
      ],
      "metadata": {
        "id": "GbO5xFYeaDId"
      }
    },
    {
      "cell_type": "markdown",
      "source": [
        "# Funciones y uso de parámetros opcionales en Python"
      ],
      "metadata": {
        "id": "fFT7D4sAZ6NN"
      }
    },
    {
      "cell_type": "code",
      "source": [
        "# Definiendo una función\n",
        "def saludo(nombre):\n",
        "    return f\"Hola, {nombre}!\"\n",
        "\n",
        "print(saludo(\"Jazna\"))  # Output: Hola, Jazna!\n"
      ],
      "metadata": {
        "colab": {
          "base_uri": "https://localhost:8080/"
        },
        "id": "1vMVvhmcvv-Q",
        "outputId": "07fc141b-4505-45af-bf4e-cc4b7cd90de1"
      },
      "execution_count": 6,
      "outputs": [
        {
          "output_type": "stream",
          "name": "stdout",
          "text": [
            "Hola, Jazna!\n"
          ]
        }
      ]
    },
    {
      "cell_type": "code",
      "source": [
        "def f(x, y = 4):\n",
        "  return x + y\n",
        "\n",
        "print(f(2))\n",
        "print(f(2,8))"
      ],
      "metadata": {
        "colab": {
          "base_uri": "https://localhost:8080/"
        },
        "id": "LKBsv7pFWGUe",
        "outputId": "5dfb1f29-d573-42d2-afd2-83c5fde2c6bf"
      },
      "execution_count": 7,
      "outputs": [
        {
          "output_type": "stream",
          "name": "stdout",
          "text": [
            "6\n",
            "10\n"
          ]
        }
      ]
    },
    {
      "cell_type": "code",
      "source": [
        "def f(x, y = 4, z = 5):\n",
        "  return x + y + z"
      ],
      "metadata": {
        "id": "4jSp9tHzW9pt"
      },
      "execution_count": 8,
      "outputs": []
    },
    {
      "cell_type": "code",
      "source": [
        "f(3)"
      ],
      "metadata": {
        "colab": {
          "base_uri": "https://localhost:8080/"
        },
        "id": "OmDeqQ9iXDS9",
        "outputId": "8b6c4ede-44ff-432e-8f77-3de2670fbed7"
      },
      "execution_count": 9,
      "outputs": [
        {
          "output_type": "execute_result",
          "data": {
            "text/plain": [
              "12"
            ]
          },
          "metadata": {},
          "execution_count": 9
        }
      ]
    },
    {
      "cell_type": "code",
      "source": [
        "f(7,z=9)"
      ],
      "metadata": {
        "colab": {
          "base_uri": "https://localhost:8080/"
        },
        "id": "RMclcYVQXLMH",
        "outputId": "abd6fe2a-9632-409e-f637-8a619a490446"
      },
      "execution_count": 10,
      "outputs": [
        {
          "output_type": "execute_result",
          "data": {
            "text/plain": [
              "20"
            ]
          },
          "metadata": {},
          "execution_count": 10
        }
      ]
    },
    {
      "cell_type": "markdown",
      "source": [
        "# Colecciones"
      ],
      "metadata": {
        "id": "GfOTOewewD1m"
      }
    },
    {
      "cell_type": "code",
      "source": [
        "# Listas\n",
        "lista = [1, 2, 3, 4, 5]\n",
        "print(lista[0])  # Output: 1\n",
        "\n",
        "# Diccionarios\n",
        "diccionario = {'nombre': 'Ana', 'edad': 25}\n",
        "print(diccionario['nombre'])  # Output: Ana\n",
        "\n",
        "# Comprensiones de listas\n",
        "cuadrados = [x**2 for x in lista]\n",
        "print(cuadrados)  # Output: [1, 4, 9, 16, 25]\n"
      ],
      "metadata": {
        "colab": {
          "base_uri": "https://localhost:8080/"
        },
        "id": "jvEuhBpAwDDj",
        "outputId": "04965997-acac-413c-e7f5-472a025fe051"
      },
      "execution_count": 11,
      "outputs": [
        {
          "output_type": "stream",
          "name": "stdout",
          "text": [
            "1\n",
            "Ana\n",
            "[1, 4, 9, 16, 25]\n"
          ]
        }
      ]
    },
    {
      "cell_type": "code",
      "source": [
        "# Crear array\n",
        "arreglo = np.array([1, 2, 3, 4, 5])\n",
        "print(arreglo.mean())  # Media\n",
        "print(np.std(arreglo))  # Desviación estándar"
      ],
      "metadata": {
        "id": "OAYtcqWQ2iq_",
        "colab": {
          "base_uri": "https://localhost:8080/"
        },
        "outputId": "13b208b4-f30a-4ced-9a9f-0e1df5303725"
      },
      "execution_count": 12,
      "outputs": [
        {
          "output_type": "stream",
          "name": "stdout",
          "text": [
            "3.0\n",
            "1.4142135623730951\n"
          ]
        }
      ]
    },
    {
      "cell_type": "code",
      "source": [
        "# Crear array con nulos\n",
        "arreglo_con_nulos = np.array([1, 2, 3, np.nan, 4, 5])\n",
        "print(arreglo_con_nulos.mean())  # Media\n",
        "print(np.std(arreglo_con_nulos))  # Desviación estándar"
      ],
      "metadata": {
        "id": "fq2QYHn-2mTU",
        "colab": {
          "base_uri": "https://localhost:8080/"
        },
        "outputId": "51186ffa-8d04-41e8-ccbb-e17db734b3c9"
      },
      "execution_count": 13,
      "outputs": [
        {
          "output_type": "stream",
          "name": "stdout",
          "text": [
            "nan\n",
            "nan\n"
          ]
        }
      ]
    },
    {
      "cell_type": "markdown",
      "source": [
        "## Uso de reshape"
      ],
      "metadata": {
        "id": "_4aCAlzb2rzX"
      }
    },
    {
      "cell_type": "code",
      "source": [
        "# Vector de 6 elementos\n",
        "a = np.array([1, 2, 3, 4, 5, 6])\n",
        "\n",
        "# Transformarlo en una matriz 2x3\n",
        "a_reshaped = a.reshape(2, 3)\n",
        "\n",
        "print(a_reshaped)"
      ],
      "metadata": {
        "id": "XKVHa4Vj2eP3",
        "colab": {
          "base_uri": "https://localhost:8080/"
        },
        "outputId": "37bbfd95-4272-4cd9-e465-65f0e114dd4a"
      },
      "execution_count": 14,
      "outputs": [
        {
          "output_type": "stream",
          "name": "stdout",
          "text": [
            "[[1 2 3]\n",
            " [4 5 6]]\n"
          ]
        }
      ]
    },
    {
      "cell_type": "code",
      "source": [
        "b = np.array([[1, 2, 3],\n",
        "              [4, 5, 6]])\n",
        "\n",
        "b_reshaped = b.reshape(-1)  # -1 indica que se \"aplane\" en una sola dimensión\n",
        "\n",
        "print(b_reshaped)"
      ],
      "metadata": {
        "id": "4A8N9ml12qlr",
        "colab": {
          "base_uri": "https://localhost:8080/"
        },
        "outputId": "b568581b-524f-4320-bbfe-ea0641d70e68"
      },
      "execution_count": 15,
      "outputs": [
        {
          "output_type": "stream",
          "name": "stdout",
          "text": [
            "[1 2 3 4 5 6]\n"
          ]
        }
      ]
    },
    {
      "cell_type": "code",
      "source": [
        "c = np.array([1, 2, 3, 4, 5, 6, 7, 8, 9, 10, 11, 12])\n",
        "\n",
        "# Se requieren 3 columnas, y se deja que numPy calcule las filas\n",
        "c_reshaped = c.reshape(-1, 3)\n",
        "\n",
        "print(c_reshaped)"
      ],
      "metadata": {
        "id": "L_zbMMuG2vqX",
        "colab": {
          "base_uri": "https://localhost:8080/"
        },
        "outputId": "6ffb7b6d-9767-41da-bd86-97894b21bc62"
      },
      "execution_count": 16,
      "outputs": [
        {
          "output_type": "stream",
          "name": "stdout",
          "text": [
            "[[ 1  2  3]\n",
            " [ 4  5  6]\n",
            " [ 7  8  9]\n",
            " [10 11 12]]\n"
          ]
        }
      ]
    },
    {
      "cell_type": "code",
      "source": [
        "d = np.array([1, 2, 3, 4, 5])\n",
        "\n",
        "# Convertir a un vector columna (5 filas, 1 columna)\n",
        "d_columna = d.reshape(-1, 1)\n",
        "\n",
        "# Convertir a un vector fila (1 fila, 5 columnas)\n",
        "d_fila = d.reshape(1, -1)\n",
        "\n",
        "print(\"Vector columna:\\n\", d_columna)\n",
        "print(\"Vector fila:\\n\", d_fila)"
      ],
      "metadata": {
        "id": "I8z9BE9j2zPN",
        "colab": {
          "base_uri": "https://localhost:8080/"
        },
        "outputId": "960ea9ce-4810-4d34-f835-399b6a60adb8"
      },
      "execution_count": 17,
      "outputs": [
        {
          "output_type": "stream",
          "name": "stdout",
          "text": [
            "Vector columna:\n",
            " [[1]\n",
            " [2]\n",
            " [3]\n",
            " [4]\n",
            " [5]]\n",
            "Vector fila:\n",
            " [[1 2 3 4 5]]\n"
          ]
        }
      ]
    },
    {
      "cell_type": "markdown",
      "source": [
        "**📌 ¿Por qué es importante reshape en Machine Learning?**\n",
        "\n",
        "+ **Preprocesamiento de datos:** asegurar que los datos tienen la forma correcta para los modelos.\n",
        "+ **Transformación de datos:** convertir imágenes en vectores, reorganizar tensores en Deep Learning.\n",
        "+ **Evitar errores en scikit-learn:** algunos modelos requieren datos en formato (n_samples, n_features)."
      ],
      "metadata": {
        "id": "nNR5bO9323v1"
      }
    },
    {
      "cell_type": "markdown",
      "source": [
        "# Bibliotecas para ciencia de datos"
      ],
      "metadata": {
        "id": "tT2nN7WDwgrP"
      }
    },
    {
      "cell_type": "markdown",
      "source": [
        "## numpy"
      ],
      "metadata": {
        "id": "ig-BkDh9xOh5"
      }
    },
    {
      "cell_type": "code",
      "source": [
        "lista = [15,20,60,89,45,78,30]\n",
        "print(\"El promedio es {:.2f}\".format(np.mean(lista)))\n",
        "print(\"La desviacion estándar es {:.2f}\".format(np.std(lista)))\n",
        "print(\"La mediana es {:.2f}\".format(np.median(lista)))\n",
        "print(f\"El valor máximo es {np.max(lista)} y está en el índice {np.argmax(lista)}\")\n",
        "print(f\"El valor mínimo es {np.min(lista)} y está en el índice {np.argmin(lista)}\")"
      ],
      "metadata": {
        "colab": {
          "base_uri": "https://localhost:8080/"
        },
        "id": "rukoV6X5UZiV",
        "outputId": "dd0ea07e-ed7a-4db1-dddc-9bdf685f4003"
      },
      "execution_count": 18,
      "outputs": [
        {
          "output_type": "stream",
          "name": "stdout",
          "text": [
            "El promedio es 48.14\n",
            "La desviacion estándar es 26.54\n",
            "La mediana es 45.00\n",
            "El valor máximo es 89 y está en el índice 3\n",
            "El valor mínimo es 15 y está en el índice 0\n"
          ]
        }
      ]
    },
    {
      "cell_type": "code",
      "source": [
        "# Crear un array\n",
        "arreglo = np.array([1, 2, 3, 4, 5])\n",
        "print(arreglo * 2)  # Output: [ 2  4  6  8 10]\n",
        "\n",
        "# Operaciones matemáticas\n",
        "print(\"Producto punto\")\n",
        "matriz = np.array([[1, 2], [3, 4]])\n",
        "print(matriz)\n",
        "print(\"-\"*10)\n",
        "print(np.dot(matriz, matriz))"
      ],
      "metadata": {
        "colab": {
          "base_uri": "https://localhost:8080/"
        },
        "id": "BZFq8CTCwzXL",
        "outputId": "c7f020b7-8bae-4f90-f4ea-d603522e3940"
      },
      "execution_count": 30,
      "outputs": [
        {
          "output_type": "stream",
          "name": "stdout",
          "text": [
            "[ 2  4  6  8 10]\n",
            "Producto punto\n",
            "[[1 2]\n",
            " [3 4]]\n",
            "----------\n",
            "[[ 7 10]\n",
            " [15 22]]\n"
          ]
        }
      ]
    },
    {
      "cell_type": "markdown",
      "source": [
        "## pandas"
      ],
      "metadata": {
        "id": "1Y1aU7TVwlOv"
      }
    },
    {
      "cell_type": "code",
      "source": [
        "# Crear un DataFrame\n",
        "datos = {'Nombre': ['Ana', 'Luis', 'Marta'], 'Edad': [25, 32, 22]}\n",
        "df = pd.DataFrame(datos)\n",
        "print(df)\n",
        "\n",
        "# Filtrar datos\n",
        "mayores_25 = df[df['Edad'] > 25]\n",
        "print(mayores_25)"
      ],
      "metadata": {
        "colab": {
          "base_uri": "https://localhost:8080/"
        },
        "id": "XVeJCtdRxVOr",
        "outputId": "b39d5253-b11f-461c-a339-87f562ca8964"
      },
      "execution_count": 20,
      "outputs": [
        {
          "output_type": "stream",
          "name": "stdout",
          "text": [
            "  Nombre  Edad\n",
            "0    Ana    25\n",
            "1   Luis    32\n",
            "2  Marta    22\n",
            "  Nombre  Edad\n",
            "1   Luis    32\n"
          ]
        }
      ]
    },
    {
      "cell_type": "code",
      "source": [
        "print(mayores_25['Edad'])"
      ],
      "metadata": {
        "colab": {
          "base_uri": "https://localhost:8080/"
        },
        "id": "9ojHe9Jlt-F_",
        "outputId": "833739cb-5606-426b-82d4-72d754fb00f7"
      },
      "execution_count": 21,
      "outputs": [
        {
          "output_type": "stream",
          "name": "stdout",
          "text": [
            "1    32\n",
            "Name: Edad, dtype: int64\n"
          ]
        }
      ]
    },
    {
      "cell_type": "markdown",
      "source": [
        "## matplotlib"
      ],
      "metadata": {
        "id": "u5Tz03RexaNK"
      }
    },
    {
      "cell_type": "code",
      "source": [
        "# Gráfico simple\n",
        "x = [1, 2, 3, 4, 5]\n",
        "y = [2, 4, 6, 8, 10]\n",
        "plt.plot(x, y)\n",
        "plt.title('Gráfico de ejemplo', fontsize=16, fontweight=\"bold\")\n",
        "plt.xlabel('x', fontsize=14, fontweight=\"bold\")\n",
        "plt.ylabel('y', fontsize=14, fontweight=\"bold\")\n",
        "plt.show()"
      ],
      "metadata": {
        "colab": {
          "base_uri": "https://localhost:8080/",
          "height": 480
        },
        "id": "yZW-QoqvxcMc",
        "outputId": "29e388c6-cef2-4a28-d909-cf3e33a60778"
      },
      "execution_count": 22,
      "outputs": [
        {
          "output_type": "display_data",
          "data": {
            "text/plain": [
              "<Figure size 640x480 with 1 Axes>"
            ],
            "image/png": "[encoded data removed]"
          },
          "metadata": {}
        }
      ]
    },
    {
      "cell_type": "markdown",
      "source": [
        "# Manipulación de datos"
      ],
      "metadata": {
        "id": "LBrLAalfxq3j"
      }
    },
    {
      "cell_type": "markdown",
      "source": [
        "## Preprocesamiento"
      ],
      "metadata": {
        "id": "g6OAcu8WxvUF"
      }
    },
    {
      "cell_type": "code",
      "source": [
        "# Datos de ejemplo\n",
        "datos = [[1, 2], [3, 4], [5, 6]]\n",
        "scaler = StandardScaler()\n",
        "datos_normalizados = scaler.fit_transform(datos)\n",
        "print(datos_normalizados)"
      ],
      "metadata": {
        "colab": {
          "base_uri": "https://localhost:8080/"
        },
        "id": "dpcsGT5sxtP2",
        "outputId": "b846cc9e-789e-413e-b28f-11da09a99d19"
      },
      "execution_count": 23,
      "outputs": [
        {
          "output_type": "stream",
          "name": "stdout",
          "text": [
            "[[-1.22474487 -1.22474487]\n",
            " [ 0.          0.        ]\n",
            " [ 1.22474487  1.22474487]]\n"
          ]
        }
      ]
    },
    {
      "cell_type": "markdown",
      "source": [
        "\n",
        "### 1️⃣ Datos Originales  \n",
        "\n",
        "La matriz de datos dada es:\n",
        "\n",
        "\\[\n",
        "X =\n",
        "\\begin{bmatrix}\n",
        "1 & 2 \\\\\n",
        "3 & 4 \\\\\n",
        "5 & 6\n",
        "\\end{bmatrix}\n",
        "\\]\n",
        "\n",
        "### 2️⃣ Cálculo de la Media y Desviación Estándar  \n",
        "\n",
        "StandardScaler estandariza los datos restando la media de cada columna y dividiendo por la desviación estándar.\n",
        "\n",
        "#### **Cálculo de la media por columna**  \n",
        "\n",
        "$\\mu_j = \\frac{1}{n} \\sum_{i=1}^{n} x_{ij}$\n",
        "\n",
        "Aplicamos esto a cada columna:\n",
        "\n",
        "- Para la primera columna:\n",
        "\n",
        "  $[\n",
        "  \\mu_1 = \\frac{1 + 3 + 5}{3} = \\frac{9}{3} = 3\n",
        "  ]$\n",
        "\n",
        "- Para la segunda columna:\n",
        "\n",
        "  $[\n",
        "  \\mu_2 = \\frac{2 + 4 + 6}{3} = \\frac{12}{3} = 4\n",
        "  ]$\n",
        "\n",
        "Entonces, el vector de medias es:\n",
        "\n",
        "$[\n",
        "\\mu = (3,4)\n",
        "]$\n",
        "\n",
        "#### **Cálculo de la desviación estándar por columna**  \n",
        "\n",
        "La desviación estándar se calcula como:\n",
        "\n",
        "$\n",
        "\\sigma_j = \\sqrt{\\frac{1}{n} \\sum_{i=1}^{n} (x_{ij} - \\mu_j)^2}\n",
        "$\n",
        "\n",
        "- Para la primera columna:\n",
        "\n",
        "  \n",
        "  $\\sigma_1 = \\sqrt{\\frac{(1-3)^2 + (3-3)^2 + (5-3)^2}{3}}$\n",
        "\n",
        "  $[\n",
        "  = \\sqrt{\\frac{(-2)^2 + (0)^2 + (2)^2}{3}}\n",
        "  = \\sqrt{\\frac{4 + 0 + 4}{3}}\n",
        "  = \\sqrt{\\frac{8}{3}} \\approx 1.63\n",
        "  ]$\n",
        "\n",
        "- Para la segunda columna:\n",
        "\n",
        "  \n",
        "  $\\sigma_2 = \\sqrt{\\frac{(2-4)^2 + (4-4)^2 + (6-4)^2}{3}}$\n",
        "\n",
        "  $[\n",
        "  = \\sqrt{\\frac{(-2)^2 + (0)^2 + (2)^2}{3}}\n",
        "  = \\sqrt{\\frac{4 + 0 + 4}{3}}\n",
        "  = \\sqrt{\\frac{8}{3}} \\approx 1.63\n",
        "  ]$\n",
        "\n",
        "Entonces, el vector de desviaciones estándar es:\n",
        "\n",
        "$[\n",
        "\\sigma = (1.63, 1.63)\n",
        "]$\n",
        "\n",
        "### 3️⃣ Estandarización de los Datos  \n",
        "\n",
        "Cada valor se transforma según la fórmula:\n",
        "\n",
        "$z_{ij} = \\frac{x_{ij} - \\mu_j}{\\sigma_j}$\n",
        "\n",
        "Aplicamos esto a cada elemento:\n",
        "\n",
        "$Z =\n",
        "\\begin{bmatrix}\n",
        "\\frac{1-3}{1.63} & \\frac{2-4}{1.63} \\\\\n",
        "\\frac{3-3}{1.63} & \\frac{4-4}{1.63} \\\\\n",
        "\\frac{5-3}{1.63} & \\frac{6-4}{1.63}\n",
        "\\end{bmatrix}$\n",
        "\n",
        "$=\n",
        "\\begin{bmatrix}\n",
        "\\frac{-2}{1.63} & \\frac{-2}{1.63} \\\\\n",
        "\\frac{0}{1.63} & \\frac{0}{1.63} \\\\\n",
        "\\frac{2}{1.63} & \\frac{2}{1.63}\n",
        "\\end{bmatrix}\n",
        "$\n",
        "\n",
        "$\\approx\n",
        "\\begin{bmatrix}\n",
        "-1.22 & -1.22 \\\\\n",
        "0 & 0 \\\\\n",
        "1.22 & 1.22\n",
        "\\end{bmatrix}\n",
        "$\n",
        "\n",
        "\n",
        "### 4️⃣ Resultado Final  \n",
        "\n",
        "El conjunto de datos escalado es:\n",
        "\n",
        "$\n",
        "Z =\n",
        "\\begin{bmatrix}\n",
        "-1.22 & -1.22 \\\\\n",
        "0 & 0 \\\\\n",
        "1.22 & 1.22\n",
        "\\end{bmatrix}\n",
        "$"
      ],
      "metadata": {
        "id": "txQ0phae1B-E"
      }
    },
    {
      "cell_type": "code",
      "source": [
        "np.array(datos)[:,0]"
      ],
      "metadata": {
        "colab": {
          "base_uri": "https://localhost:8080/"
        },
        "id": "rY5HDsc6KK29",
        "outputId": "c312178f-07bf-41f5-f674-0bcbdfb9581e"
      },
      "execution_count": 24,
      "outputs": [
        {
          "output_type": "execute_result",
          "data": {
            "text/plain": [
              "array([1, 3, 5])"
            ]
          },
          "metadata": {},
          "execution_count": 24
        }
      ]
    },
    {
      "cell_type": "code",
      "source": [
        "print(np.array(datos)[:,0].mean())\n",
        "print(np.array(datos)[:1].mean())\n",
        "\n",
        "print(np.array(datos)[:,0].std())\n",
        "print(np.array(datos)[:,1].std())\n"
      ],
      "metadata": {
        "colab": {
          "base_uri": "https://localhost:8080/"
        },
        "id": "RvewLRCQI6Z4",
        "outputId": "53bd6ebc-f7df-4985-851e-931f0cc32b52"
      },
      "execution_count": 25,
      "outputs": [
        {
          "output_type": "stream",
          "name": "stdout",
          "text": [
            "3.0\n",
            "1.5\n",
            "1.632993161855452\n",
            "1.632993161855452\n"
          ]
        }
      ]
    },
    {
      "cell_type": "code",
      "source": [
        "(datos[0][0] - np.array(datos)[:,0].mean())/np.array(datos)[:,0].std()"
      ],
      "metadata": {
        "colab": {
          "base_uri": "https://localhost:8080/"
        },
        "id": "urxeh7J4JTia",
        "outputId": "1f04c893-c4d8-4e05-8e25-282d251eaa0a"
      },
      "execution_count": 26,
      "outputs": [
        {
          "output_type": "execute_result",
          "data": {
            "text/plain": [
              "np.float64(-1.224744871391589)"
            ]
          },
          "metadata": {},
          "execution_count": 26
        }
      ]
    },
    {
      "cell_type": "code",
      "source": [
        "(datos[1][0] - np.array(datos)[:,0].mean())/np.array(datos)[:,0].std()"
      ],
      "metadata": {
        "colab": {
          "base_uri": "https://localhost:8080/"
        },
        "id": "7abUrmzfJpk3",
        "outputId": "dc05c097-ae5d-439e-d249-b0b15c9fbc28"
      },
      "execution_count": 27,
      "outputs": [
        {
          "output_type": "execute_result",
          "data": {
            "text/plain": [
              "np.float64(0.0)"
            ]
          },
          "metadata": {},
          "execution_count": 27
        }
      ]
    },
    {
      "cell_type": "markdown",
      "source": [
        "## Ingeniería de características"
      ],
      "metadata": {
        "id": "TocR8tWax35e"
      }
    },
    {
      "cell_type": "code",
      "source": [
        "# Crear características polinómicas\n",
        "poly = PolynomialFeatures(degree=2)\n",
        "datos = [[2, 3]]\n",
        "print(poly.fit_transform(datos))  # Output: [[1. 2. 3. 4. 6. 9.]]\n"
      ],
      "metadata": {
        "colab": {
          "base_uri": "https://localhost:8080/"
        },
        "id": "n4y8QHaoyKg1",
        "outputId": "09d8df58-a6c7-4891-aca3-fececf72589f"
      },
      "execution_count": 28,
      "outputs": [
        {
          "output_type": "stream",
          "name": "stdout",
          "text": [
            "[[1. 2. 3. 4. 6. 9.]]\n"
          ]
        }
      ]
    },
    {
      "cell_type": "markdown",
      "source": [
        "**Usos comunes en ML**\n",
        "\n",
        "*Regresión polinómica* ➡ cuando los datos no siguen una relación lineal.\n",
        "\n",
        "*Mejorar modelos lineales* ➡ convertir un modelo lineal en algo capaz de aprender relaciones más complejas.\n",
        "\n",
        "**PolynomialFeatures** permite que un modelo lineal piense “de manera curva” y vea interacciones entre variables.\n",
        "\n",
        "Cuando se usa `PolynomialFeatures`, lo que se hace es aumentar el espacio de características del dataset para que un modelo lineal (ejemplo: regresión lineal) pueda capturar relaciones no lineales entre las variables y el objetivo."
      ],
      "metadata": {
        "id": "rx3OzOiBtshx"
      }
    }
  ]
}