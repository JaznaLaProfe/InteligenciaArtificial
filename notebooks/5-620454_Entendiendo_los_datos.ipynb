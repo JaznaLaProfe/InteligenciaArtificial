{
  "nbformat": 4,
  "nbformat_minor": 0,
  "metadata": {
    "colab": {
      "provenance": []
    },
    "kernelspec": {
      "name": "python3",
      "display_name": "Python 3"
    },
    "language_info": {
      "name": "python"
    }
  },
  "cells": [
    {
      "cell_type": "markdown",
      "source": [
        "![](https://www.proglobalbusinesssolutions.com/wp-content/uploads/2017/12/data-mining.jpg)"
      ],
      "metadata": {
        "id": "fmobLJSH-FrG"
      }
    },
    {
      "cell_type": "markdown",
      "source": [
        "# Carga de librerías"
      ],
      "metadata": {
        "id": "PAwUFa6Z9Svr"
      }
    },
    {
      "cell_type": "code",
      "execution_count": null,
      "metadata": {
        "id": "TxpL6xiQ9Lfn"
      },
      "outputs": [],
      "source": [
        "import pandas as pd\n",
        "import numpy as np\n",
        "import matplotlib.pyplot as plt\n",
        "import seaborn as sns"
      ]
    },
    {
      "cell_type": "markdown",
      "source": [
        "# Carga de data\n",
        "\n",
        "**Descripción.** Encuesta de preferencias alimentarias 2019\n",
        "\n",
        "Esta Encuesta se realizó entre participantes de diferentes países y demografía."
      ],
      "metadata": {
        "id": "8XTcVWiW9h4j"
      }
    },
    {
      "cell_type": "code",
      "source": [
        "!wget https://www.dropbox.com/s/ybszpwz4tk4mz6c/Food_Preference.csv"
      ],
      "metadata": {
        "colab": {
          "base_uri": "https://localhost:8080/"
        },
        "id": "SGtEwzJPphvr",
        "outputId": "ff969c9d-e38d-49af-a514-8e14943454f1"
      },
      "execution_count": null,
      "outputs": [
        {
          "output_type": "stream",
          "name": "stdout",
          "text": [
            "--2024-01-04 17:51:54--  https://www.dropbox.com/s/ybszpwz4tk4mz6c/Food_Preference.csv\n",
            "Resolving www.dropbox.com (www.dropbox.com)... 162.125.80.18, 2620:100:601f:18::a27d:912\n",
            "Connecting to www.dropbox.com (www.dropbox.com)|162.125.80.18|:443... connected.\n",
            "HTTP request sent, awaiting response... 302 Found\n",
            "Location: /s/raw/ybszpwz4tk4mz6c/Food_Preference.csv [following]\n",
            "--2024-01-04 17:51:55--  https://www.dropbox.com/s/raw/ybszpwz4tk4mz6c/Food_Preference.csv\n",
            "Reusing existing connection to www.dropbox.com:443.\n",
            "HTTP request sent, awaiting response... 302 Found\n",
            "Location: https://uc4302f6cbefc46f5078f6dcbd62.dl.dropboxusercontent.com/cd/0/inline/CKunwEVC7zMkfmtbFga7x44x8TBiCVYhmrewsdIahkIxS_mIP1jcbsJFy_Jmiik6iLUbVL_GWGiYTUo-YAJXgjQ5kfy37gvynzMYi8VTqpXvlf6xZCWgD6tohm6Bm6OIuLOhHaaqV--ALMCbqOjy9rJB/file# [following]\n",
            "--2024-01-04 17:51:55--  https://uc4302f6cbefc46f5078f6dcbd62.dl.dropboxusercontent.com/cd/0/inline/CKunwEVC7zMkfmtbFga7x44x8TBiCVYhmrewsdIahkIxS_mIP1jcbsJFy_Jmiik6iLUbVL_GWGiYTUo-YAJXgjQ5kfy37gvynzMYi8VTqpXvlf6xZCWgD6tohm6Bm6OIuLOhHaaqV--ALMCbqOjy9rJB/file\n",
            "Resolving uc4302f6cbefc46f5078f6dcbd62.dl.dropboxusercontent.com (uc4302f6cbefc46f5078f6dcbd62.dl.dropboxusercontent.com)... 162.125.80.15, 2620:100:6030:15::a27d:500f\n",
            "Connecting to uc4302f6cbefc46f5078f6dcbd62.dl.dropboxusercontent.com (uc4302f6cbefc46f5078f6dcbd62.dl.dropboxusercontent.com)|162.125.80.15|:443... connected.\n",
            "HTTP request sent, awaiting response... 200 OK\n",
            "Length: 24913 (24K) [text/plain]\n",
            "Saving to: ‘Food_Preference.csv’\n",
            "\n",
            "Food_Preference.csv 100%[===================>]  24.33K   158KB/s    in 0.2s    \n",
            "\n",
            "2024-01-04 17:51:56 (158 KB/s) - ‘Food_Preference.csv’ saved [24913/24913]\n",
            "\n"
          ]
        }
      ]
    },
    {
      "cell_type": "code",
      "source": [
        "data_frame = pd.read_csv(\"Food_Preference.csv\")\n",
        "data_frame"
      ],
      "metadata": {
        "colab": {
          "base_uri": "https://localhost:8080/",
          "height": 424
        },
        "id": "nqXlOT9G9kYU",
        "outputId": "3986d3ff-b4af-4d1f-d063-349f1933b3df"
      },
      "execution_count": null,
      "outputs": [
        {
          "output_type": "execute_result",
          "data": {
            "text/plain": [
              "                        Timestamp Participant_ID  Gender Nationality  Age  \\\n",
              "0     2019/05/07 2:59:13 PM GMT+8         FPS001    Male      Indian   24   \n",
              "1     2019/05/07 2:59:45 PM GMT+8         FPS002  Female      Indian   22   \n",
              "2     2019/05/07 3:00:05 PM GMT+8         FPS003    Male      Indian   31   \n",
              "3     2019/05/07 3:00:11 PM GMT+8         FPS004  Female      Indian   25   \n",
              "4     2019/05/07 3:02:50 PM GMT+8         FPS005    Male      Indian   27   \n",
              "..                            ...            ...     ...         ...  ...   \n",
              "283   2019/05/10 9:24:00 AM GMT+8         FPS284    Male      Indian   27   \n",
              "284   2019/05/10 9:32:54 AM GMT+8         FPS285    Male      Indian   24   \n",
              "285  2019/05/10 12:09:17 PM GMT+8         FPS286    Male      Indian   25   \n",
              "286  2019/05/10 12:52:17 PM GMT+8         FPS287    Male      Indian   27   \n",
              "287  2019/05/10 12:55:42 PM GMT+8         FPS288    Male      Indian   27   \n",
              "\n",
              "                 Food              Juice Dessert  \n",
              "0    Traditional food        Fresh Juice   Maybe  \n",
              "1        Western Food  Carbonated drinks     Yes  \n",
              "2        Western Food        Fresh Juice   Maybe  \n",
              "3    Traditional food        Fresh Juice   Maybe  \n",
              "4    Traditional food        Fresh Juice   Maybe  \n",
              "..                ...                ...     ...  \n",
              "283      Western Food        Fresh Juice     Yes  \n",
              "284  Traditional food        Fresh Juice     Yes  \n",
              "285  Traditional food        Fresh Juice     Yes  \n",
              "286  Traditional food        Fresh Juice     Yes  \n",
              "287  Traditional food        Fresh Juice      No  \n",
              "\n",
              "[288 rows x 8 columns]"
            ],
            "text/html": [
              "\n",
              "  <div id=\"df-4b1db810-07c5-4981-ae15-27e5cb0526b2\" class=\"colab-df-container\">\n",
              "    <div>\n",
              "<style scoped>\n",
              "    .dataframe tbody tr th:only-of-type {\n",
              "        vertical-align: middle;\n",
              "    }\n",
              "\n",
              "    .dataframe tbody tr th {\n",
              "        vertical-align: top;\n",
              "    }\n",
              "\n",
              "    .dataframe thead th {\n",
              "        text-align: right;\n",
              "    }\n",
              "</style>\n",
              "<table border=\"1\" class=\"dataframe\">\n",
              "  <thead>\n",
              "    <tr style=\"text-align: right;\">\n",
              "      <th></th>\n",
              "      <th>Timestamp</th>\n",
              "      <th>Participant_ID</th>\n",
              "      <th>Gender</th>\n",
              "      <th>Nationality</th>\n",
              "      <th>Age</th>\n",
              "      <th>Food</th>\n",
              "      <th>Juice</th>\n",
              "      <th>Dessert</th>\n",
              "    </tr>\n",
              "  </thead>\n",
              "  <tbody>\n",
              "    <tr>\n",
              "      <th>0</th>\n",
              "      <td>2019/05/07 2:59:13 PM GMT+8</td>\n",
              "      <td>FPS001</td>\n",
              "      <td>Male</td>\n",
              "      <td>Indian</td>\n",
              "      <td>24</td>\n",
              "      <td>Traditional food</td>\n",
              "      <td>Fresh Juice</td>\n",
              "      <td>Maybe</td>\n",
              "    </tr>\n",
              "    <tr>\n",
              "      <th>1</th>\n",
              "      <td>2019/05/07 2:59:45 PM GMT+8</td>\n",
              "      <td>FPS002</td>\n",
              "      <td>Female</td>\n",
              "      <td>Indian</td>\n",
              "      <td>22</td>\n",
              "      <td>Western Food</td>\n",
              "      <td>Carbonated drinks</td>\n",
              "      <td>Yes</td>\n",
              "    </tr>\n",
              "    <tr>\n",
              "      <th>2</th>\n",
              "      <td>2019/05/07 3:00:05 PM GMT+8</td>\n",
              "      <td>FPS003</td>\n",
              "      <td>Male</td>\n",
              "      <td>Indian</td>\n",
              "      <td>31</td>\n",
              "      <td>Western Food</td>\n",
              "      <td>Fresh Juice</td>\n",
              "      <td>Maybe</td>\n",
              "    </tr>\n",
              "    <tr>\n",
              "      <th>3</th>\n",
              "      <td>2019/05/07 3:00:11 PM GMT+8</td>\n",
              "      <td>FPS004</td>\n",
              "      <td>Female</td>\n",
              "      <td>Indian</td>\n",
              "      <td>25</td>\n",
              "      <td>Traditional food</td>\n",
              "      <td>Fresh Juice</td>\n",
              "      <td>Maybe</td>\n",
              "    </tr>\n",
              "    <tr>\n",
              "      <th>4</th>\n",
              "      <td>2019/05/07 3:02:50 PM GMT+8</td>\n",
              "      <td>FPS005</td>\n",
              "      <td>Male</td>\n",
              "      <td>Indian</td>\n",
              "      <td>27</td>\n",
              "      <td>Traditional food</td>\n",
              "      <td>Fresh Juice</td>\n",
              "      <td>Maybe</td>\n",
              "    </tr>\n",
              "    <tr>\n",
              "      <th>...</th>\n",
              "      <td>...</td>\n",
              "      <td>...</td>\n",
              "      <td>...</td>\n",
              "      <td>...</td>\n",
              "      <td>...</td>\n",
              "      <td>...</td>\n",
              "      <td>...</td>\n",
              "      <td>...</td>\n",
              "    </tr>\n",
              "    <tr>\n",
              "      <th>283</th>\n",
              "      <td>2019/05/10 9:24:00 AM GMT+8</td>\n",
              "      <td>FPS284</td>\n",
              "      <td>Male</td>\n",
              "      <td>Indian</td>\n",
              "      <td>27</td>\n",
              "      <td>Western Food</td>\n",
              "      <td>Fresh Juice</td>\n",
              "      <td>Yes</td>\n",
              "    </tr>\n",
              "    <tr>\n",
              "      <th>284</th>\n",
              "      <td>2019/05/10 9:32:54 AM GMT+8</td>\n",
              "      <td>FPS285</td>\n",
              "      <td>Male</td>\n",
              "      <td>Indian</td>\n",
              "      <td>24</td>\n",
              "      <td>Traditional food</td>\n",
              "      <td>Fresh Juice</td>\n",
              "      <td>Yes</td>\n",
              "    </tr>\n",
              "    <tr>\n",
              "      <th>285</th>\n",
              "      <td>2019/05/10 12:09:17 PM GMT+8</td>\n",
              "      <td>FPS286</td>\n",
              "      <td>Male</td>\n",
              "      <td>Indian</td>\n",
              "      <td>25</td>\n",
              "      <td>Traditional food</td>\n",
              "      <td>Fresh Juice</td>\n",
              "      <td>Yes</td>\n",
              "    </tr>\n",
              "    <tr>\n",
              "      <th>286</th>\n",
              "      <td>2019/05/10 12:52:17 PM GMT+8</td>\n",
              "      <td>FPS287</td>\n",
              "      <td>Male</td>\n",
              "      <td>Indian</td>\n",
              "      <td>27</td>\n",
              "      <td>Traditional food</td>\n",
              "      <td>Fresh Juice</td>\n",
              "      <td>Yes</td>\n",
              "    </tr>\n",
              "    <tr>\n",
              "      <th>287</th>\n",
              "      <td>2019/05/10 12:55:42 PM GMT+8</td>\n",
              "      <td>FPS288</td>\n",
              "      <td>Male</td>\n",
              "      <td>Indian</td>\n",
              "      <td>27</td>\n",
              "      <td>Traditional food</td>\n",
              "      <td>Fresh Juice</td>\n",
              "      <td>No</td>\n",
              "    </tr>\n",
              "  </tbody>\n",
              "</table>\n",
              "<p>288 rows × 8 columns</p>\n",
              "</div>\n",
              "    <div class=\"colab-df-buttons\">\n",
              "\n",
              "  <div class=\"colab-df-container\">\n",
              "    <button class=\"colab-df-convert\" onclick=\"convertToInteractive('df-4b1db810-07c5-4981-ae15-27e5cb0526b2')\"\n",
              "            title=\"Convert this dataframe to an interactive table.\"\n",
              "            style=\"display:none;\">\n",
              "\n",
              "  <svg xmlns=\"http://www.w3.org/2000/svg\" height=\"24px\" viewBox=\"0 -960 960 960\">\n",
              "    <path d=\"M120-120v-720h720v720H120Zm60-500h600v-160H180v160Zm220 220h160v-160H400v160Zm0 220h160v-160H400v160ZM180-400h160v-160H180v160Zm440 0h160v-160H620v160ZM180-180h160v-160H180v160Zm440 0h160v-160H620v160Z\"/>\n",
              "  </svg>\n",
              "    </button>\n",
              "\n",
              "  <style>\n",
              "    .colab-df-container {\n",
              "      display:flex;\n",
              "      gap: 12px;\n",
              "    }\n",
              "\n",
              "    .colab-df-convert {\n",
              "      background-color: #E8F0FE;\n",
              "      border: none;\n",
              "      border-radius: 50%;\n",
              "      cursor: pointer;\n",
              "      display: none;\n",
              "      fill: #1967D2;\n",
              "      height: 32px;\n",
              "      padding: 0 0 0 0;\n",
              "      width: 32px;\n",
              "    }\n",
              "\n",
              "    .colab-df-convert:hover {\n",
              "      background-color: #E2EBFA;\n",
              "      box-shadow: 0px 1px 2px rgba(60, 64, 67, 0.3), 0px 1px 3px 1px rgba(60, 64, 67, 0.15);\n",
              "      fill: #174EA6;\n",
              "    }\n",
              "\n",
              "    .colab-df-buttons div {\n",
              "      margin-bottom: 4px;\n",
              "    }\n",
              "\n",
              "    [theme=dark] .colab-df-convert {\n",
              "      background-color: #3B4455;\n",
              "      fill: #D2E3FC;\n",
              "    }\n",
              "\n",
              "    [theme=dark] .colab-df-convert:hover {\n",
              "      background-color: #434B5C;\n",
              "      box-shadow: 0px 1px 3px 1px rgba(0, 0, 0, 0.15);\n",
              "      filter: drop-shadow(0px 1px 2px rgba(0, 0, 0, 0.3));\n",
              "      fill: #FFFFFF;\n",
              "    }\n",
              "  </style>\n",
              "\n",
              "    <script>\n",
              "      const buttonEl =\n",
              "        document.querySelector('#df-4b1db810-07c5-4981-ae15-27e5cb0526b2 button.colab-df-convert');\n",
              "      buttonEl.style.display =\n",
              "        google.colab.kernel.accessAllowed ? 'block' : 'none';\n",
              "\n",
              "      async function convertToInteractive(key) {\n",
              "        const element = document.querySelector('#df-4b1db810-07c5-4981-ae15-27e5cb0526b2');\n",
              "        const dataTable =\n",
              "          await google.colab.kernel.invokeFunction('convertToInteractive',\n",
              "                                                    [key], {});\n",
              "        if (!dataTable) return;\n",
              "\n",
              "        const docLinkHtml = 'Like what you see? Visit the ' +\n",
              "          '<a target=\"_blank\" href=https://colab.research.google.com/notebooks/data_table.ipynb>data table notebook</a>'\n",
              "          + ' to learn more about interactive tables.';\n",
              "        element.innerHTML = '';\n",
              "        dataTable['output_type'] = 'display_data';\n",
              "        await google.colab.output.renderOutput(dataTable, element);\n",
              "        const docLink = document.createElement('div');\n",
              "        docLink.innerHTML = docLinkHtml;\n",
              "        element.appendChild(docLink);\n",
              "      }\n",
              "    </script>\n",
              "  </div>\n",
              "\n",
              "\n",
              "<div id=\"df-9d1bbaa3-d051-4ae8-9f1e-e5caf51e397c\">\n",
              "  <button class=\"colab-df-quickchart\" onclick=\"quickchart('df-9d1bbaa3-d051-4ae8-9f1e-e5caf51e397c')\"\n",
              "            title=\"Suggest charts\"\n",
              "            style=\"display:none;\">\n",
              "\n",
              "<svg xmlns=\"http://www.w3.org/2000/svg\" height=\"24px\"viewBox=\"0 0 24 24\"\n",
              "     width=\"24px\">\n",
              "    <g>\n",
              "        <path d=\"M19 3H5c-1.1 0-2 .9-2 2v14c0 1.1.9 2 2 2h14c1.1 0 2-.9 2-2V5c0-1.1-.9-2-2-2zM9 17H7v-7h2v7zm4 0h-2V7h2v10zm4 0h-2v-4h2v4z\"/>\n",
              "    </g>\n",
              "</svg>\n",
              "  </button>\n",
              "\n",
              "<style>\n",
              "  .colab-df-quickchart {\n",
              "      --bg-color: #E8F0FE;\n",
              "      --fill-color: #1967D2;\n",
              "      --hover-bg-color: #E2EBFA;\n",
              "      --hover-fill-color: #174EA6;\n",
              "      --disabled-fill-color: #AAA;\n",
              "      --disabled-bg-color: #DDD;\n",
              "  }\n",
              "\n",
              "  [theme=dark] .colab-df-quickchart {\n",
              "      --bg-color: #3B4455;\n",
              "      --fill-color: #D2E3FC;\n",
              "      --hover-bg-color: #434B5C;\n",
              "      --hover-fill-color: #FFFFFF;\n",
              "      --disabled-bg-color: #3B4455;\n",
              "      --disabled-fill-color: #666;\n",
              "  }\n",
              "\n",
              "  .colab-df-quickchart {\n",
              "    background-color: var(--bg-color);\n",
              "    border: none;\n",
              "    border-radius: 50%;\n",
              "    cursor: pointer;\n",
              "    display: none;\n",
              "    fill: var(--fill-color);\n",
              "    height: 32px;\n",
              "    padding: 0;\n",
              "    width: 32px;\n",
              "  }\n",
              "\n",
              "  .colab-df-quickchart:hover {\n",
              "    background-color: var(--hover-bg-color);\n",
              "    box-shadow: 0 1px 2px rgba(60, 64, 67, 0.3), 0 1px 3px 1px rgba(60, 64, 67, 0.15);\n",
              "    fill: var(--button-hover-fill-color);\n",
              "  }\n",
              "\n",
              "  .colab-df-quickchart-complete:disabled,\n",
              "  .colab-df-quickchart-complete:disabled:hover {\n",
              "    background-color: var(--disabled-bg-color);\n",
              "    fill: var(--disabled-fill-color);\n",
              "    box-shadow: none;\n",
              "  }\n",
              "\n",
              "  .colab-df-spinner {\n",
              "    border: 2px solid var(--fill-color);\n",
              "    border-color: transparent;\n",
              "    border-bottom-color: var(--fill-color);\n",
              "    animation:\n",
              "      spin 1s steps(1) infinite;\n",
              "  }\n",
              "\n",
              "  @keyframes spin {\n",
              "    0% {\n",
              "      border-color: transparent;\n",
              "      border-bottom-color: var(--fill-color);\n",
              "      border-left-color: var(--fill-color);\n",
              "    }\n",
              "    20% {\n",
              "      border-color: transparent;\n",
              "      border-left-color: var(--fill-color);\n",
              "      border-top-color: var(--fill-color);\n",
              "    }\n",
              "    30% {\n",
              "      border-color: transparent;\n",
              "      border-left-color: var(--fill-color);\n",
              "      border-top-color: var(--fill-color);\n",
              "      border-right-color: var(--fill-color);\n",
              "    }\n",
              "    40% {\n",
              "      border-color: transparent;\n",
              "      border-right-color: var(--fill-color);\n",
              "      border-top-color: var(--fill-color);\n",
              "    }\n",
              "    60% {\n",
              "      border-color: transparent;\n",
              "      border-right-color: var(--fill-color);\n",
              "    }\n",
              "    80% {\n",
              "      border-color: transparent;\n",
              "      border-right-color: var(--fill-color);\n",
              "      border-bottom-color: var(--fill-color);\n",
              "    }\n",
              "    90% {\n",
              "      border-color: transparent;\n",
              "      border-bottom-color: var(--fill-color);\n",
              "    }\n",
              "  }\n",
              "</style>\n",
              "\n",
              "  <script>\n",
              "    async function quickchart(key) {\n",
              "      const quickchartButtonEl =\n",
              "        document.querySelector('#' + key + ' button');\n",
              "      quickchartButtonEl.disabled = true;  // To prevent multiple clicks.\n",
              "      quickchartButtonEl.classList.add('colab-df-spinner');\n",
              "      try {\n",
              "        const charts = await google.colab.kernel.invokeFunction(\n",
              "            'suggestCharts', [key], {});\n",
              "      } catch (error) {\n",
              "        console.error('Error during call to suggestCharts:', error);\n",
              "      }\n",
              "      quickchartButtonEl.classList.remove('colab-df-spinner');\n",
              "      quickchartButtonEl.classList.add('colab-df-quickchart-complete');\n",
              "    }\n",
              "    (() => {\n",
              "      let quickchartButtonEl =\n",
              "        document.querySelector('#df-9d1bbaa3-d051-4ae8-9f1e-e5caf51e397c button');\n",
              "      quickchartButtonEl.style.display =\n",
              "        google.colab.kernel.accessAllowed ? 'block' : 'none';\n",
              "    })();\n",
              "  </script>\n",
              "</div>\n",
              "    </div>\n",
              "  </div>\n"
            ]
          },
          "metadata": {},
          "execution_count": 4
        }
      ]
    },
    {
      "cell_type": "code",
      "source": [
        "# Forma de acceder a una columan de DatFrame\n",
        "data_frame.Gender"
      ],
      "metadata": {
        "colab": {
          "base_uri": "https://localhost:8080/"
        },
        "id": "eEZZ7g5mDJtK",
        "outputId": "2bad6489-af6f-4319-c189-e7783e1fc110"
      },
      "execution_count": null,
      "outputs": [
        {
          "output_type": "execute_result",
          "data": {
            "text/plain": [
              "0        Male\n",
              "1      Female\n",
              "2        Male\n",
              "3      Female\n",
              "4        Male\n",
              "        ...  \n",
              "283      Male\n",
              "284      Male\n",
              "285      Male\n",
              "286      Male\n",
              "287      Male\n",
              "Name: Gender, Length: 288, dtype: object"
            ]
          },
          "metadata": {},
          "execution_count": 5
        }
      ]
    },
    {
      "cell_type": "code",
      "source": [
        "# Recuerde que hay otra forma de acceder a la columna\n",
        "data_frame['Gender']"
      ],
      "metadata": {
        "colab": {
          "base_uri": "https://localhost:8080/"
        },
        "id": "CmqS9cNBDUmu",
        "outputId": "57305c3a-4b19-44e0-e23d-469c76c90705"
      },
      "execution_count": null,
      "outputs": [
        {
          "output_type": "execute_result",
          "data": {
            "text/plain": [
              "0        Male\n",
              "1      Female\n",
              "2        Male\n",
              "3      Female\n",
              "4        Male\n",
              "        ...  \n",
              "283      Male\n",
              "284      Male\n",
              "285      Male\n",
              "286      Male\n",
              "287      Male\n",
              "Name: Gender, Length: 288, dtype: object"
            ]
          },
          "metadata": {},
          "execution_count": 6
        }
      ]
    },
    {
      "cell_type": "code",
      "source": [
        "# Si quiero acceder a más de una columna a la vez\n",
        "data_frame[['Gender', 'Nationality']]"
      ],
      "metadata": {
        "colab": {
          "base_uri": "https://localhost:8080/",
          "height": 424
        },
        "id": "1kl7r-CRjYVI",
        "outputId": "37f3c945-c2f1-4497-84a9-8cb53931eaa2"
      },
      "execution_count": null,
      "outputs": [
        {
          "output_type": "execute_result",
          "data": {
            "text/plain": [
              "     Gender Nationality\n",
              "0      Male      Indian\n",
              "1    Female      Indian\n",
              "2      Male      Indian\n",
              "3    Female      Indian\n",
              "4      Male      Indian\n",
              "..      ...         ...\n",
              "283    Male      Indian\n",
              "284    Male      Indian\n",
              "285    Male      Indian\n",
              "286    Male      Indian\n",
              "287    Male      Indian\n",
              "\n",
              "[288 rows x 2 columns]"
            ],
            "text/html": [
              "\n",
              "  <div id=\"df-31510ce8-734e-453e-adcf-431dc5c7a383\" class=\"colab-df-container\">\n",
              "    <div>\n",
              "<style scoped>\n",
              "    .dataframe tbody tr th:only-of-type {\n",
              "        vertical-align: middle;\n",
              "    }\n",
              "\n",
              "    .dataframe tbody tr th {\n",
              "        vertical-align: top;\n",
              "    }\n",
              "\n",
              "    .dataframe thead th {\n",
              "        text-align: right;\n",
              "    }\n",
              "</style>\n",
              "<table border=\"1\" class=\"dataframe\">\n",
              "  <thead>\n",
              "    <tr style=\"text-align: right;\">\n",
              "      <th></th>\n",
              "      <th>Gender</th>\n",
              "      <th>Nationality</th>\n",
              "    </tr>\n",
              "  </thead>\n",
              "  <tbody>\n",
              "    <tr>\n",
              "      <th>0</th>\n",
              "      <td>Male</td>\n",
              "      <td>Indian</td>\n",
              "    </tr>\n",
              "    <tr>\n",
              "      <th>1</th>\n",
              "      <td>Female</td>\n",
              "      <td>Indian</td>\n",
              "    </tr>\n",
              "    <tr>\n",
              "      <th>2</th>\n",
              "      <td>Male</td>\n",
              "      <td>Indian</td>\n",
              "    </tr>\n",
              "    <tr>\n",
              "      <th>3</th>\n",
              "      <td>Female</td>\n",
              "      <td>Indian</td>\n",
              "    </tr>\n",
              "    <tr>\n",
              "      <th>4</th>\n",
              "      <td>Male</td>\n",
              "      <td>Indian</td>\n",
              "    </tr>\n",
              "    <tr>\n",
              "      <th>...</th>\n",
              "      <td>...</td>\n",
              "      <td>...</td>\n",
              "    </tr>\n",
              "    <tr>\n",
              "      <th>283</th>\n",
              "      <td>Male</td>\n",
              "      <td>Indian</td>\n",
              "    </tr>\n",
              "    <tr>\n",
              "      <th>284</th>\n",
              "      <td>Male</td>\n",
              "      <td>Indian</td>\n",
              "    </tr>\n",
              "    <tr>\n",
              "      <th>285</th>\n",
              "      <td>Male</td>\n",
              "      <td>Indian</td>\n",
              "    </tr>\n",
              "    <tr>\n",
              "      <th>286</th>\n",
              "      <td>Male</td>\n",
              "      <td>Indian</td>\n",
              "    </tr>\n",
              "    <tr>\n",
              "      <th>287</th>\n",
              "      <td>Male</td>\n",
              "      <td>Indian</td>\n",
              "    </tr>\n",
              "  </tbody>\n",
              "</table>\n",
              "<p>288 rows × 2 columns</p>\n",
              "</div>\n",
              "    <div class=\"colab-df-buttons\">\n",
              "\n",
              "  <div class=\"colab-df-container\">\n",
              "    <button class=\"colab-df-convert\" onclick=\"convertToInteractive('df-31510ce8-734e-453e-adcf-431dc5c7a383')\"\n",
              "            title=\"Convert this dataframe to an interactive table.\"\n",
              "            style=\"display:none;\">\n",
              "\n",
              "  <svg xmlns=\"http://www.w3.org/2000/svg\" height=\"24px\" viewBox=\"0 -960 960 960\">\n",
              "    <path d=\"M120-120v-720h720v720H120Zm60-500h600v-160H180v160Zm220 220h160v-160H400v160Zm0 220h160v-160H400v160ZM180-400h160v-160H180v160Zm440 0h160v-160H620v160ZM180-180h160v-160H180v160Zm440 0h160v-160H620v160Z\"/>\n",
              "  </svg>\n",
              "    </button>\n",
              "\n",
              "  <style>\n",
              "    .colab-df-container {\n",
              "      display:flex;\n",
              "      gap: 12px;\n",
              "    }\n",
              "\n",
              "    .colab-df-convert {\n",
              "      background-color: #E8F0FE;\n",
              "      border: none;\n",
              "      border-radius: 50%;\n",
              "      cursor: pointer;\n",
              "      display: none;\n",
              "      fill: #1967D2;\n",
              "      height: 32px;\n",
              "      padding: 0 0 0 0;\n",
              "      width: 32px;\n",
              "    }\n",
              "\n",
              "    .colab-df-convert:hover {\n",
              "      background-color: #E2EBFA;\n",
              "      box-shadow: 0px 1px 2px rgba(60, 64, 67, 0.3), 0px 1px 3px 1px rgba(60, 64, 67, 0.15);\n",
              "      fill: #174EA6;\n",
              "    }\n",
              "\n",
              "    .colab-df-buttons div {\n",
              "      margin-bottom: 4px;\n",
              "    }\n",
              "\n",
              "    [theme=dark] .colab-df-convert {\n",
              "      background-color: #3B4455;\n",
              "      fill: #D2E3FC;\n",
              "    }\n",
              "\n",
              "    [theme=dark] .colab-df-convert:hover {\n",
              "      background-color: #434B5C;\n",
              "      box-shadow: 0px 1px 3px 1px rgba(0, 0, 0, 0.15);\n",
              "      filter: drop-shadow(0px 1px 2px rgba(0, 0, 0, 0.3));\n",
              "      fill: #FFFFFF;\n",
              "    }\n",
              "  </style>\n",
              "\n",
              "    <script>\n",
              "      const buttonEl =\n",
              "        document.querySelector('#df-31510ce8-734e-453e-adcf-431dc5c7a383 button.colab-df-convert');\n",
              "      buttonEl.style.display =\n",
              "        google.colab.kernel.accessAllowed ? 'block' : 'none';\n",
              "\n",
              "      async function convertToInteractive(key) {\n",
              "        const element = document.querySelector('#df-31510ce8-734e-453e-adcf-431dc5c7a383');\n",
              "        const dataTable =\n",
              "          await google.colab.kernel.invokeFunction('convertToInteractive',\n",
              "                                                    [key], {});\n",
              "        if (!dataTable) return;\n",
              "\n",
              "        const docLinkHtml = 'Like what you see? Visit the ' +\n",
              "          '<a target=\"_blank\" href=https://colab.research.google.com/notebooks/data_table.ipynb>data table notebook</a>'\n",
              "          + ' to learn more about interactive tables.';\n",
              "        element.innerHTML = '';\n",
              "        dataTable['output_type'] = 'display_data';\n",
              "        await google.colab.output.renderOutput(dataTable, element);\n",
              "        const docLink = document.createElement('div');\n",
              "        docLink.innerHTML = docLinkHtml;\n",
              "        element.appendChild(docLink);\n",
              "      }\n",
              "    </script>\n",
              "  </div>\n",
              "\n",
              "\n",
              "<div id=\"df-2d1b482f-7ed0-4e6b-a247-9d89844357cd\">\n",
              "  <button class=\"colab-df-quickchart\" onclick=\"quickchart('df-2d1b482f-7ed0-4e6b-a247-9d89844357cd')\"\n",
              "            title=\"Suggest charts\"\n",
              "            style=\"display:none;\">\n",
              "\n",
              "<svg xmlns=\"http://www.w3.org/2000/svg\" height=\"24px\"viewBox=\"0 0 24 24\"\n",
              "     width=\"24px\">\n",
              "    <g>\n",
              "        <path d=\"M19 3H5c-1.1 0-2 .9-2 2v14c0 1.1.9 2 2 2h14c1.1 0 2-.9 2-2V5c0-1.1-.9-2-2-2zM9 17H7v-7h2v7zm4 0h-2V7h2v10zm4 0h-2v-4h2v4z\"/>\n",
              "    </g>\n",
              "</svg>\n",
              "  </button>\n",
              "\n",
              "<style>\n",
              "  .colab-df-quickchart {\n",
              "      --bg-color: #E8F0FE;\n",
              "      --fill-color: #1967D2;\n",
              "      --hover-bg-color: #E2EBFA;\n",
              "      --hover-fill-color: #174EA6;\n",
              "      --disabled-fill-color: #AAA;\n",
              "      --disabled-bg-color: #DDD;\n",
              "  }\n",
              "\n",
              "  [theme=dark] .colab-df-quickchart {\n",
              "      --bg-color: #3B4455;\n",
              "      --fill-color: #D2E3FC;\n",
              "      --hover-bg-color: #434B5C;\n",
              "      --hover-fill-color: #FFFFFF;\n",
              "      --disabled-bg-color: #3B4455;\n",
              "      --disabled-fill-color: #666;\n",
              "  }\n",
              "\n",
              "  .colab-df-quickchart {\n",
              "    background-color: var(--bg-color);\n",
              "    border: none;\n",
              "    border-radius: 50%;\n",
              "    cursor: pointer;\n",
              "    display: none;\n",
              "    fill: var(--fill-color);\n",
              "    height: 32px;\n",
              "    padding: 0;\n",
              "    width: 32px;\n",
              "  }\n",
              "\n",
              "  .colab-df-quickchart:hover {\n",
              "    background-color: var(--hover-bg-color);\n",
              "    box-shadow: 0 1px 2px rgba(60, 64, 67, 0.3), 0 1px 3px 1px rgba(60, 64, 67, 0.15);\n",
              "    fill: var(--button-hover-fill-color);\n",
              "  }\n",
              "\n",
              "  .colab-df-quickchart-complete:disabled,\n",
              "  .colab-df-quickchart-complete:disabled:hover {\n",
              "    background-color: var(--disabled-bg-color);\n",
              "    fill: var(--disabled-fill-color);\n",
              "    box-shadow: none;\n",
              "  }\n",
              "\n",
              "  .colab-df-spinner {\n",
              "    border: 2px solid var(--fill-color);\n",
              "    border-color: transparent;\n",
              "    border-bottom-color: var(--fill-color);\n",
              "    animation:\n",
              "      spin 1s steps(1) infinite;\n",
              "  }\n",
              "\n",
              "  @keyframes spin {\n",
              "    0% {\n",
              "      border-color: transparent;\n",
              "      border-bottom-color: var(--fill-color);\n",
              "      border-left-color: var(--fill-color);\n",
              "    }\n",
              "    20% {\n",
              "      border-color: transparent;\n",
              "      border-left-color: var(--fill-color);\n",
              "      border-top-color: var(--fill-color);\n",
              "    }\n",
              "    30% {\n",
              "      border-color: transparent;\n",
              "      border-left-color: var(--fill-color);\n",
              "      border-top-color: var(--fill-color);\n",
              "      border-right-color: var(--fill-color);\n",
              "    }\n",
              "    40% {\n",
              "      border-color: transparent;\n",
              "      border-right-color: var(--fill-color);\n",
              "      border-top-color: var(--fill-color);\n",
              "    }\n",
              "    60% {\n",
              "      border-color: transparent;\n",
              "      border-right-color: var(--fill-color);\n",
              "    }\n",
              "    80% {\n",
              "      border-color: transparent;\n",
              "      border-right-color: var(--fill-color);\n",
              "      border-bottom-color: var(--fill-color);\n",
              "    }\n",
              "    90% {\n",
              "      border-color: transparent;\n",
              "      border-bottom-color: var(--fill-color);\n",
              "    }\n",
              "  }\n",
              "</style>\n",
              "\n",
              "  <script>\n",
              "    async function quickchart(key) {\n",
              "      const quickchartButtonEl =\n",
              "        document.querySelector('#' + key + ' button');\n",
              "      quickchartButtonEl.disabled = true;  // To prevent multiple clicks.\n",
              "      quickchartButtonEl.classList.add('colab-df-spinner');\n",
              "      try {\n",
              "        const charts = await google.colab.kernel.invokeFunction(\n",
              "            'suggestCharts', [key], {});\n",
              "      } catch (error) {\n",
              "        console.error('Error during call to suggestCharts:', error);\n",
              "      }\n",
              "      quickchartButtonEl.classList.remove('colab-df-spinner');\n",
              "      quickchartButtonEl.classList.add('colab-df-quickchart-complete');\n",
              "    }\n",
              "    (() => {\n",
              "      let quickchartButtonEl =\n",
              "        document.querySelector('#df-2d1b482f-7ed0-4e6b-a247-9d89844357cd button');\n",
              "      quickchartButtonEl.style.display =\n",
              "        google.colab.kernel.accessAllowed ? 'block' : 'none';\n",
              "    })();\n",
              "  </script>\n",
              "</div>\n",
              "    </div>\n",
              "  </div>\n"
            ]
          },
          "metadata": {},
          "execution_count": 7
        }
      ]
    },
    {
      "cell_type": "code",
      "source": [
        "# Obtiene la cantidad de filas y columnas de dataframe\n",
        "data_frame.shape"
      ],
      "metadata": {
        "colab": {
          "base_uri": "https://localhost:8080/"
        },
        "id": "fvjjM4Dt_D44",
        "outputId": "9c39a53b-9a62-495a-b830-39cf6fa5389a"
      },
      "execution_count": null,
      "outputs": [
        {
          "output_type": "execute_result",
          "data": {
            "text/plain": [
              "(288, 8)"
            ]
          },
          "metadata": {},
          "execution_count": 8
        }
      ]
    },
    {
      "cell_type": "code",
      "source": [
        "# Obtiene el nombre de las columnas\n",
        "data_frame.columns"
      ],
      "metadata": {
        "colab": {
          "base_uri": "https://localhost:8080/"
        },
        "id": "db2sQQbI_Ni5",
        "outputId": "5cdfd3e9-f3ea-40b2-c147-05c16cdfdae0"
      },
      "execution_count": null,
      "outputs": [
        {
          "output_type": "execute_result",
          "data": {
            "text/plain": [
              "Index(['Timestamp', 'Participant_ID', 'Gender', 'Nationality', 'Age', 'Food',\n",
              "       'Juice', 'Dessert'],\n",
              "      dtype='object')"
            ]
          },
          "metadata": {},
          "execution_count": 9
        }
      ]
    },
    {
      "cell_type": "markdown",
      "source": [
        "# Motivación - Qué se puede hacer\n",
        "\n",
        "Se podrían responder a las siguientes preguntas:\n",
        "\n",
        "+ ¿Quiénes piden más postres, hombres o mujeres?\n",
        "+ ¿Cuál es la preferencia de los encuestados, considerando género y tipo de comida?\n",
        "+ ¿Quiénes son más indecisos a la hora de pedir postre: los hombres o las mujeres?\n",
        "+ ¿Quiénes prefieren más la comida occidental, los hombres o las mujeres?\n",
        "+ ¿Cuál es el promedio de edad de las personas que prefieren la comida tradicional?"
      ],
      "metadata": {
        "id": "r_5L60b6L7j9"
      }
    },
    {
      "cell_type": "markdown",
      "source": [
        "# Análisis exploratorio"
      ],
      "metadata": {
        "id": "YE8QdB3l_Buk"
      }
    },
    {
      "cell_type": "markdown",
      "source": [
        "## Tipos de variables"
      ],
      "metadata": {
        "id": "PHsqFNRb_WE7"
      }
    },
    {
      "cell_type": "code",
      "source": [
        "# Revisión de los tipos de datos\n",
        "data_frame.dtypes"
      ],
      "metadata": {
        "colab": {
          "base_uri": "https://localhost:8080/"
        },
        "id": "zGPWi-WI_YyK",
        "outputId": "62dc9427-1930-483d-c1a2-a746b51f51ba"
      },
      "execution_count": null,
      "outputs": [
        {
          "output_type": "execute_result",
          "data": {
            "text/plain": [
              "Timestamp         object\n",
              "Participant_ID    object\n",
              "Gender            object\n",
              "Nationality       object\n",
              "Age                int64\n",
              "Food              object\n",
              "Juice             object\n",
              "Dessert           object\n",
              "dtype: object"
            ]
          },
          "metadata": {},
          "execution_count": 24
        }
      ]
    },
    {
      "cell_type": "markdown",
      "source": [
        "Usando el resultado anterior es posible detectar que se tienen 7 variables cualitativas y 1 variable cuantitativa"
      ],
      "metadata": {
        "id": "h7v8b8PmFLMf"
      }
    },
    {
      "cell_type": "markdown",
      "source": [
        "### Variables numéricas"
      ],
      "metadata": {
        "id": "xiHf_ErR_e4z"
      }
    },
    {
      "cell_type": "code",
      "source": [
        "# Obtiene cuales son las variables numéricas\n",
        "numeric_features = data_frame.describe().columns\n",
        "numeric_features"
      ],
      "metadata": {
        "colab": {
          "base_uri": "https://localhost:8080/"
        },
        "id": "0eFdIrn-_jg0",
        "outputId": "bfa7ebe1-25c0-4be0-f2f6-87e3947e29bb"
      },
      "execution_count": null,
      "outputs": [
        {
          "output_type": "execute_result",
          "data": {
            "text/plain": [
              "Index(['Age'], dtype='object')"
            ]
          },
          "metadata": {},
          "execution_count": 10
        }
      ]
    },
    {
      "cell_type": "markdown",
      "source": [
        "## Obtención medidas estadísticas"
      ],
      "metadata": {
        "id": "aKTKPlpf_ndo"
      }
    },
    {
      "cell_type": "code",
      "source": [
        "data_frame.describe()"
      ],
      "metadata": {
        "colab": {
          "base_uri": "https://localhost:8080/",
          "height": 300
        },
        "id": "57uxS4EN_tM-",
        "outputId": "e6c7beff-f177-47fd-9acd-6192451ede3b"
      },
      "execution_count": null,
      "outputs": [
        {
          "output_type": "execute_result",
          "data": {
            "text/plain": [
              "              Age\n",
              "count  288.000000\n",
              "mean    30.597222\n",
              "std     11.180383\n",
              "min      8.000000\n",
              "25%     24.000000\n",
              "50%     28.000000\n",
              "75%     36.250000\n",
              "max     80.000000"
            ],
            "text/html": [
              "\n",
              "  <div id=\"df-9b8a7aea-28d2-4c0c-9c92-2cba40388ebf\" class=\"colab-df-container\">\n",
              "    <div>\n",
              "<style scoped>\n",
              "    .dataframe tbody tr th:only-of-type {\n",
              "        vertical-align: middle;\n",
              "    }\n",
              "\n",
              "    .dataframe tbody tr th {\n",
              "        vertical-align: top;\n",
              "    }\n",
              "\n",
              "    .dataframe thead th {\n",
              "        text-align: right;\n",
              "    }\n",
              "</style>\n",
              "<table border=\"1\" class=\"dataframe\">\n",
              "  <thead>\n",
              "    <tr style=\"text-align: right;\">\n",
              "      <th></th>\n",
              "      <th>Age</th>\n",
              "    </tr>\n",
              "  </thead>\n",
              "  <tbody>\n",
              "    <tr>\n",
              "      <th>count</th>\n",
              "      <td>288.000000</td>\n",
              "    </tr>\n",
              "    <tr>\n",
              "      <th>mean</th>\n",
              "      <td>30.597222</td>\n",
              "    </tr>\n",
              "    <tr>\n",
              "      <th>std</th>\n",
              "      <td>11.180383</td>\n",
              "    </tr>\n",
              "    <tr>\n",
              "      <th>min</th>\n",
              "      <td>8.000000</td>\n",
              "    </tr>\n",
              "    <tr>\n",
              "      <th>25%</th>\n",
              "      <td>24.000000</td>\n",
              "    </tr>\n",
              "    <tr>\n",
              "      <th>50%</th>\n",
              "      <td>28.000000</td>\n",
              "    </tr>\n",
              "    <tr>\n",
              "      <th>75%</th>\n",
              "      <td>36.250000</td>\n",
              "    </tr>\n",
              "    <tr>\n",
              "      <th>max</th>\n",
              "      <td>80.000000</td>\n",
              "    </tr>\n",
              "  </tbody>\n",
              "</table>\n",
              "</div>\n",
              "    <div class=\"colab-df-buttons\">\n",
              "\n",
              "  <div class=\"colab-df-container\">\n",
              "    <button class=\"colab-df-convert\" onclick=\"convertToInteractive('df-9b8a7aea-28d2-4c0c-9c92-2cba40388ebf')\"\n",
              "            title=\"Convert this dataframe to an interactive table.\"\n",
              "            style=\"display:none;\">\n",
              "\n",
              "  <svg xmlns=\"http://www.w3.org/2000/svg\" height=\"24px\" viewBox=\"0 -960 960 960\">\n",
              "    <path d=\"M120-120v-720h720v720H120Zm60-500h600v-160H180v160Zm220 220h160v-160H400v160Zm0 220h160v-160H400v160ZM180-400h160v-160H180v160Zm440 0h160v-160H620v160ZM180-180h160v-160H180v160Zm440 0h160v-160H620v160Z\"/>\n",
              "  </svg>\n",
              "    </button>\n",
              "\n",
              "  <style>\n",
              "    .colab-df-container {\n",
              "      display:flex;\n",
              "      gap: 12px;\n",
              "    }\n",
              "\n",
              "    .colab-df-convert {\n",
              "      background-color: #E8F0FE;\n",
              "      border: none;\n",
              "      border-radius: 50%;\n",
              "      cursor: pointer;\n",
              "      display: none;\n",
              "      fill: #1967D2;\n",
              "      height: 32px;\n",
              "      padding: 0 0 0 0;\n",
              "      width: 32px;\n",
              "    }\n",
              "\n",
              "    .colab-df-convert:hover {\n",
              "      background-color: #E2EBFA;\n",
              "      box-shadow: 0px 1px 2px rgba(60, 64, 67, 0.3), 0px 1px 3px 1px rgba(60, 64, 67, 0.15);\n",
              "      fill: #174EA6;\n",
              "    }\n",
              "\n",
              "    .colab-df-buttons div {\n",
              "      margin-bottom: 4px;\n",
              "    }\n",
              "\n",
              "    [theme=dark] .colab-df-convert {\n",
              "      background-color: #3B4455;\n",
              "      fill: #D2E3FC;\n",
              "    }\n",
              "\n",
              "    [theme=dark] .colab-df-convert:hover {\n",
              "      background-color: #434B5C;\n",
              "      box-shadow: 0px 1px 3px 1px rgba(0, 0, 0, 0.15);\n",
              "      filter: drop-shadow(0px 1px 2px rgba(0, 0, 0, 0.3));\n",
              "      fill: #FFFFFF;\n",
              "    }\n",
              "  </style>\n",
              "\n",
              "    <script>\n",
              "      const buttonEl =\n",
              "        document.querySelector('#df-9b8a7aea-28d2-4c0c-9c92-2cba40388ebf button.colab-df-convert');\n",
              "      buttonEl.style.display =\n",
              "        google.colab.kernel.accessAllowed ? 'block' : 'none';\n",
              "\n",
              "      async function convertToInteractive(key) {\n",
              "        const element = document.querySelector('#df-9b8a7aea-28d2-4c0c-9c92-2cba40388ebf');\n",
              "        const dataTable =\n",
              "          await google.colab.kernel.invokeFunction('convertToInteractive',\n",
              "                                                    [key], {});\n",
              "        if (!dataTable) return;\n",
              "\n",
              "        const docLinkHtml = 'Like what you see? Visit the ' +\n",
              "          '<a target=\"_blank\" href=https://colab.research.google.com/notebooks/data_table.ipynb>data table notebook</a>'\n",
              "          + ' to learn more about interactive tables.';\n",
              "        element.innerHTML = '';\n",
              "        dataTable['output_type'] = 'display_data';\n",
              "        await google.colab.output.renderOutput(dataTable, element);\n",
              "        const docLink = document.createElement('div');\n",
              "        docLink.innerHTML = docLinkHtml;\n",
              "        element.appendChild(docLink);\n",
              "      }\n",
              "    </script>\n",
              "  </div>\n",
              "\n",
              "\n",
              "<div id=\"df-dcbe0cbb-988c-4b93-afaa-e5bc0418668d\">\n",
              "  <button class=\"colab-df-quickchart\" onclick=\"quickchart('df-dcbe0cbb-988c-4b93-afaa-e5bc0418668d')\"\n",
              "            title=\"Suggest charts\"\n",
              "            style=\"display:none;\">\n",
              "\n",
              "<svg xmlns=\"http://www.w3.org/2000/svg\" height=\"24px\"viewBox=\"0 0 24 24\"\n",
              "     width=\"24px\">\n",
              "    <g>\n",
              "        <path d=\"M19 3H5c-1.1 0-2 .9-2 2v14c0 1.1.9 2 2 2h14c1.1 0 2-.9 2-2V5c0-1.1-.9-2-2-2zM9 17H7v-7h2v7zm4 0h-2V7h2v10zm4 0h-2v-4h2v4z\"/>\n",
              "    </g>\n",
              "</svg>\n",
              "  </button>\n",
              "\n",
              "<style>\n",
              "  .colab-df-quickchart {\n",
              "      --bg-color: #E8F0FE;\n",
              "      --fill-color: #1967D2;\n",
              "      --hover-bg-color: #E2EBFA;\n",
              "      --hover-fill-color: #174EA6;\n",
              "      --disabled-fill-color: #AAA;\n",
              "      --disabled-bg-color: #DDD;\n",
              "  }\n",
              "\n",
              "  [theme=dark] .colab-df-quickchart {\n",
              "      --bg-color: #3B4455;\n",
              "      --fill-color: #D2E3FC;\n",
              "      --hover-bg-color: #434B5C;\n",
              "      --hover-fill-color: #FFFFFF;\n",
              "      --disabled-bg-color: #3B4455;\n",
              "      --disabled-fill-color: #666;\n",
              "  }\n",
              "\n",
              "  .colab-df-quickchart {\n",
              "    background-color: var(--bg-color);\n",
              "    border: none;\n",
              "    border-radius: 50%;\n",
              "    cursor: pointer;\n",
              "    display: none;\n",
              "    fill: var(--fill-color);\n",
              "    height: 32px;\n",
              "    padding: 0;\n",
              "    width: 32px;\n",
              "  }\n",
              "\n",
              "  .colab-df-quickchart:hover {\n",
              "    background-color: var(--hover-bg-color);\n",
              "    box-shadow: 0 1px 2px rgba(60, 64, 67, 0.3), 0 1px 3px 1px rgba(60, 64, 67, 0.15);\n",
              "    fill: var(--button-hover-fill-color);\n",
              "  }\n",
              "\n",
              "  .colab-df-quickchart-complete:disabled,\n",
              "  .colab-df-quickchart-complete:disabled:hover {\n",
              "    background-color: var(--disabled-bg-color);\n",
              "    fill: var(--disabled-fill-color);\n",
              "    box-shadow: none;\n",
              "  }\n",
              "\n",
              "  .colab-df-spinner {\n",
              "    border: 2px solid var(--fill-color);\n",
              "    border-color: transparent;\n",
              "    border-bottom-color: var(--fill-color);\n",
              "    animation:\n",
              "      spin 1s steps(1) infinite;\n",
              "  }\n",
              "\n",
              "  @keyframes spin {\n",
              "    0% {\n",
              "      border-color: transparent;\n",
              "      border-bottom-color: var(--fill-color);\n",
              "      border-left-color: var(--fill-color);\n",
              "    }\n",
              "    20% {\n",
              "      border-color: transparent;\n",
              "      border-left-color: var(--fill-color);\n",
              "      border-top-color: var(--fill-color);\n",
              "    }\n",
              "    30% {\n",
              "      border-color: transparent;\n",
              "      border-left-color: var(--fill-color);\n",
              "      border-top-color: var(--fill-color);\n",
              "      border-right-color: var(--fill-color);\n",
              "    }\n",
              "    40% {\n",
              "      border-color: transparent;\n",
              "      border-right-color: var(--fill-color);\n",
              "      border-top-color: var(--fill-color);\n",
              "    }\n",
              "    60% {\n",
              "      border-color: transparent;\n",
              "      border-right-color: var(--fill-color);\n",
              "    }\n",
              "    80% {\n",
              "      border-color: transparent;\n",
              "      border-right-color: var(--fill-color);\n",
              "      border-bottom-color: var(--fill-color);\n",
              "    }\n",
              "    90% {\n",
              "      border-color: transparent;\n",
              "      border-bottom-color: var(--fill-color);\n",
              "    }\n",
              "  }\n",
              "</style>\n",
              "\n",
              "  <script>\n",
              "    async function quickchart(key) {\n",
              "      const quickchartButtonEl =\n",
              "        document.querySelector('#' + key + ' button');\n",
              "      quickchartButtonEl.disabled = true;  // To prevent multiple clicks.\n",
              "      quickchartButtonEl.classList.add('colab-df-spinner');\n",
              "      try {\n",
              "        const charts = await google.colab.kernel.invokeFunction(\n",
              "            'suggestCharts', [key], {});\n",
              "      } catch (error) {\n",
              "        console.error('Error during call to suggestCharts:', error);\n",
              "      }\n",
              "      quickchartButtonEl.classList.remove('colab-df-spinner');\n",
              "      quickchartButtonEl.classList.add('colab-df-quickchart-complete');\n",
              "    }\n",
              "    (() => {\n",
              "      let quickchartButtonEl =\n",
              "        document.querySelector('#df-dcbe0cbb-988c-4b93-afaa-e5bc0418668d button');\n",
              "      quickchartButtonEl.style.display =\n",
              "        google.colab.kernel.accessAllowed ? 'block' : 'none';\n",
              "    })();\n",
              "  </script>\n",
              "</div>\n",
              "    </div>\n",
              "  </div>\n"
            ]
          },
          "metadata": {},
          "execution_count": 11
        }
      ]
    },
    {
      "cell_type": "markdown",
      "source": [
        "### Interpretación\n",
        "\n",
        "+ **Primer quartil.** El 25% de los encuestados tiene una edad igual o inferior a 24 años\n",
        "+ El promedio de edad de los encuestados es de 31 años\n",
        "+ **Desviación estándar**. La mayor concentración de datos tiene una edad que se encuentra entre los 20 y los 42 años."
      ],
      "metadata": {
        "id": "Lcd04oyVa2Rp"
      }
    },
    {
      "cell_type": "code",
      "source": [
        "data_frame.describe(include=np.object0)"
      ],
      "metadata": {
        "colab": {
          "base_uri": "https://localhost:8080/",
          "height": 175
        },
        "id": "ef7_qC06_ykr",
        "outputId": "5a82ba5b-a104-4357-c3d2-c8948cee9d31"
      },
      "execution_count": null,
      "outputs": [
        {
          "output_type": "execute_result",
          "data": {
            "text/plain": [
              "                          Timestamp Participant_ID  Gender Nationality  \\\n",
              "count                           288            288     284         288   \n",
              "unique                          285            288       2          27   \n",
              "top     2019/05/08 1:16:11 AM GMT+8         FPS001  Female      Indian   \n",
              "freq                              2              1     165         241   \n",
              "\n",
              "                    Food        Juice Dessert  \n",
              "count                288          288     288  \n",
              "unique                 2            2       3  \n",
              "top     Traditional food  Fresh Juice   Maybe  \n",
              "freq                 238          256     122  "
            ],
            "text/html": [
              "\n",
              "  <div id=\"df-7f3f10e0-a240-4f0f-b1df-5066dcfc4871\" class=\"colab-df-container\">\n",
              "    <div>\n",
              "<style scoped>\n",
              "    .dataframe tbody tr th:only-of-type {\n",
              "        vertical-align: middle;\n",
              "    }\n",
              "\n",
              "    .dataframe tbody tr th {\n",
              "        vertical-align: top;\n",
              "    }\n",
              "\n",
              "    .dataframe thead th {\n",
              "        text-align: right;\n",
              "    }\n",
              "</style>\n",
              "<table border=\"1\" class=\"dataframe\">\n",
              "  <thead>\n",
              "    <tr style=\"text-align: right;\">\n",
              "      <th></th>\n",
              "      <th>Timestamp</th>\n",
              "      <th>Participant_ID</th>\n",
              "      <th>Gender</th>\n",
              "      <th>Nationality</th>\n",
              "      <th>Food</th>\n",
              "      <th>Juice</th>\n",
              "      <th>Dessert</th>\n",
              "    </tr>\n",
              "  </thead>\n",
              "  <tbody>\n",
              "    <tr>\n",
              "      <th>count</th>\n",
              "      <td>288</td>\n",
              "      <td>288</td>\n",
              "      <td>284</td>\n",
              "      <td>288</td>\n",
              "      <td>288</td>\n",
              "      <td>288</td>\n",
              "      <td>288</td>\n",
              "    </tr>\n",
              "    <tr>\n",
              "      <th>unique</th>\n",
              "      <td>285</td>\n",
              "      <td>288</td>\n",
              "      <td>2</td>\n",
              "      <td>27</td>\n",
              "      <td>2</td>\n",
              "      <td>2</td>\n",
              "      <td>3</td>\n",
              "    </tr>\n",
              "    <tr>\n",
              "      <th>top</th>\n",
              "      <td>2019/05/08 1:16:11 AM GMT+8</td>\n",
              "      <td>FPS001</td>\n",
              "      <td>Female</td>\n",
              "      <td>Indian</td>\n",
              "      <td>Traditional food</td>\n",
              "      <td>Fresh Juice</td>\n",
              "      <td>Maybe</td>\n",
              "    </tr>\n",
              "    <tr>\n",
              "      <th>freq</th>\n",
              "      <td>2</td>\n",
              "      <td>1</td>\n",
              "      <td>165</td>\n",
              "      <td>241</td>\n",
              "      <td>238</td>\n",
              "      <td>256</td>\n",
              "      <td>122</td>\n",
              "    </tr>\n",
              "  </tbody>\n",
              "</table>\n",
              "</div>\n",
              "    <div class=\"colab-df-buttons\">\n",
              "\n",
              "  <div class=\"colab-df-container\">\n",
              "    <button class=\"colab-df-convert\" onclick=\"convertToInteractive('df-7f3f10e0-a240-4f0f-b1df-5066dcfc4871')\"\n",
              "            title=\"Convert this dataframe to an interactive table.\"\n",
              "            style=\"display:none;\">\n",
              "\n",
              "  <svg xmlns=\"http://www.w3.org/2000/svg\" height=\"24px\" viewBox=\"0 -960 960 960\">\n",
              "    <path d=\"M120-120v-720h720v720H120Zm60-500h600v-160H180v160Zm220 220h160v-160H400v160Zm0 220h160v-160H400v160ZM180-400h160v-160H180v160Zm440 0h160v-160H620v160ZM180-180h160v-160H180v160Zm440 0h160v-160H620v160Z\"/>\n",
              "  </svg>\n",
              "    </button>\n",
              "\n",
              "  <style>\n",
              "    .colab-df-container {\n",
              "      display:flex;\n",
              "      gap: 12px;\n",
              "    }\n",
              "\n",
              "    .colab-df-convert {\n",
              "      background-color: #E8F0FE;\n",
              "      border: none;\n",
              "      border-radius: 50%;\n",
              "      cursor: pointer;\n",
              "      display: none;\n",
              "      fill: #1967D2;\n",
              "      height: 32px;\n",
              "      padding: 0 0 0 0;\n",
              "      width: 32px;\n",
              "    }\n",
              "\n",
              "    .colab-df-convert:hover {\n",
              "      background-color: #E2EBFA;\n",
              "      box-shadow: 0px 1px 2px rgba(60, 64, 67, 0.3), 0px 1px 3px 1px rgba(60, 64, 67, 0.15);\n",
              "      fill: #174EA6;\n",
              "    }\n",
              "\n",
              "    .colab-df-buttons div {\n",
              "      margin-bottom: 4px;\n",
              "    }\n",
              "\n",
              "    [theme=dark] .colab-df-convert {\n",
              "      background-color: #3B4455;\n",
              "      fill: #D2E3FC;\n",
              "    }\n",
              "\n",
              "    [theme=dark] .colab-df-convert:hover {\n",
              "      background-color: #434B5C;\n",
              "      box-shadow: 0px 1px 3px 1px rgba(0, 0, 0, 0.15);\n",
              "      filter: drop-shadow(0px 1px 2px rgba(0, 0, 0, 0.3));\n",
              "      fill: #FFFFFF;\n",
              "    }\n",
              "  </style>\n",
              "\n",
              "    <script>\n",
              "      const buttonEl =\n",
              "        document.querySelector('#df-7f3f10e0-a240-4f0f-b1df-5066dcfc4871 button.colab-df-convert');\n",
              "      buttonEl.style.display =\n",
              "        google.colab.kernel.accessAllowed ? 'block' : 'none';\n",
              "\n",
              "      async function convertToInteractive(key) {\n",
              "        const element = document.querySelector('#df-7f3f10e0-a240-4f0f-b1df-5066dcfc4871');\n",
              "        const dataTable =\n",
              "          await google.colab.kernel.invokeFunction('convertToInteractive',\n",
              "                                                    [key], {});\n",
              "        if (!dataTable) return;\n",
              "\n",
              "        const docLinkHtml = 'Like what you see? Visit the ' +\n",
              "          '<a target=\"_blank\" href=https://colab.research.google.com/notebooks/data_table.ipynb>data table notebook</a>'\n",
              "          + ' to learn more about interactive tables.';\n",
              "        element.innerHTML = '';\n",
              "        dataTable['output_type'] = 'display_data';\n",
              "        await google.colab.output.renderOutput(dataTable, element);\n",
              "        const docLink = document.createElement('div');\n",
              "        docLink.innerHTML = docLinkHtml;\n",
              "        element.appendChild(docLink);\n",
              "      }\n",
              "    </script>\n",
              "  </div>\n",
              "\n",
              "\n",
              "<div id=\"df-598673d6-37c7-4863-a712-6489c6300df5\">\n",
              "  <button class=\"colab-df-quickchart\" onclick=\"quickchart('df-598673d6-37c7-4863-a712-6489c6300df5')\"\n",
              "            title=\"Suggest charts\"\n",
              "            style=\"display:none;\">\n",
              "\n",
              "<svg xmlns=\"http://www.w3.org/2000/svg\" height=\"24px\"viewBox=\"0 0 24 24\"\n",
              "     width=\"24px\">\n",
              "    <g>\n",
              "        <path d=\"M19 3H5c-1.1 0-2 .9-2 2v14c0 1.1.9 2 2 2h14c1.1 0 2-.9 2-2V5c0-1.1-.9-2-2-2zM9 17H7v-7h2v7zm4 0h-2V7h2v10zm4 0h-2v-4h2v4z\"/>\n",
              "    </g>\n",
              "</svg>\n",
              "  </button>\n",
              "\n",
              "<style>\n",
              "  .colab-df-quickchart {\n",
              "      --bg-color: #E8F0FE;\n",
              "      --fill-color: #1967D2;\n",
              "      --hover-bg-color: #E2EBFA;\n",
              "      --hover-fill-color: #174EA6;\n",
              "      --disabled-fill-color: #AAA;\n",
              "      --disabled-bg-color: #DDD;\n",
              "  }\n",
              "\n",
              "  [theme=dark] .colab-df-quickchart {\n",
              "      --bg-color: #3B4455;\n",
              "      --fill-color: #D2E3FC;\n",
              "      --hover-bg-color: #434B5C;\n",
              "      --hover-fill-color: #FFFFFF;\n",
              "      --disabled-bg-color: #3B4455;\n",
              "      --disabled-fill-color: #666;\n",
              "  }\n",
              "\n",
              "  .colab-df-quickchart {\n",
              "    background-color: var(--bg-color);\n",
              "    border: none;\n",
              "    border-radius: 50%;\n",
              "    cursor: pointer;\n",
              "    display: none;\n",
              "    fill: var(--fill-color);\n",
              "    height: 32px;\n",
              "    padding: 0;\n",
              "    width: 32px;\n",
              "  }\n",
              "\n",
              "  .colab-df-quickchart:hover {\n",
              "    background-color: var(--hover-bg-color);\n",
              "    box-shadow: 0 1px 2px rgba(60, 64, 67, 0.3), 0 1px 3px 1px rgba(60, 64, 67, 0.15);\n",
              "    fill: var(--button-hover-fill-color);\n",
              "  }\n",
              "\n",
              "  .colab-df-quickchart-complete:disabled,\n",
              "  .colab-df-quickchart-complete:disabled:hover {\n",
              "    background-color: var(--disabled-bg-color);\n",
              "    fill: var(--disabled-fill-color);\n",
              "    box-shadow: none;\n",
              "  }\n",
              "\n",
              "  .colab-df-spinner {\n",
              "    border: 2px solid var(--fill-color);\n",
              "    border-color: transparent;\n",
              "    border-bottom-color: var(--fill-color);\n",
              "    animation:\n",
              "      spin 1s steps(1) infinite;\n",
              "  }\n",
              "\n",
              "  @keyframes spin {\n",
              "    0% {\n",
              "      border-color: transparent;\n",
              "      border-bottom-color: var(--fill-color);\n",
              "      border-left-color: var(--fill-color);\n",
              "    }\n",
              "    20% {\n",
              "      border-color: transparent;\n",
              "      border-left-color: var(--fill-color);\n",
              "      border-top-color: var(--fill-color);\n",
              "    }\n",
              "    30% {\n",
              "      border-color: transparent;\n",
              "      border-left-color: var(--fill-color);\n",
              "      border-top-color: var(--fill-color);\n",
              "      border-right-color: var(--fill-color);\n",
              "    }\n",
              "    40% {\n",
              "      border-color: transparent;\n",
              "      border-right-color: var(--fill-color);\n",
              "      border-top-color: var(--fill-color);\n",
              "    }\n",
              "    60% {\n",
              "      border-color: transparent;\n",
              "      border-right-color: var(--fill-color);\n",
              "    }\n",
              "    80% {\n",
              "      border-color: transparent;\n",
              "      border-right-color: var(--fill-color);\n",
              "      border-bottom-color: var(--fill-color);\n",
              "    }\n",
              "    90% {\n",
              "      border-color: transparent;\n",
              "      border-bottom-color: var(--fill-color);\n",
              "    }\n",
              "  }\n",
              "</style>\n",
              "\n",
              "  <script>\n",
              "    async function quickchart(key) {\n",
              "      const quickchartButtonEl =\n",
              "        document.querySelector('#' + key + ' button');\n",
              "      quickchartButtonEl.disabled = true;  // To prevent multiple clicks.\n",
              "      quickchartButtonEl.classList.add('colab-df-spinner');\n",
              "      try {\n",
              "        const charts = await google.colab.kernel.invokeFunction(\n",
              "            'suggestCharts', [key], {});\n",
              "      } catch (error) {\n",
              "        console.error('Error during call to suggestCharts:', error);\n",
              "      }\n",
              "      quickchartButtonEl.classList.remove('colab-df-spinner');\n",
              "      quickchartButtonEl.classList.add('colab-df-quickchart-complete');\n",
              "    }\n",
              "    (() => {\n",
              "      let quickchartButtonEl =\n",
              "        document.querySelector('#df-598673d6-37c7-4863-a712-6489c6300df5 button');\n",
              "      quickchartButtonEl.style.display =\n",
              "        google.colab.kernel.accessAllowed ? 'block' : 'none';\n",
              "    })();\n",
              "  </script>\n",
              "</div>\n",
              "    </div>\n",
              "  </div>\n"
            ]
          },
          "metadata": {},
          "execution_count": 12
        }
      ]
    },
    {
      "cell_type": "markdown",
      "source": [
        "## Datos nulos"
      ],
      "metadata": {
        "id": "9Z5wGRAy_9uy"
      }
    },
    {
      "cell_type": "code",
      "source": [
        "data_frame.isnull().sum()"
      ],
      "metadata": {
        "colab": {
          "base_uri": "https://localhost:8080/"
        },
        "id": "unK8b7sK__ya",
        "outputId": "45d6a284-f373-4f26-9815-1cfb200fa935"
      },
      "execution_count": null,
      "outputs": [
        {
          "output_type": "execute_result",
          "data": {
            "text/plain": [
              "Timestamp         0\n",
              "Participant_ID    0\n",
              "Gender            4\n",
              "Nationality       0\n",
              "Age               0\n",
              "Food              0\n",
              "Juice             0\n",
              "Dessert           0\n",
              "dtype: int64"
            ]
          },
          "metadata": {},
          "execution_count": 11
        }
      ]
    },
    {
      "cell_type": "markdown",
      "source": [
        "### Técnicas de tratamiento de nulos\n",
        "\n",
        "1. Eliminar las observaciones (opción simple)\n",
        "2. Imputación (mejor opción). Acá se rellenan los valores vacíos con algún valor, puede ser el promedio del valor de la columna. Puede ser el valor más repetido en el caso de una variable categórica.\n",
        "3. Una extensión de la imputación. Se agrega una columna indicando que el valor ha sido reemplazado, de esta forma, se mantiene \"identificados\" a los valores nulos"
      ],
      "metadata": {
        "id": "nB38THTFAI1c"
      }
    },
    {
      "cell_type": "code",
      "source": [
        "# Tratamiento de nulos a través de la imputación\n",
        "moda = data_frame.Gender.mode()[0]\n",
        "data_frame.Gender = data_frame.Gender.fillna(moda)\n",
        "# Comprueba que el reemplazo se realiza\n",
        "data_frame.isnull().sum()"
      ],
      "metadata": {
        "colab": {
          "base_uri": "https://localhost:8080/"
        },
        "id": "KEqhzlhdYqho",
        "outputId": "0500ca35-8ee2-4116-9f10-0b6a189aba0d"
      },
      "execution_count": null,
      "outputs": [
        {
          "output_type": "execute_result",
          "data": {
            "text/plain": [
              "Timestamp         0\n",
              "Participant_ID    0\n",
              "Gender            0\n",
              "Nationality       0\n",
              "Age               0\n",
              "Food              0\n",
              "Juice             0\n",
              "Dessert           0\n",
              "dtype: int64"
            ]
          },
          "metadata": {},
          "execution_count": 13
        }
      ]
    },
    {
      "cell_type": "markdown",
      "source": [
        "**NOTA IMPORTANTE**\n",
        "\n",
        "Este tema se va a profundizar más adelante"
      ],
      "metadata": {
        "id": "B7yxc8HzqdcL"
      }
    },
    {
      "cell_type": "markdown",
      "source": [
        "### Interpretación de medidas"
      ],
      "metadata": {
        "id": "4fZO1D09Ae15"
      }
    },
    {
      "cell_type": "code",
      "source": [
        "data_frame['Age'].describe()"
      ],
      "metadata": {
        "colab": {
          "base_uri": "https://localhost:8080/"
        },
        "id": "y57snibrAhvv",
        "outputId": "06f528fd-d131-45f2-abb0-ca79d3a13e20"
      },
      "execution_count": null,
      "outputs": [
        {
          "output_type": "execute_result",
          "data": {
            "text/plain": [
              "count    288.000000\n",
              "mean      30.597222\n",
              "std       11.180383\n",
              "min        8.000000\n",
              "25%       24.000000\n",
              "50%       28.000000\n",
              "75%       36.250000\n",
              "max       80.000000\n",
              "Name: Age, dtype: float64"
            ]
          },
          "metadata": {},
          "execution_count": 13
        }
      ]
    },
    {
      "cell_type": "markdown",
      "source": [
        "**Interpretación**\n",
        "\n",
        "+ Una importante concentración de los encuestados tiene una edad dentro del intervalo [31-11 ; 31 + 11], es decir, [20; 42] (Recuerde la fórmula $[\\mu - \\sigma; \\mu + \\sigma]$)\n",
        "\n",
        "+ El 75% de los encuestados tiene una edad igual o inferior a 36 años\n",
        "\n",
        "+ El 25% de los encuestados tiene una edad igual o inferior a 24 años\n",
        "\n",
        "**¿Puedo comprobar lo anterior?**"
      ],
      "metadata": {
        "id": "Te6cXPmBAqaL"
      }
    },
    {
      "cell_type": "code",
      "source": [
        "# Calcula y muestra el intervalo\n",
        "mean, std = np.mean(data_frame.Age), np.std(data_frame.Age)\n",
        "lim_inf, lim_sup = mean - std, mean + std\n",
        "print(\"Intervalo = [{0:.1f};{1:.1f}]\".format(lim_inf, lim_sup))\n",
        "# Busca las ocurrencias\n",
        "analizados = data_frame.query(\"Age >= {0} & Age <= {1}\".format(lim_inf, lim_sup))['Age'].count()\n",
        "total = data_frame.shape[0]\n",
        "print(analizados/total*100)"
      ],
      "metadata": {
        "colab": {
          "base_uri": "https://localhost:8080/"
        },
        "id": "vWSboARaA-Yy",
        "outputId": "4f1bdb10-9970-4086-d5e1-80a66dc3331c"
      },
      "execution_count": null,
      "outputs": [
        {
          "output_type": "stream",
          "name": "stdout",
          "text": [
            "Intervalo = [19.4;41.8]\n",
            "78.81944444444444\n"
          ]
        }
      ]
    },
    {
      "cell_type": "code",
      "source": [
        "cuartil_tres = np.quantile(data_frame.Age, 0.75)\n",
        "print(cuartil_tres)\n",
        "analizados = data_frame.query(\"Age <= {}\".format(cuartil_tres))['Age'].count()\n",
        "total = data_frame.shape[0]\n",
        "print(analizados/total*100)"
      ],
      "metadata": {
        "colab": {
          "base_uri": "https://localhost:8080/"
        },
        "id": "tF6jxUK9BOWu",
        "outputId": "0f8f15bf-757c-45bd-de1e-513345f3ccbd"
      },
      "execution_count": null,
      "outputs": [
        {
          "output_type": "stream",
          "name": "stdout",
          "text": [
            "36.25\n",
            "75.0\n"
          ]
        }
      ]
    },
    {
      "cell_type": "code",
      "source": [
        "cuartil_uno = np.quantile(data_frame.Age, 0.25)\n",
        "print(cuartil_uno)\n",
        "analizados = data_frame.query(\"Age <= {}\".format(cuartil_uno))['Age'].count()\n",
        "total = data_frame.shape[0]\n",
        "print(analizados/total*100)"
      ],
      "metadata": {
        "colab": {
          "base_uri": "https://localhost:8080/"
        },
        "id": "os3Yr6cABb19",
        "outputId": "6eac3f24-833a-4dda-d731-7e058488a7f0"
      },
      "execution_count": null,
      "outputs": [
        {
          "output_type": "stream",
          "name": "stdout",
          "text": [
            "24.0\n",
            "30.555555555555557\n"
          ]
        }
      ]
    },
    {
      "cell_type": "markdown",
      "source": [
        "### Revisión de asimetría"
      ],
      "metadata": {
        "id": "N-XQnCq2Bl3o"
      }
    },
    {
      "cell_type": "code",
      "source": [
        "moda = data_frame.groupby('Age')['Age'].count().sort_values(ascending = False)[:1].values[0]\n",
        "mediana = np.quantile(data_frame.Age, 0.5)\n",
        "media = np.mean(data_frame.Age)\n",
        "print(\"Moda {0} - Mediana {1} - Media {2}\".format(moda, mediana, media))"
      ],
      "metadata": {
        "colab": {
          "base_uri": "https://localhost:8080/"
        },
        "id": "_4JTotY4Bk9K",
        "outputId": "519fd332-1c20-4e5c-d294-0903774fe999"
      },
      "execution_count": null,
      "outputs": [
        {
          "output_type": "stream",
          "name": "stdout",
          "text": [
            "Moda 23 - Mediana 28.0 - Media 30.59722222222222\n"
          ]
        }
      ]
    },
    {
      "cell_type": "markdown",
      "source": [
        "**Interpretación de la relación**\n",
        "\n",
        "El orden que se da en la recta real es moda - mediana y media; por lo tanto, existe una ***asimetría hacia la derecha (simetría positiva)***.\n",
        "\n",
        "![](https://encrypted-tbn0.gstatic.com/images?q=tbn:ANd9GcS2CS82dzN23KbujJcy7S_lf-ghamH3OKkhGA&usqp=CAU)"
      ],
      "metadata": {
        "id": "5_AQY_1eBvln"
      }
    },
    {
      "cell_type": "markdown",
      "source": [
        "### Exploración mediante una gráfica"
      ],
      "metadata": {
        "id": "icHhGpvoCw_0"
      }
    },
    {
      "cell_type": "code",
      "source": [
        "# Definimos la cantidad de conjuntos que queremos usar para agrupar los valores.\n",
        "num_bins = 20\n",
        "plt.figure(figsize=(10,10))\n",
        "sns.histplot(data_frame.Age, kde=True, bins = num_bins)\n",
        "plt.xlabel('Edad encuestados', fontsize=14)\n",
        "plt.ylabel('Cantidad de encuestados', fontsize=14)\n",
        "plt.title(r'Histograma de edad de encuestados', fontsize=16, fontweight=\"bold\");"
      ],
      "metadata": {
        "colab": {
          "base_uri": "https://localhost:8080/",
          "height": 627
        },
        "id": "3wOOBXQ1C1Fc",
        "outputId": "03bd89af-fdf6-40ff-860c-d3f04328d976"
      },
      "execution_count": null,
      "outputs": [
        {
          "output_type": "display_data",
          "data": {
            "text/plain": [
              "<Figure size 720x720 with 1 Axes>"
            ],
            "image/png": "[encoded data removed]"
          },
          "metadata": {
            "needs_background": "light"
          }
        }
      ]
    },
    {
      "cell_type": "markdown",
      "source": [
        "**OBS.** En la gráfica se aprecia la asimetría hacia a derecha que se había comentado anteriormente."
      ],
      "metadata": {
        "id": "ULVT0t11DTrt"
      }
    },
    {
      "cell_type": "code",
      "source": [
        "# Cargamos la columna edad como variable y a graficar.\n",
        "y = data_frame['Age']\n",
        "\n",
        "# Definimos la cantidad de conjuntos que queremos usar para agrupar los valores.\n",
        "num_bins = 20\n",
        "\n",
        "# tamaño del grafico: (ancho, largo)\n",
        "plt.figure(figsize=(8,8))\n",
        "\n",
        "# Le definimos a Matplotlib que es un histograma con los valores de y agrupados en num_bins\n",
        "plt.hist(y, num_bins, edgecolor='black')\n",
        "\n",
        "# Asignamos nombres a eje x, y asi como tambien el titulo del gráfico\n",
        "plt.xlabel('Edad encuestados', fontsize=14)\n",
        "plt.ylabel('Cantidad de encuestados', fontsize=14)\n",
        "plt.title(r'Histograma de edad de encuestados', fontsize=16, fontweight=\"bold\")\n",
        "\n",
        "plt.show()"
      ],
      "metadata": {
        "colab": {
          "base_uri": "https://localhost:8080/",
          "height": 519
        },
        "id": "rpw32py9DGao",
        "outputId": "97490ff8-315d-4346-c6fb-e2759fde410e"
      },
      "execution_count": null,
      "outputs": [
        {
          "output_type": "display_data",
          "data": {
            "text/plain": [
              "<Figure size 576x576 with 1 Axes>"
            ],
            "image/png": "[encoded data removed]"
          },
          "metadata": {
            "needs_background": "light"
          }
        }
      ]
    },
    {
      "cell_type": "code",
      "source": [
        "plt.figure(figsize=(10,10))\n",
        "sns.boxplot(y=data_frame.Age, data=data_frame)\n",
        "plt.xlabel('Edad de encuestados', fontsize=14)\n",
        "plt.ylabel('Cantidad de encuestados', fontsize=14)\n",
        "plt.title(r'Outliers de edad de encuestados', fontsize=16, fontweight=\"bold\");"
      ],
      "metadata": {
        "colab": {
          "base_uri": "https://localhost:8080/",
          "height": 618
        },
        "id": "4PKMvyI8DQds",
        "outputId": "363abc4c-018f-427f-e8b8-85132e25453b"
      },
      "execution_count": null,
      "outputs": [
        {
          "output_type": "display_data",
          "data": {
            "text/plain": [
              "<Figure size 720x720 with 1 Axes>"
            ],
            "image/png": "[encoded data removed]"
          },
          "metadata": {
            "needs_background": "light"
          }
        }
      ]
    },
    {
      "cell_type": "markdown",
      "source": [
        "### Interpretación del diagrama"
      ],
      "metadata": {
        "id": "yveqASdUKCDC"
      }
    },
    {
      "cell_type": "markdown",
      "source": [
        "\n",
        "![](https://www.researchgate.net/profile/Pedro-Romero-Aroca/publication/275021043/figure/fig1/AS:294595071102976@1447248346180/Distribucion-normal-y-sus-porcentajes-respecto-de-la-desviacion-estandar.png)"
      ],
      "metadata": {
        "id": "VkzXMVTcIF3i"
      }
    },
    {
      "cell_type": "markdown",
      "source": [
        "![](data:image/png;base64,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)"
      ],
      "metadata": {
        "id": "rewEyfYJDouV"
      }
    },
    {
      "cell_type": "markdown",
      "source": [
        "![](https://www.cursosgis.com/wp-content/uploads/cajas-y-bigotes6-700x154.png)"
      ],
      "metadata": {
        "id": "LRTburX5G-vd"
      }
    },
    {
      "cell_type": "code",
      "source": [
        "# Calcula y muestra el intervalo exacto de la mayor concentración\n",
        "mean, std = np.mean(data_frame.Age), np.std(data_frame.Age)\n",
        "lim_inf, lim_sup = mean - 2*std, mean + 2*std\n",
        "print(\"Extremo inferior {0:.1f} - Extremo superior : {1:.1f}\".format(lim_inf, lim_sup))\n",
        "# Busca las ocurrencias\n",
        "analizados = data_frame.query(\"Age >= {0} & Age <= {1}\".format(lim_inf, lim_sup))['Age'].count()\n",
        "total = data_frame.shape[0]\n",
        "print(analizados/total*100)"
      ],
      "metadata": {
        "colab": {
          "base_uri": "https://localhost:8080/"
        },
        "id": "Xme7Tp6-HaPb",
        "outputId": "8b90af14-5f36-4e4f-ec80-b30db6f6a3b0"
      },
      "execution_count": null,
      "outputs": [
        {
          "output_type": "stream",
          "name": "stdout",
          "text": [
            "Extremo inferior 8.3 - Extremo superior : 52.9\n",
            "94.09722222222221\n"
          ]
        }
      ]
    },
    {
      "cell_type": "code",
      "source": [
        "# Obtiene las frecuencias de las nacionalidades\n",
        "valores = data_frame.groupby('Nationality')['Nationality'].count().sort_values(ascending = False)\n",
        "titulo = u\"Distribución de la nacionalidad\"\n",
        "# Tamaño del grafico: (ancho, largo)\n",
        "plt.figure(figsize=(10,10))\n",
        "\n",
        "# Usamos el gráfico de barras de seaborn\n",
        "sns.barplot(x=valores.index, y=valores, edgecolor='black')\n",
        "\n",
        "# Asignamos etiquetas a eje x, y asi como tambien el titulo del gráfico\n",
        "plt.xlabel('Nacionalidad', fontsize=14)\n",
        "plt.xticks(rotation=45)\n",
        "plt.ylabel('Cantidad de registros', fontsize=14)\n",
        "plt.title(titulo, fontsize=18, fontweight=\"bold\")\n",
        "\n",
        "plt.show()"
      ],
      "metadata": {
        "colab": {
          "base_uri": "https://localhost:8080/",
          "height": 667
        },
        "id": "q48KURbZK5t-",
        "outputId": "b64c9cbe-3c86-4259-8424-2113c22f443d"
      },
      "execution_count": null,
      "outputs": [
        {
          "output_type": "display_data",
          "data": {
            "text/plain": [
              "<Figure size 720x720 with 1 Axes>"
            ],
            "image/png": "[encoded data removed]"
          },
          "metadata": {
            "needs_background": "light"
          }
        }
      ]
    },
    {
      "cell_type": "markdown",
      "source": [
        "El gráfico anterior evidencia que existe un sesgo hacia una sola nacionalidad, lo comprobamos mirando la tabla de frecuencias"
      ],
      "metadata": {
        "id": "Rs0ssLfrLN1x"
      }
    },
    {
      "cell_type": "code",
      "source": [
        "valores"
      ],
      "metadata": {
        "colab": {
          "base_uri": "https://localhost:8080/"
        },
        "id": "vdXVVFumLKAg",
        "outputId": "99e22196-5d9b-463e-b2b6-0d68c44944c3"
      },
      "execution_count": null,
      "outputs": [
        {
          "output_type": "execute_result",
          "data": {
            "text/plain": [
              "Nationality\n",
              "Indian         241\n",
              "Malaysian       10\n",
              "Indonesia        7\n",
              "Pakistani        3\n",
              "Maldivian        2\n",
              "Pakistani        2\n",
              "Japan            2\n",
              "MY               2\n",
              "Algerian         1\n",
              "Tanzanian        1\n",
              "Seychellois      1\n",
              "Pakistan         1\n",
              "Nigerian         1\n",
              "Muslim           1\n",
              "Mauritian        1\n",
              "Maldivian        1\n",
              "Malaysia         1\n",
              "Malaysian        1\n",
              "Canadian         1\n",
              "Malaysia         1\n",
              "MALAYSIAN        1\n",
              "Korean           1\n",
              "Indonesian       1\n",
              "Indonesian       1\n",
              "Indonesain       1\n",
              "China            1\n",
              "Yemen            1\n",
              "Name: Nationality, dtype: int64"
            ]
          },
          "metadata": {},
          "execution_count": 20
        }
      ]
    },
    {
      "cell_type": "markdown",
      "source": [
        "### Gráfico de torta"
      ],
      "metadata": {
        "id": "0M2MNDfGLmuY"
      }
    },
    {
      "cell_type": "code",
      "source": [
        "tipos = data_frame['Food'].unique()\n",
        "total = data_frame['Food'].value_counts().tolist()\n",
        "explode = [0.4 if total[0] == max(total) else 0, 0.4 if total[1] == max(total) else 0] # Destacar algunos\n",
        "plt.pie(total, labels=tipos, explode = explode, autopct='%1.1f%%', shadow=True, startangle=90)\n",
        "plt.title('Distribución de tipos de comida', fontsize=18, fontweight=\"bold\")\n",
        "plt.show()"
      ],
      "metadata": {
        "colab": {
          "base_uri": "https://localhost:8080/",
          "height": 279
        },
        "id": "3nOaCLdyLpwc",
        "outputId": "800201ea-1276-4da4-e2a6-144793dfda5f"
      },
      "execution_count": null,
      "outputs": [
        {
          "output_type": "display_data",
          "data": {
            "text/plain": [
              "<Figure size 432x288 with 1 Axes>"
            ],
            "image/png": "[encoded data removed]"
          },
          "metadata": {}
        }
      ]
    },
    {
      "cell_type": "code",
      "source": [
        "# Gráfico de densidad de edades\n",
        "\n",
        "x_values = data_frame.Age.unique()\n",
        "y_values = data_frame.Age.value_counts().tolist()\n",
        "plt.scatter(x_values, y_values, marker='o');\n",
        "plt.title('Densidad de edades', fontsize=18, fontweight=\"bold\")\n",
        "plt.xlabel('Edad', fontsize=16)\n",
        "plt.ylabel('Frecuencia', fontsize=16)\n",
        "plt.show()"
      ],
      "metadata": {
        "colab": {
          "base_uri": "https://localhost:8080/",
          "height": 304
        },
        "id": "TGLs5sW3XDpc",
        "outputId": "2a6eea0d-b7f3-41a5-d032-26983fe667b6"
      },
      "execution_count": null,
      "outputs": [
        {
          "output_type": "display_data",
          "data": {
            "text/plain": [
              "<Figure size 432x288 with 1 Axes>"
            ],
            "image/png": "[encoded data removed]"
          },
          "metadata": {
            "needs_background": "light"
          }
        }
      ]
    },
    {
      "cell_type": "code",
      "source": [
        "fig = plt.figure(figsize=(10,8))\n",
        "\n",
        "ax1 = fig.add_subplot(1,2,1)\n",
        "ax2 = fig.add_subplot(1,2,2)\n",
        "sns.countplot(x=data_frame['Juice'],ax=ax1)\n",
        "sns.countplot(x=data_frame['Dessert'],ax=ax2)\n",
        "plt.title(\"Preferencias de jugos y postres\", fontsize=18, fontweight=\"bold\")\n",
        "plt.show()"
      ],
      "metadata": {
        "colab": {
          "base_uri": "https://localhost:8080/",
          "height": 517
        },
        "id": "eNPvt6UFagex",
        "outputId": "26af3ef9-8883-4d50-fbcb-0dfd711f27b6"
      },
      "execution_count": null,
      "outputs": [
        {
          "output_type": "display_data",
          "data": {
            "text/plain": [
              "<Figure size 720x576 with 2 Axes>"
            ],
            "image/png": "[encoded data removed]"
          },
          "metadata": {
            "needs_background": "light"
          }
        }
      ]
    },
    {
      "cell_type": "code",
      "source": [
        "plt.title(\"Decisión de postre\", fontsize = 18, fontweight=\"bold\")\n",
        "sns.countplot(x=\"Dessert\", hue=\"Gender\", data=data_frame);"
      ],
      "metadata": {
        "colab": {
          "base_uri": "https://localhost:8080/",
          "height": 300
        },
        "id": "Yny5B6xgb3eg",
        "outputId": "ec0c809e-eb60-4c22-e057-fa5d0e23bf72"
      },
      "execution_count": null,
      "outputs": [
        {
          "output_type": "display_data",
          "data": {
            "text/plain": [
              "<Figure size 432x288 with 1 Axes>"
            ],
            "image/png": "[encoded data removed]"
          },
          "metadata": {
            "needs_background": "light"
          }
        }
      ]
    },
    {
      "cell_type": "code",
      "source": [
        "plt.title(\"Decisión de postre\", fontsize = 18, fontweight=\"bold\")\n",
        "sns.countplot(y=\"Dessert\", hue=\"Gender\", data=data_frame);"
      ],
      "metadata": {
        "colab": {
          "base_uri": "https://localhost:8080/",
          "height": 300
        },
        "id": "0DwCGzvtchDR",
        "outputId": "cfc39cdd-256e-4074-dc23-29b8a7e2f77b"
      },
      "execution_count": null,
      "outputs": [
        {
          "output_type": "display_data",
          "data": {
            "text/plain": [
              "<Figure size 432x288 with 1 Axes>"
            ],
            "image/png": "[encoded data removed]"
          },
          "metadata": {
            "needs_background": "light"
          }
        }
      ]
    },
    {
      "cell_type": "code",
      "source": [
        "# Age v/s Dessert\n",
        "fig = plt.figure(figsize=(10,3))\n",
        "ax1 = fig.add_subplot(1,1,1)\n",
        "sns.boxplot(x=data_frame['Age'],y=data_frame['Dessert']);"
      ],
      "metadata": {
        "colab": {
          "base_uri": "https://localhost:8080/",
          "height": 225
        },
        "id": "pBwfxohUeOUI",
        "outputId": "0dad061c-ae11-491f-fe91-cb6197a11aa4"
      },
      "execution_count": null,
      "outputs": [
        {
          "output_type": "display_data",
          "data": {
            "text/plain": [
              "<Figure size 720x216 with 1 Axes>"
            ],
            "image/png": "[encoded data removed]"
          },
          "metadata": {
            "needs_background": "light"
          }
        }
      ]
    },
    {
      "cell_type": "markdown",
      "source": [
        "# Preguntas"
      ],
      "metadata": {
        "id": "WVrTInxvMz2c"
      }
    },
    {
      "cell_type": "markdown",
      "source": [
        "## **PREGUNTA 1** - ¿Quiénes piden más postres, hombres o mujeres?"
      ],
      "metadata": {
        "id": "fYSg5XKWM2oM"
      }
    },
    {
      "cell_type": "code",
      "source": [
        "# Respondiendo, gráficamente a: ¿Quiénes piden más postres, los hombres o las mujeres?\n",
        "df_pie = pd.DataFrame(data_frame[data_frame.Dessert == 'Yes'].groupby('Gender')['Dessert'].count())\n",
        "colores = [\"#EE6055\",\"#60D394\"]\n",
        "plt.pie(np.array(df_pie).ravel(), labels=[df_pie.index[0],df_pie.index[1]],\n",
        "        autopct='%1.1f%%', shadow=True, startangle=90, colors = colores)\n",
        "plt.title('Distribución por género de solicitud de postres', fontsize=18, fontweight=\"bold\")\n",
        "plt.show()"
      ],
      "metadata": {
        "colab": {
          "base_uri": "https://localhost:8080/",
          "height": 269
        },
        "id": "oSmmp4ZdMRjQ",
        "outputId": "1d3ae4f0-977e-4cd4-eafa-d39984064fa9"
      },
      "execution_count": null,
      "outputs": [
        {
          "output_type": "display_data",
          "data": {
            "text/plain": [
              "<Figure size 432x288 with 1 Axes>"
            ],
            "image/png": "[encoded data removed]"
          },
          "metadata": {}
        }
      ]
    },
    {
      "cell_type": "markdown",
      "source": [
        "**Respuesta.**\n",
        "\n",
        "Considerando la gráfica anterior, es posible afirmar que el 52.7% de los encuestados prefieren pedir postre y está representado por las mujeres. Por lo tanto, las mujeres tienden a pedir más postres."
      ],
      "metadata": {
        "id": "Y8kM-T37lXSA"
      }
    },
    {
      "cell_type": "markdown",
      "source": [
        "## **PREGUNTA 2** - ¿Cuál es la preferencia de los encuestados, considerando género y tipo de comida?"
      ],
      "metadata": {
        "id": "0nbaVjB3NHTd"
      }
    },
    {
      "cell_type": "code",
      "source": [
        "data_frame.groupby('Gender')['Food'].value_counts()"
      ],
      "metadata": {
        "colab": {
          "base_uri": "https://localhost:8080/"
        },
        "id": "c8yv6OshNUwr",
        "outputId": "b91234f2-6d45-4cdc-d6d3-27901ca005f2"
      },
      "execution_count": null,
      "outputs": [
        {
          "output_type": "execute_result",
          "data": {
            "text/plain": [
              "Gender  Food            \n",
              "Female  Traditional food    144\n",
              "        Western Food         21\n",
              "Male    Traditional food     90\n",
              "        Western Food         29\n",
              "Name: Food, dtype: int64"
            ]
          },
          "metadata": {},
          "execution_count": 7
        }
      ]
    },
    {
      "cell_type": "markdown",
      "source": [
        "**Respuesta**\n",
        "\n",
        "Tanto las mujeres como los hombres prefieren la comida tradicional por sobre la comida occidental"
      ],
      "metadata": {
        "id": "sqggaJwUNZHL"
      }
    },
    {
      "cell_type": "markdown",
      "source": [
        "## **PREGUNTA 3** - ¿Quiénes son más indecisos a la hora de pedir postre: los hombres o las mujeres?"
      ],
      "metadata": {
        "id": "taj2JVqcQxQ_"
      }
    },
    {
      "cell_type": "code",
      "source": [
        "data_frame.groupby('Gender')['Dessert'].value_counts()"
      ],
      "metadata": {
        "colab": {
          "base_uri": "https://localhost:8080/"
        },
        "id": "oNeyqUMSRZZU",
        "outputId": "0ccc334f-05c5-40b3-b1ec-3c0dd69e4095"
      },
      "execution_count": null,
      "outputs": [
        {
          "output_type": "execute_result",
          "data": {
            "text/plain": [
              "Gender  Dessert\n",
              "Female  Maybe      72\n",
              "        Yes        58\n",
              "        No         35\n",
              "Male    Yes        52\n",
              "        Maybe      50\n",
              "        No         17\n",
              "Name: Dessert, dtype: int64"
            ]
          },
          "metadata": {},
          "execution_count": 8
        }
      ]
    },
    {
      "cell_type": "markdown",
      "source": [
        "**Respuesta.** Las mujeres resultan ser más indecisas a la hora de pedir postre"
      ],
      "metadata": {
        "id": "ol7wPsNEV_v7"
      }
    },
    {
      "cell_type": "code",
      "source": [
        "# Para responder de forma más precisa a la pregunta\n",
        "data_frame[data_frame.Dessert == 'Maybe'].groupby('Gender')['Dessert'].count().sort_values()[-1:].index[0]"
      ],
      "metadata": {
        "colab": {
          "base_uri": "https://localhost:8080/",
          "height": 35
        },
        "id": "xP1eCzSFWfsr",
        "outputId": "555b7bf3-cf8e-4a88-e806-67ce90b74dea"
      },
      "execution_count": null,
      "outputs": [
        {
          "output_type": "execute_result",
          "data": {
            "text/plain": [
              "'Female'"
            ],
            "application/vnd.google.colaboratory.intrinsic+json": {
              "type": "string"
            }
          },
          "metadata": {},
          "execution_count": 9
        }
      ]
    },
    {
      "cell_type": "markdown",
      "source": [
        "## **PREGUNTA 4** - ¿Quiénes prefieren más la comida occidental, los hombres o las mujeres?"
      ],
      "metadata": {
        "id": "TTk_JEoyRwNk"
      }
    },
    {
      "cell_type": "code",
      "source": [
        "data_frame[data_frame.Food == 'Western Food'].groupby('Gender')['Food'].count()"
      ],
      "metadata": {
        "colab": {
          "base_uri": "https://localhost:8080/"
        },
        "id": "kPp9flGHSvf2",
        "outputId": "ee2fee06-6c88-4a2f-9667-bd544b2419f0"
      },
      "execution_count": null,
      "outputs": [
        {
          "output_type": "execute_result",
          "data": {
            "text/plain": [
              "Gender\n",
              "Female    21\n",
              "Male      29\n",
              "Name: Food, dtype: int64"
            ]
          },
          "metadata": {},
          "execution_count": 10
        }
      ]
    },
    {
      "cell_type": "code",
      "source": [
        "# Para responder de forma precisa a la pregunta\n",
        "data_frame[data_frame.Food == 'Western Food'].groupby('Gender')['Food'].count().sort_values()[-1:].index[0]"
      ],
      "metadata": {
        "colab": {
          "base_uri": "https://localhost:8080/",
          "height": 35
        },
        "id": "mJYm8_bTUFJl",
        "outputId": "a278a7b8-0c7b-444b-e4a8-e9970c336871"
      },
      "execution_count": null,
      "outputs": [
        {
          "output_type": "execute_result",
          "data": {
            "text/plain": [
              "'Male'"
            ],
            "application/vnd.google.colaboratory.intrinsic+json": {
              "type": "string"
            }
          },
          "metadata": {},
          "execution_count": 11
        }
      ]
    },
    {
      "cell_type": "markdown",
      "source": [
        "## **PREGUNTA 5** - ¿Cuál es el promedio de edad de las personas que prefieren la comida tradicional?"
      ],
      "metadata": {
        "id": "KNkMmxw6SGlU"
      }
    },
    {
      "cell_type": "code",
      "source": [
        "data_frame[data_frame.Food == 'Traditional food']['Age'].mean()"
      ],
      "metadata": {
        "colab": {
          "base_uri": "https://localhost:8080/"
        },
        "id": "UqWdyo8fVTby",
        "outputId": "86c5c0b2-a3af-44a3-e484-cb971ef0c47f"
      },
      "execution_count": null,
      "outputs": [
        {
          "output_type": "execute_result",
          "data": {
            "text/plain": [
              "31.92016806722689"
            ]
          },
          "metadata": {},
          "execution_count": 46
        }
      ]
    },
    {
      "cell_type": "markdown",
      "source": [
        "**Respuesta.** El promedio de edad de las personas que prefieren la comida tradicional es de 32 años"
      ],
      "metadata": {
        "id": "VRX9EiqMSeoh"
      }
    },
    {
      "cell_type": "code",
      "source": [
        "# Ignorando las mezcla de mayúsculas/minúsculas\n",
        "data_frame[data_frame.Food.apply(lambda x : x.upper()) == 'Traditional food'.upper()]['Age'].mean()"
      ],
      "metadata": {
        "colab": {
          "base_uri": "https://localhost:8080/"
        },
        "id": "AJ9lFWqfSTRv",
        "outputId": "39df4441-b2a0-4d18-ffa6-a3097e2ab76e"
      },
      "execution_count": null,
      "outputs": [
        {
          "output_type": "execute_result",
          "data": {
            "text/plain": [
              "31.92016806722689"
            ]
          },
          "metadata": {},
          "execution_count": 47
        }
      ]
    },
    {
      "cell_type": "markdown",
      "source": [
        "# Desafio para usted\n",
        "\n",
        "Considerando la data de los gastos médicos (insurance.csv) se pide que realice un análisis exploratorio y se plantee, al menos 5 preguntas que puedan encontrar respuesta a través del análisis."
      ],
      "metadata": {
        "id": "BTQgrEC7dDM8"
      }
    },
    {
      "cell_type": "code",
      "source": [
        "!wget https://www.dropbox.com/s/6xn8hxmo16f25qc/insurance.csv"
      ],
      "metadata": {
        "id": "1DeYclUbwV_V"
      },
      "execution_count": null,
      "outputs": []
    }
  ]
}