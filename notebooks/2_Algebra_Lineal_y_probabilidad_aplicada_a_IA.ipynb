{
  "nbformat": 4,
  "nbformat_minor": 0,
  "metadata": {
    "colab": {
      "provenance": []
    },
    "kernelspec": {
      "name": "python3",
      "display_name": "Python 3"
    },
    "language_info": {
      "name": "python"
    }
  },
  "cells": [
    {
      "cell_type": "code",
      "source": [
        "import numpy as np\n",
        "import matplotlib.pyplot as plt\n",
        "from scipy.stats import norm\n",
        "from sklearn.preprocessing import StandardScaler, normalize"
      ],
      "metadata": {
        "id": "lvy3x4cucj2k"
      },
      "execution_count": 1,
      "outputs": []
    },
    {
      "cell_type": "markdown",
      "source": [
        "# Álgebra lineal"
      ],
      "metadata": {
        "id": "84pNFyiVcYXR"
      }
    },
    {
      "cell_type": "markdown",
      "source": [
        "## Producto punto entre vectores\n",
        "\n",
        "El producto punto (o producto escalar) es una operación fundamental en álgebra lineal y se usa en muchos algoritmos de IA, como en redes neuronales y en métodos de optimización."
      ],
      "metadata": {
        "id": "eXL-_KO0cgD1"
      }
    },
    {
      "cell_type": "code",
      "execution_count": 2,
      "metadata": {
        "colab": {
          "base_uri": "https://localhost:8080/"
        },
        "id": "jX_r0090cKIZ",
        "outputId": "d065ed3d-263d-45e9-b25f-506efd7ade89"
      },
      "outputs": [
        {
          "output_type": "stream",
          "name": "stdout",
          "text": [
            "Producto Punto: 32\n"
          ]
        }
      ],
      "source": [
        "# Definir dos vectores\n",
        "x_vector = np.array([1, 2, 3])\n",
        "y_vector = np.array([4, 5, 6])\n",
        "\n",
        "# Calcular el producto punto\n",
        "producto_punto = np.dot(x_vector, y_vector)\n",
        "\n",
        "print(\"Producto Punto:\", producto_punto)\n"
      ]
    },
    {
      "cell_type": "markdown",
      "source": [
        "## Multiplicación de matrices\n",
        "\n",
        "La multiplicación de matrices es esencial en IA, especialmente en la propagación hacia adelante y hacia atrás en redes neuronales."
      ],
      "metadata": {
        "id": "QXz6Fnz9cyMX"
      }
    },
    {
      "cell_type": "code",
      "source": [
        "# Definir dos matrices\n",
        "matriz_a = np.array([[1, 2, 3],\n",
        "                     [4, 5, 6]])\n",
        "matriz_b = np.array([[7, 8],\n",
        "                     [9, 10],\n",
        "                     [11, 12]])\n",
        "\n",
        "# Calcular la multiplicación de matrices\n",
        "resultado = np.dot(matriz_a, matriz_b)\n",
        "\n",
        "print(\"Multiplicación de Matrices:\\n\", resultado)\n"
      ],
      "metadata": {
        "id": "3osntf10c1nX",
        "colab": {
          "base_uri": "https://localhost:8080/"
        },
        "outputId": "a0c23573-fded-4af6-c5e3-cfb8207a5e95"
      },
      "execution_count": 3,
      "outputs": [
        {
          "output_type": "stream",
          "name": "stdout",
          "text": [
            "Multiplicación de Matrices:\n",
            " [[ 58  64]\n",
            " [139 154]]\n"
          ]
        }
      ]
    },
    {
      "cell_type": "markdown",
      "source": [
        "# Vector ortogonal\n",
        "\n",
        "Dos vectores se consideran ortogonales si su producto punto (producto escalar) es igual a cero. Es decir, los vectores son perpendiculares entre sí en el espacio n-dimensional. En el espacio bidimensional y tridimensional, los vectores ortogonales son aquellos que forman un ángulo de 90 grados.\n",
        "\n",
        "Propiedad de los Vectores Ortogonales:\n",
        "Dado dos vectores\n",
        "$𝑎=(𝑎_1,𝑎_2,…,𝑎_𝑛)$ y $𝑏=(𝑏_1,𝑏_2,…,𝑏_𝑛)$, estos son ortogonales si:\n",
        "\n",
        "$𝑎⋅𝑏=𝑎_1⋅𝑏_1+𝑎_2⋅𝑏_2+…+𝑎_𝑛⋅𝑏_𝑛=0$\n"
      ],
      "metadata": {
        "id": "5UFPfludNYwH"
      }
    },
    {
      "cell_type": "code",
      "source": [
        "# Definimos dos vectores\n",
        "a = np.array([1, 2, 3])\n",
        "b = np.array([4, -2, 0])\n",
        "\n",
        "# Calculamos el producto punto\n",
        "dot_product = np.dot(a, b)\n",
        "\n",
        "# Verificamos si los vectores son ortogonales\n",
        "print(\"Los vectores son ortogonales.\" if dot_product == 0 else \"Los vectores no son ortogonales.\")\n",
        "print(f\"Producto punto: {dot_product}\")\n"
      ],
      "metadata": {
        "colab": {
          "base_uri": "https://localhost:8080/"
        },
        "id": "L91FdTp6PmCn",
        "outputId": "184ebe3f-90c7-4072-85d5-8f3153a96ede"
      },
      "execution_count": 4,
      "outputs": [
        {
          "output_type": "stream",
          "name": "stdout",
          "text": [
            "Los vectores son ortogonales.\n",
            "Producto punto: 0\n"
          ]
        }
      ]
    },
    {
      "cell_type": "markdown",
      "source": [
        "# Matriz ortogonal\n",
        "\n",
        "Una matriz es ortogonal si sus columnas (y filas) son vectores ortogonales unitarios, es decir, los vectores son perpendiculares entre sí y tienen una longitud de 1. Matemáticamente, una matriz cuadrada 𝐴 de tamaño 𝑛×𝑛 es ortogonal si cumple con la siguiente condición:\n",
        "\n",
        "$𝐴^𝑇𝐴$=𝐴$𝐴^𝑇$=𝐼\n",
        "\n",
        "donde:\n",
        "\n",
        "$𝐴^𝑇$ es la transpuesta de la matriz 𝐴.\n",
        "𝐼 es la matriz identidad de tamaño 𝑛×𝑛.\n",
        "\n",
        "**Propiedades de una Matriz Ortogonal**\n",
        "+ Vectores Ortogonales y Normalizados: las columnas (o filas) de una matriz ortogonal son vectores ortogonales entre sí (es decir, su producto punto es cero) y son vectores unitarios (es decir, su norma es 1).\n",
        "\n",
        "+ Preservación de Longitudes y Ángulos: la transformación lineal que representa una matriz ortogonal preserva las longitudes de los vectores y los ángulos entre ellos. Por lo tanto, una matriz ortogonal representa una transformación rígida (como una rotación o reflexión).\n",
        "\n",
        "+ Inversa Igual a la Transpuesta: Para una matriz ortogonal\n",
        "𝐴, la inversa de la matriz es igual a su transpuesta: $𝐴^{−1}$=$𝐴^𝑇$\n",
        "\n",
        "+ Determinante Igual a ±1: el determinante de una matriz ortogonal es siempre +1 o −1. Esto implica que no cambia el volumen de los vectores transformados (lo preserva o lo refleja).\n",
        "\n",
        "**Ejemplo de una matriz ortogonal**\n",
        "Una matriz de rotación de 90º en el plano 2D es un ejemplo clásico de matriz ortogonal: *A* =$\\begin{equation}\n",
        "\\begin{bmatrix}\n",
        "0 & -1 \\\\\n",
        "1 & 0\\\\\n",
        "\\end{bmatrix}\n",
        "\\end{equation}$\n",
        "\n",
        "Para verificar que *A* es ortogonal, se puede comprobar que:\n",
        "\n",
        "$A^T$=$\\begin{equation}\n",
        "\\begin{bmatrix}\n",
        "0 & 1 \\\\\n",
        "-1 & 0\\\\\n",
        "\\end{bmatrix}\n",
        "\\end{equation}$$\\begin{equation}\n",
        "\\begin{bmatrix}\n",
        "0 & -1 \\\\\n",
        "1 & 0\\\\\n",
        "\\end{bmatrix}\n",
        "\\end{equation}$=$\\begin{equation}\n",
        "\\begin{bmatrix}\n",
        "1 & 0 \\\\\n",
        "0 & 1\\\\\n",
        "\\end{bmatrix}\n",
        "\\end{equation}$\n",
        "\n",
        "Dado que el resultado es la matriz identidad, entonces *A* es ortogonal!!!.\n"
      ],
      "metadata": {
        "id": "X1RZ4Ffnd8ba"
      }
    },
    {
      "cell_type": "markdown",
      "source": [
        "# Vector propio\n",
        "\n",
        "Un vector propio (o autovector) de una matriz es un vector no nulo que cambia de magnitud pero no de dirección cuando se aplica la matriz a él. Es decir, si se tiene una matriz\n",
        "𝐴 y un vector 𝑣, el vector 𝑣 es un vector propio de 𝐴 si cumple con la siguiente ecuación:\n",
        "\n",
        "𝐴𝑣=𝜆𝑣 donde:\n",
        "\n",
        "+ 𝐴 es una matriz cuadrada.\n",
        "+ 𝑣 es el vector propio.\n",
        "+ 𝜆 es un valor propio (o autovalor), que es un escalar.\n",
        "\n",
        "El valor propio asociado a un vector propio indica en qué medida se escala el vector propio cuando se aplica la matriz 𝐴.\n",
        "\n"
      ],
      "metadata": {
        "id": "QlShjrywQXY3"
      }
    },
    {
      "cell_type": "code",
      "source": [
        "# Define una matriz cuadrada\n",
        "A = np.array([[4, 1],\n",
        "              [2, 3]])\n",
        "\n",
        "# Calcula los valores propios (autovalores) y los vectores propios (autovectores)\n",
        "valores_propios, vectores_propios = np.linalg.eig(A)\n",
        "\n",
        "print(\"Valores Propios:\")\n",
        "print(valores_propios)\n",
        "\n",
        "print(\"\\nVectores Propios:\")\n",
        "print(vectores_propios)\n"
      ],
      "metadata": {
        "colab": {
          "base_uri": "https://localhost:8080/"
        },
        "id": "l19xLiRjQZab",
        "outputId": "6622f34b-61ed-4abf-cc00-9848d31bd80b"
      },
      "execution_count": 5,
      "outputs": [
        {
          "output_type": "stream",
          "name": "stdout",
          "text": [
            "Valores Propios:\n",
            "[5. 2.]\n",
            "\n",
            "Vectores Propios:\n",
            "[[ 0.70710678 -0.4472136 ]\n",
            " [ 0.70710678  0.89442719]]\n"
          ]
        }
      ]
    },
    {
      "cell_type": "markdown",
      "source": [
        "## Descomposición en valores singulares (SVD)\n",
        "\n",
        "SVD es una técnica importante en la reducción de dimensionalidad y se utiliza en métodos como PCA y en el tratamiento de datos en IA.\n"
      ],
      "metadata": {
        "id": "Afxgxf4mdDBu"
      }
    },
    {
      "cell_type": "markdown",
      "source": [
        "Es una técnica que descompone una matriz en tres matrices:\n",
        "𝑈,𝑆 y $𝑉^𝑇$. Esta descomposición es muy útil en diversas áreas, como el análisis de datos, la reducción de dimensionalidad, la compresión de imágenes, entre otros.\n",
        "\n",
        "Funciona de la siguiente manera: para una matriz 𝐴 de dimensión $𝑚×𝑛$ la descomposición en valores singulares se expresa como:\n",
        "\n",
        "$𝐴=𝑈⋅𝑆⋅𝑉^𝑇$\n",
        "\n",
        "donde:\n",
        "+ 𝑈 es una matriz ortogonal de tamaño 𝑚×𝑚. Sus columnas son los vectores propios de $𝐴𝐴^T$\n",
        "+ 𝑆 es una matriz diagonal de tamaño 𝑚×𝑛, que contiene los valores singulares de 𝐴 ordenados de mayor a menor.\n",
        "+ $𝑉^𝑇$ es la transpuesta de una matriz ortogonal 𝑉 de tamaño 𝑛×𝑛. Sus columnas son los vectores propios de $𝐴^𝑇𝐴$."
      ],
      "metadata": {
        "id": "T6uQ7IMEZfgP"
      }
    },
    {
      "cell_type": "code",
      "source": [
        "# Crear una matriz\n",
        "matriz = np.array([[1, 2, 3],\n",
        "                   [4, 5, 6],\n",
        "                   [7, 8, 9]])\n",
        "\n",
        "# Aplicar SVD\n",
        "U, S, Vt = np.linalg.svd(matriz)\n",
        "print(\"A:\\n\", matriz)\n",
        "print(\"-\"*50)\n",
        "print(\"Matriz U:\\n\", U)\n",
        "print(\"-\"*50)\n",
        "print(\"Valores singulares S:\\n\", S)\n",
        "print(\"-\"*50)\n",
        "print(\"Matriz V traspuesta:\\n\", Vt)\n"
      ],
      "metadata": {
        "id": "VlFBPmOpdIBB",
        "colab": {
          "base_uri": "https://localhost:8080/"
        },
        "outputId": "e2fe9707-fa69-4e1d-9cdc-692729486fa5"
      },
      "execution_count": 15,
      "outputs": [
        {
          "output_type": "stream",
          "name": "stdout",
          "text": [
            "A:\n",
            " [[1 2 3]\n",
            " [4 5 6]\n",
            " [7 8 9]]\n",
            "--------------------------------------------------\n",
            "Matriz U:\n",
            " [[-0.21483724  0.88723069  0.40824829]\n",
            " [-0.52058739  0.24964395 -0.81649658]\n",
            " [-0.82633754 -0.38794278  0.40824829]]\n",
            "--------------------------------------------------\n",
            "Valores singulares S:\n",
            " [1.68481034e+01 1.06836951e+00 4.41842475e-16]\n",
            "--------------------------------------------------\n",
            "Matriz V traspuesta:\n",
            " [[-0.47967118 -0.57236779 -0.66506441]\n",
            " [-0.77669099 -0.07568647  0.62531805]\n",
            " [-0.40824829  0.81649658 -0.40824829]]\n"
          ]
        }
      ]
    },
    {
      "cell_type": "markdown",
      "source": [
        "1. Matriz 𝑈: esta es una matriz ortogonal que contiene los vectores propios de 𝐴$𝐴^𝑇$. Dado que 𝐴 es una matriz de tamaño\n",
        "3×3, 𝑈 también será de tamaño 3×3. Cada columna de 𝑈 es un vector propio de 𝐴$𝐴^𝑇$ y está normalizada.\n",
        "\n",
        "2. Valores singulares 𝑆:𝑆 contiene los valores singulares de la matriz original, que son las raíces cuadradas de los valores propios de $𝐴^𝑇$𝐴. Estos valores están ordenados de mayor a menor. En NumPy, np.linalg.svd devuelve 𝑆 como un vector de valores singulares (no como una matriz diagonal), por lo que el resultado es un vector de tamaño 3 para esta matriz 3x3.\n",
        "\n",
        "3. Matriz $𝑉^𝑇$: esta es la transpuesta de la matriz ortogonal\n",
        "𝑉 que contiene los vectores propios de $𝐴^𝑇𝐴$. Dado que\n",
        "𝐴 es una matriz de tamaño 3×3, $𝑉^𝑇$ también será de tamaño 3×3."
      ],
      "metadata": {
        "id": "D0RNM-Dwcsid"
      }
    },
    {
      "cell_type": "code",
      "source": [
        "def es_ortogonal(matriz):\n",
        "    # Calcular la transpuesta de la matriz\n",
        "    matriz_transpuesta = matriz.T\n",
        "\n",
        "    # Multiplicar la matriz por su transpuesta\n",
        "    resultado = np.dot(matriz, matriz_transpuesta)\n",
        "\n",
        "    # Crear una matriz identidad del mismo tamaño\n",
        "    identidad = np.eye(matriz.shape[0])\n",
        "\n",
        "    # Comprobar si el resultado es igual a la matriz identidad\n",
        "    return np.allclose(resultado, identidad)"
      ],
      "metadata": {
        "id": "Vilpw3E6-nQl"
      },
      "execution_count": 16,
      "outputs": []
    },
    {
      "cell_type": "code",
      "source": [
        "# Comprueba si la matriz U es ortogonal\n",
        "es_ortogonal(U)"
      ],
      "metadata": {
        "colab": {
          "base_uri": "https://localhost:8080/"
        },
        "id": "NSvz806K-usm",
        "outputId": "2a0c6252-70dc-41ce-afa9-a0646da73040"
      },
      "execution_count": 18,
      "outputs": [
        {
          "output_type": "execute_result",
          "data": {
            "text/plain": [
              "True"
            ]
          },
          "metadata": {},
          "execution_count": 18
        }
      ]
    },
    {
      "cell_type": "code",
      "source": [
        "# Crear una matriz de ejemplo\n",
        "x_matriz = np.array([[1, 2, 3],\n",
        "                   [4, 5, 6],\n",
        "                   [7, 8, 9]])\n",
        "\n",
        "print(x_matriz[:,0])\n",
        "print(np.linalg.norm(x_matriz[:,0]))"
      ],
      "metadata": {
        "colab": {
          "base_uri": "https://localhost:8080/"
        },
        "id": "N29gu6vLAL9p",
        "outputId": "a8f4b796-ccab-4784-e986-6276aaa2c899"
      },
      "execution_count": 4,
      "outputs": [
        {
          "output_type": "stream",
          "name": "stdout",
          "text": [
            "[1 4 7]\n",
            "8.12403840463596\n"
          ]
        }
      ]
    },
    {
      "cell_type": "markdown",
      "source": [
        "## Tensores y escalares\n",
        "\n",
        "Un tensor es un objeto matemático que generaliza la noción de escalares, vectores y matrices. En términos más simples, un tensor puede ser un número, un vector, una matriz o cualquier colección de estos objetos. En el contexto del aprendizaje profundo y la biblioteca TensorFlow, los tensores se utilizan para representar datos multidimensionales.\n",
        "\n",
        "**Diferencia con Escalar:**\n",
        "\n",
        "Escalar: Es simplemente un número, como 15 o -29. Un escalar tiene magnitud pero no dirección. Puede considerarse un tensor de rango 0, ya que no tiene dimensiones.\n",
        "\n",
        "Tensor: Es un objeto más general que puede contener múltiples escalares organizados en una estructura multidimensional. Por ejemplo, un vector de números es un tensor de rango 1, una matriz es un tensor de rango 2, y así sucesivamente.\n"
      ],
      "metadata": {
        "id": "u0PoUcJIeFNV"
      }
    },
    {
      "cell_type": "code",
      "source": [
        "# Escalar (Tensor de rango 0)\n",
        "escalar = 29"
      ],
      "metadata": {
        "id": "ibkBvtDheMAF"
      },
      "execution_count": null,
      "outputs": []
    },
    {
      "cell_type": "code",
      "source": [
        "# Vector (Tensor de rango 1)\n",
        "vector = np.array([1, 2, 3])\n",
        "print(\"Vector\\n\", vector)\n",
        "\n",
        "# Matriz (Tensor de rango 2)\n",
        "matriz = np.array([[1, 2, 3], [4, 5, 6], [7, 8, 9]])\n",
        "print(\"Matriz\\n\", matriz)\n",
        "\n",
        "# Tensor de rango 3\n",
        "tensor_3d = np.array([[[1, 2], [3, 4]], [[5, 6], [7, 8]], [[9, 10], [11, 12]]])\n",
        "print(\"Tensor 3D\\n\", tensor_3d)"
      ],
      "metadata": {
        "id": "I6YYI24ZeNVK"
      },
      "execution_count": null,
      "outputs": []
    },
    {
      "cell_type": "markdown",
      "source": [
        "En estos ejemplos, *escalar* es un tensor de rango 0, vector es un tensor de rango 1, *matriz* es un tensor de rango 2, y *tensor_3d* es un tensor de rango 3.\n",
        "Los tensores son fundamentales en el aprendizaje profundo (Deep Learning), donde representan datos en conjuntos de muestras con múltiples dimensiones."
      ],
      "metadata": {
        "id": "Un0fSZQieSfZ"
      }
    },
    {
      "cell_type": "markdown",
      "source": [
        "## Operaciones entre vectores"
      ],
      "metadata": {
        "id": "luXCLkZ1ehPk"
      }
    },
    {
      "cell_type": "code",
      "source": [
        "# Suma\n",
        "a = np.array([1, 2, 4])\n",
        "b = np.array([15,25,30])\n",
        "c = a + b\n",
        "print(c)"
      ],
      "metadata": {
        "id": "7uSG1f1RekvW"
      },
      "execution_count": null,
      "outputs": []
    },
    {
      "cell_type": "code",
      "source": [
        "# Resta\n",
        "a = np.array([1, 2, 4])\n",
        "b = np.array([15,25,30])\n",
        "c = a - b\n",
        "print(c)"
      ],
      "metadata": {
        "id": "eyjHV8KIeoH2"
      },
      "execution_count": null,
      "outputs": []
    },
    {
      "cell_type": "code",
      "source": [
        "# Multiplicación\n",
        "a = np.array([1, 2, 4])\n",
        "b = np.array([15,25,30])\n",
        "c = a * b\n",
        "print(c)"
      ],
      "metadata": {
        "id": "7n5ZGVjGeqbR"
      },
      "execution_count": null,
      "outputs": []
    },
    {
      "cell_type": "code",
      "source": [
        "# División\n",
        "a = np.array([1, 2, 4])\n",
        "b = np.array([15,25,30])\n",
        "c = a / b\n",
        "print(c)"
      ],
      "metadata": {
        "id": "pG5Tlz_Peslz"
      },
      "execution_count": null,
      "outputs": []
    },
    {
      "cell_type": "code",
      "source": [
        "# Usando escalares\n",
        "a = np.array([15,3,25])\n",
        "b = a + 7\n",
        "print(b)"
      ],
      "metadata": {
        "id": "bFyBmSR2eu9D"
      },
      "execution_count": null,
      "outputs": []
    },
    {
      "cell_type": "markdown",
      "source": [
        "## Funciones universales"
      ],
      "metadata": {
        "id": "4GFYddSgeyGC"
      }
    },
    {
      "cell_type": "code",
      "source": [
        "valores = np.array([2,3,5,6])\n",
        "print(\"Elementos\", valores)"
      ],
      "metadata": {
        "id": "RgKXH47Je2Z5"
      },
      "execution_count": null,
      "outputs": []
    },
    {
      "cell_type": "code",
      "source": [
        "# Suma de los valores\n",
        "np.sum(valores)"
      ],
      "metadata": {
        "id": "8mxj0LOce3HL"
      },
      "execution_count": null,
      "outputs": []
    },
    {
      "cell_type": "code",
      "source": [
        "# Acumula los valores del arreglo\n",
        "np.cumsum(valores)"
      ],
      "metadata": {
        "id": "a-sunpMhe6Gw"
      },
      "execution_count": null,
      "outputs": []
    },
    {
      "cell_type": "code",
      "source": [
        "# Obtiene la productoria de los elementos del arreglo\n",
        "np.cumprod(valores)"
      ],
      "metadata": {
        "id": "5ciTwagye8A9"
      },
      "execution_count": null,
      "outputs": []
    },
    {
      "cell_type": "code",
      "source": [
        "valores = np.array([[2,4,5,6],[8,10,15,50]])\n",
        "valores"
      ],
      "metadata": {
        "id": "fEjcOXu3e-Xz"
      },
      "execution_count": null,
      "outputs": []
    },
    {
      "cell_type": "code",
      "source": [
        "# Suma todos lo valores del arreglo bidimensional\n",
        "np.sum(valores)"
      ],
      "metadata": {
        "id": "OGuI1BM_fBOd"
      },
      "execution_count": null,
      "outputs": []
    },
    {
      "cell_type": "code",
      "source": [
        "# Suma los valores por fila\n",
        "np.sum(valores, axis = 1)"
      ],
      "metadata": {
        "id": "eiLpHQ-0fCAZ"
      },
      "execution_count": null,
      "outputs": []
    },
    {
      "cell_type": "code",
      "source": [
        "# Suma los valores por columna\n",
        "np.sum(valores, axis = 0)"
      ],
      "metadata": {
        "id": "3Mc-01wUfFQ2"
      },
      "execution_count": null,
      "outputs": []
    },
    {
      "cell_type": "markdown",
      "source": [
        "## Manipulación de forma"
      ],
      "metadata": {
        "id": "6ppt3ZhnfJDU"
      }
    },
    {
      "cell_type": "code",
      "source": [
        "# Creación de los elementos\n",
        "elementos = np.array([[1, 2, 3, 1], [4, 5, 6, 1], [7, 8, 9, 1]])\n",
        "elementos"
      ],
      "metadata": {
        "id": "xUpmpkm0fLm3"
      },
      "execution_count": null,
      "outputs": []
    },
    {
      "cell_type": "code",
      "source": [
        "# Obtiene la cantidad de filas y columnas\n",
        "elementos.shape"
      ],
      "metadata": {
        "id": "5UH_0e_ZfP5b"
      },
      "execution_count": null,
      "outputs": []
    },
    {
      "cell_type": "code",
      "source": [
        "# Reorganiza en 4 filas y 3 columnas\n",
        "elementos.reshape(4,3)"
      ],
      "metadata": {
        "id": "B7-Jd3H_fR2p"
      },
      "execution_count": null,
      "outputs": []
    },
    {
      "cell_type": "code",
      "source": [
        "# Reorganiza en 2 filas y 6 columnas\n",
        "elementos.reshape(2,6)"
      ],
      "metadata": {
        "id": "dwbW7XfkfT4E"
      },
      "execution_count": null,
      "outputs": []
    },
    {
      "cell_type": "code",
      "source": [
        "# Obtiene la traspuesta - Alternativa 1\n",
        "elementos.T"
      ],
      "metadata": {
        "id": "rDcPK2U7fWT3"
      },
      "execution_count": null,
      "outputs": []
    },
    {
      "cell_type": "code",
      "source": [
        "# Obtiene la traspuesta - Alternativa 2\n",
        "elementos.transpose()"
      ],
      "metadata": {
        "id": "hW8aeHXAfYrA"
      },
      "execution_count": null,
      "outputs": []
    },
    {
      "cell_type": "code",
      "source": [
        "# Obtiene los elementos como una lista - Alternativa 1\n",
        "elementos.ravel()"
      ],
      "metadata": {
        "id": "ypPog-M5fbHn"
      },
      "execution_count": null,
      "outputs": []
    },
    {
      "cell_type": "code",
      "source": [
        "# Obtiene los elementos como una lista - Alternativa 2\n",
        "elementos.flatten()"
      ],
      "metadata": {
        "id": "9WYMEz-Ofc08"
      },
      "execution_count": null,
      "outputs": []
    },
    {
      "cell_type": "markdown",
      "source": [
        "## Indexación y selección"
      ],
      "metadata": {
        "id": "bx8L0KjFfj4u"
      }
    },
    {
      "cell_type": "code",
      "source": [
        "valores = np.array([20,3,5,6,1,-3,10,45,43,50,4])\n",
        "print(\"Elementos\", valores)"
      ],
      "metadata": {
        "id": "j81vtdM_fmuN"
      },
      "execution_count": null,
      "outputs": []
    },
    {
      "cell_type": "code",
      "source": [
        "# Acceso a un elemento, por su índice\n",
        "valores[4]"
      ],
      "metadata": {
        "id": "2ALjGqB4fo0Y"
      },
      "execution_count": null,
      "outputs": []
    },
    {
      "cell_type": "code",
      "source": [
        "# Selección con uso de slice - Versión 1\n",
        "valores[:2]"
      ],
      "metadata": {
        "id": "Y4gagsrcfq-9"
      },
      "execution_count": null,
      "outputs": []
    },
    {
      "cell_type": "code",
      "source": [
        "# Selección con uso de slice - Versión 2\n",
        "valores[4:]"
      ],
      "metadata": {
        "id": "wVi5gTibftE_"
      },
      "execution_count": null,
      "outputs": []
    },
    {
      "cell_type": "code",
      "source": [
        "# Selección con uso de slice - Versión 3\n",
        "valores[4:10]"
      ],
      "metadata": {
        "id": "pE-WtrwQfvQw"
      },
      "execution_count": null,
      "outputs": []
    },
    {
      "cell_type": "code",
      "source": [
        "# Selección usando condición\n",
        "valores[valores > 15]"
      ],
      "metadata": {
        "id": "viHSfkwQfxXf"
      },
      "execution_count": null,
      "outputs": []
    },
    {
      "cell_type": "markdown",
      "source": [
        "# Probabilidad"
      ],
      "metadata": {
        "id": "HsFir4cncch0"
      }
    },
    {
      "cell_type": "markdown",
      "source": [
        "## Distribución normal\n",
        "\n",
        "Las distribuciones normales son fundamentales en probabilidad y estadísticas y son ampliamente utilizadas en IA, por ejemplo, en técnicas de regresión y modelos probabilísticos."
      ],
      "metadata": {
        "id": "9nuAsEx7dOQy"
      }
    },
    {
      "cell_type": "code",
      "source": [
        "# Definir parámetros de la distribución\n",
        "media = 0\n",
        "desviacion_estandar = 1\n",
        "\n",
        "# Generar una distribución normal\n",
        "x = np.linspace(-5, 5, 100)\n",
        "y = norm.pdf(x, media, desviacion_estandar)\n",
        "\n",
        "# Graficar la distribución\n",
        "plt.plot(x, y)\n",
        "plt.title(\"Distribución Normal\")\n",
        "plt.xlabel(\"Valor\")\n",
        "plt.ylabel(\"Densidad de probabilidad\")\n",
        "plt.show()\n"
      ],
      "metadata": {
        "id": "DRqCKoi0dTdb"
      },
      "execution_count": null,
      "outputs": []
    },
    {
      "cell_type": "markdown",
      "source": [
        "## Teorema de Bayes\n",
        "\n",
        "El teorema de Bayes se utiliza en métodos de clasificación como el clasificador Naive Bayes y en la inferencia probabilística en redes bayesianas."
      ],
      "metadata": {
        "id": "EiTzlcYhdbk2"
      }
    },
    {
      "cell_type": "code",
      "source": [
        "# Probabilidades previas\n",
        "p_A = 0.4\n",
        "p_B = 0.6\n",
        "\n",
        "# Probabilidad condicional\n",
        "p_B_dado_A = 0.7\n",
        "\n",
        "# Aplicar el teorema de Bayes\n",
        "p_A_dado_B = (p_B_dado_A * p_A) / p_B\n",
        "\n",
        "print(\"P(A|B) usando el Teorema de Bayes:\", p_A_dado_B)\n"
      ],
      "metadata": {
        "id": "Ek58oAo0dfCF"
      },
      "execution_count": null,
      "outputs": []
    }
  ]
}