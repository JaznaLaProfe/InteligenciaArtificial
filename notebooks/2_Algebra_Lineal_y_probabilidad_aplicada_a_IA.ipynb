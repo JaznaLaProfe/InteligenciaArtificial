{
  "nbformat": 4,
  "nbformat_minor": 0,
  "metadata": {
    "colab": {
      "provenance": []
    },
    "kernelspec": {
      "name": "python3",
      "display_name": "Python 3"
    },
    "language_info": {
      "name": "python"
    }
  },
  "cells": [
    {
      "cell_type": "code",
      "source": [
        "import numpy as np\n",
        "import matplotlib.pyplot as plt\n",
        "from scipy.stats import norm"
      ],
      "metadata": {
        "id": "lvy3x4cucj2k"
      },
      "execution_count": null,
      "outputs": []
    },
    {
      "cell_type": "markdown",
      "source": [
        "# Álgebra lineal"
      ],
      "metadata": {
        "id": "84pNFyiVcYXR"
      }
    },
    {
      "cell_type": "markdown",
      "source": [
        "## Producto punto entre vectores\n",
        "\n",
        "El producto punto (o producto escalar) es una operación fundamental en álgebra lineal y se usa en muchos algoritmos de IA, como en redes neuronales y en métodos de optimización."
      ],
      "metadata": {
        "id": "eXL-_KO0cgD1"
      }
    },
    {
      "cell_type": "code",
      "execution_count": null,
      "metadata": {
        "colab": {
          "base_uri": "https://localhost:8080/"
        },
        "id": "jX_r0090cKIZ",
        "outputId": "e61ec018-767f-4d0c-b2db-9481cee7ed4b"
      },
      "outputs": [
        {
          "output_type": "stream",
          "name": "stdout",
          "text": [
            "Producto Punto: 32\n"
          ]
        }
      ],
      "source": [
        "# Definir dos vectores\n",
        "x_vector = np.array([1, 2, 3])\n",
        "y_vector = np.array([4, 5, 6])\n",
        "\n",
        "# Calcular el producto punto\n",
        "producto_punto = np.dot(x_vector, y_vector)\n",
        "\n",
        "print(\"Producto Punto:\", producto_punto)\n"
      ]
    },
    {
      "cell_type": "markdown",
      "source": [
        "## Multiplicación de matrices\n",
        "\n",
        "La multiplicación de matrices es esencial en IA, especialmente en la propagación hacia adelante y hacia atrás en redes neuronales."
      ],
      "metadata": {
        "id": "QXz6Fnz9cyMX"
      }
    },
    {
      "cell_type": "code",
      "source": [
        "# Definir dos matrices\n",
        "matriz_a = np.array([[1, 2, 3],\n",
        "                     [4, 5, 6]])\n",
        "matriz_b = np.array([[7, 8],\n",
        "                     [9, 10],\n",
        "                     [11, 12]])\n",
        "\n",
        "# Calcular la multiplicación de matrices\n",
        "resultado = np.dot(matriz_a, matriz_b)\n",
        "\n",
        "print(\"Multiplicación de Matrices:\\n\", resultado)\n"
      ],
      "metadata": {
        "id": "3osntf10c1nX"
      },
      "execution_count": null,
      "outputs": []
    },
    {
      "cell_type": "markdown",
      "source": [
        "## Descomposición en valores singulares (SVD)\n",
        "\n",
        "SVD es una técnica importante en la reducción de dimensionalidad y se utiliza en métodos como PCA y en el tratamiento de datos en IA.\n"
      ],
      "metadata": {
        "id": "Afxgxf4mdDBu"
      }
    },
    {
      "cell_type": "code",
      "source": [
        "# Crear una matriz\n",
        "matriz = np.array([[1, 2, 3],\n",
        "                   [4, 5, 6],\n",
        "                   [7, 8, 9]])\n",
        "\n",
        "# Aplicar SVD\n",
        "U, S, Vt = np.linalg.svd(matriz)\n",
        "\n",
        "print(\"Matriz U:\\n\", U)\n",
        "print(\"Valores singulares S:\\n\", S)\n",
        "print(\"Matriz V traspuesta:\\n\", Vt)\n"
      ],
      "metadata": {
        "id": "VlFBPmOpdIBB"
      },
      "execution_count": null,
      "outputs": []
    },
    {
      "cell_type": "markdown",
      "source": [
        "## Tensores y escalares\n",
        "\n",
        "Un tensor es un objeto matemático que generaliza la noción de escalares, vectores y matrices. En términos más simples, un tensor puede ser un número, un vector, una matriz o cualquier colección de estos objetos. En el contexto del aprendizaje profundo y la biblioteca TensorFlow, los tensores se utilizan para representar datos multidimensionales.\n",
        "\n",
        "**Diferencia con Escalar:**\n",
        "\n",
        "Escalar: Es simplemente un número, como 15 o -29. Un escalar tiene magnitud pero no dirección. Puede considerarse un tensor de rango 0, ya que no tiene dimensiones.\n",
        "\n",
        "Tensor: Es un objeto más general que puede contener múltiples escalares organizados en una estructura multidimensional. Por ejemplo, un vector de números es un tensor de rango 1, una matriz es un tensor de rango 2, y así sucesivamente.\n"
      ],
      "metadata": {
        "id": "u0PoUcJIeFNV"
      }
    },
    {
      "cell_type": "code",
      "source": [
        "# Escalar (Tensor de rango 0)\n",
        "escalar = 29"
      ],
      "metadata": {
        "id": "ibkBvtDheMAF"
      },
      "execution_count": null,
      "outputs": []
    },
    {
      "cell_type": "code",
      "source": [
        "# Vector (Tensor de rango 1)\n",
        "vector = np.array([1, 2, 3])\n",
        "print(\"Vector\\n\", vector)\n",
        "\n",
        "# Matriz (Tensor de rango 2)\n",
        "matriz = np.array([[1, 2, 3], [4, 5, 6], [7, 8, 9]])\n",
        "print(\"Matriz\\n\", matriz)\n",
        "\n",
        "# Tensor de rango 3\n",
        "tensor_3d = np.array([[[1, 2], [3, 4]], [[5, 6], [7, 8]], [[9, 10], [11, 12]]])\n",
        "print(\"Tensor 3D\\n\", tensor_3d)"
      ],
      "metadata": {
        "id": "I6YYI24ZeNVK"
      },
      "execution_count": null,
      "outputs": []
    },
    {
      "cell_type": "markdown",
      "source": [
        "En estos ejemplos, *escalar* es un tensor de rango 0, vector es un tensor de rango 1, *matriz* es un tensor de rango 2, y *tensor_3d* es un tensor de rango 3.\n",
        "Los tensores son fundamentales en el aprendizaje profundo (Deep Learning), donde representan datos en conjuntos de muestras con múltiples dimensiones."
      ],
      "metadata": {
        "id": "Un0fSZQieSfZ"
      }
    },
    {
      "cell_type": "markdown",
      "source": [
        "## Operaciones entre vectores"
      ],
      "metadata": {
        "id": "luXCLkZ1ehPk"
      }
    },
    {
      "cell_type": "code",
      "source": [
        "# Suma\n",
        "a = np.array([1, 2, 4])\n",
        "b = np.array([15,25,30])\n",
        "c = a + b\n",
        "print(c)"
      ],
      "metadata": {
        "id": "7uSG1f1RekvW"
      },
      "execution_count": null,
      "outputs": []
    },
    {
      "cell_type": "code",
      "source": [
        "# Resta\n",
        "a = np.array([1, 2, 4])\n",
        "b = np.array([15,25,30])\n",
        "c = a - b\n",
        "print(c)"
      ],
      "metadata": {
        "id": "eyjHV8KIeoH2"
      },
      "execution_count": null,
      "outputs": []
    },
    {
      "cell_type": "code",
      "source": [
        "# Multiplicación\n",
        "a = np.array([1, 2, 4])\n",
        "b = np.array([15,25,30])\n",
        "c = a * b\n",
        "print(c)"
      ],
      "metadata": {
        "id": "7n5ZGVjGeqbR"
      },
      "execution_count": null,
      "outputs": []
    },
    {
      "cell_type": "code",
      "source": [
        "# División\n",
        "a = np.array([1, 2, 4])\n",
        "b = np.array([15,25,30])\n",
        "c = a / b\n",
        "print(c)"
      ],
      "metadata": {
        "id": "pG5Tlz_Peslz"
      },
      "execution_count": null,
      "outputs": []
    },
    {
      "cell_type": "code",
      "source": [
        "# Usando escalares\n",
        "a = np.array([15,3,25])\n",
        "b = a + 7\n",
        "print(b)"
      ],
      "metadata": {
        "id": "bFyBmSR2eu9D"
      },
      "execution_count": null,
      "outputs": []
    },
    {
      "cell_type": "markdown",
      "source": [
        "## Funciones universales"
      ],
      "metadata": {
        "id": "4GFYddSgeyGC"
      }
    },
    {
      "cell_type": "code",
      "source": [
        "valores = np.array([2,3,5,6])\n",
        "print(\"Elementos\", valores)"
      ],
      "metadata": {
        "id": "RgKXH47Je2Z5"
      },
      "execution_count": null,
      "outputs": []
    },
    {
      "cell_type": "code",
      "source": [
        "# Suma de los valores\n",
        "np.sum(valores)"
      ],
      "metadata": {
        "id": "8mxj0LOce3HL"
      },
      "execution_count": null,
      "outputs": []
    },
    {
      "cell_type": "code",
      "source": [
        "# Acumula los valores del arreglo\n",
        "np.cumsum(valores)"
      ],
      "metadata": {
        "id": "a-sunpMhe6Gw"
      },
      "execution_count": null,
      "outputs": []
    },
    {
      "cell_type": "code",
      "source": [
        "# Obtiene la productoria de los elementos del arreglo\n",
        "np.cumprod(valores)"
      ],
      "metadata": {
        "id": "5ciTwagye8A9"
      },
      "execution_count": null,
      "outputs": []
    },
    {
      "cell_type": "code",
      "source": [
        "valores = np.array([[2,4,5,6],[8,10,15,50]])\n",
        "valores"
      ],
      "metadata": {
        "id": "fEjcOXu3e-Xz"
      },
      "execution_count": null,
      "outputs": []
    },
    {
      "cell_type": "code",
      "source": [
        "# Suma todos lo valores del arreglo bidimensional\n",
        "np.sum(valores)"
      ],
      "metadata": {
        "id": "OGuI1BM_fBOd"
      },
      "execution_count": null,
      "outputs": []
    },
    {
      "cell_type": "code",
      "source": [
        "# Suma los valores por fila\n",
        "np.sum(valores, axis = 1)"
      ],
      "metadata": {
        "id": "eiLpHQ-0fCAZ"
      },
      "execution_count": null,
      "outputs": []
    },
    {
      "cell_type": "code",
      "source": [
        "# Suma los valores por columna\n",
        "np.sum(valores, axis = 0)"
      ],
      "metadata": {
        "id": "3Mc-01wUfFQ2"
      },
      "execution_count": null,
      "outputs": []
    },
    {
      "cell_type": "markdown",
      "source": [
        "## Manipulación de forma"
      ],
      "metadata": {
        "id": "6ppt3ZhnfJDU"
      }
    },
    {
      "cell_type": "code",
      "source": [
        "# Creación de los elementos\n",
        "elementos = np.array([[1, 2, 3, 1], [4, 5, 6, 1], [7, 8, 9, 1]])\n",
        "elementos"
      ],
      "metadata": {
        "id": "xUpmpkm0fLm3"
      },
      "execution_count": null,
      "outputs": []
    },
    {
      "cell_type": "code",
      "source": [
        "# Obtiene la cantidad de filas y columnas\n",
        "elementos.shape"
      ],
      "metadata": {
        "id": "5UH_0e_ZfP5b"
      },
      "execution_count": null,
      "outputs": []
    },
    {
      "cell_type": "code",
      "source": [
        "# Reorganiza en 4 filas y 3 columnas\n",
        "elementos.reshape(4,3)"
      ],
      "metadata": {
        "id": "B7-Jd3H_fR2p"
      },
      "execution_count": null,
      "outputs": []
    },
    {
      "cell_type": "code",
      "source": [
        "# Reorganiza en 2 filas y 6 columnas\n",
        "elementos.reshape(2,6)"
      ],
      "metadata": {
        "id": "dwbW7XfkfT4E"
      },
      "execution_count": null,
      "outputs": []
    },
    {
      "cell_type": "code",
      "source": [
        "# Obtiene la traspuesta - Alternativa 1\n",
        "elementos.T"
      ],
      "metadata": {
        "id": "rDcPK2U7fWT3"
      },
      "execution_count": null,
      "outputs": []
    },
    {
      "cell_type": "code",
      "source": [
        "# Obtiene la traspuesta - Alternativa 2\n",
        "elementos.transpose()"
      ],
      "metadata": {
        "id": "hW8aeHXAfYrA"
      },
      "execution_count": null,
      "outputs": []
    },
    {
      "cell_type": "code",
      "source": [
        "# Obtiene los elementos como una lista - Alternativa 1\n",
        "elementos.ravel()"
      ],
      "metadata": {
        "id": "ypPog-M5fbHn"
      },
      "execution_count": null,
      "outputs": []
    },
    {
      "cell_type": "code",
      "source": [
        "# Obtiene los elementos como una lista - Alternativa 2\n",
        "elementos.flatten()"
      ],
      "metadata": {
        "id": "9WYMEz-Ofc08"
      },
      "execution_count": null,
      "outputs": []
    },
    {
      "cell_type": "markdown",
      "source": [
        "## Indexación y selección"
      ],
      "metadata": {
        "id": "bx8L0KjFfj4u"
      }
    },
    {
      "cell_type": "code",
      "source": [
        "valores = np.array([20,3,5,6,1,-3,10,45,43,50,4])\n",
        "print(\"Elementos\", valores)"
      ],
      "metadata": {
        "id": "j81vtdM_fmuN"
      },
      "execution_count": null,
      "outputs": []
    },
    {
      "cell_type": "code",
      "source": [
        "# Acceso a un elemento, por su índice\n",
        "valores[4]"
      ],
      "metadata": {
        "id": "2ALjGqB4fo0Y"
      },
      "execution_count": null,
      "outputs": []
    },
    {
      "cell_type": "code",
      "source": [
        "# Selección con uso de slice - Versión 1\n",
        "valores[:2]"
      ],
      "metadata": {
        "id": "Y4gagsrcfq-9"
      },
      "execution_count": null,
      "outputs": []
    },
    {
      "cell_type": "code",
      "source": [
        "# Selección con uso de slice - Versión 2\n",
        "valores[4:]"
      ],
      "metadata": {
        "id": "wVi5gTibftE_"
      },
      "execution_count": null,
      "outputs": []
    },
    {
      "cell_type": "code",
      "source": [
        "# Selección con uso de slice - Versión 3\n",
        "valores[4:10]"
      ],
      "metadata": {
        "id": "pE-WtrwQfvQw"
      },
      "execution_count": null,
      "outputs": []
    },
    {
      "cell_type": "code",
      "source": [
        "# Selección usando condición\n",
        "valores[valores > 15]"
      ],
      "metadata": {
        "id": "viHSfkwQfxXf"
      },
      "execution_count": null,
      "outputs": []
    },
    {
      "cell_type": "markdown",
      "source": [
        "# Probabilidad"
      ],
      "metadata": {
        "id": "HsFir4cncch0"
      }
    },
    {
      "cell_type": "markdown",
      "source": [
        "## Distribución normal\n",
        "\n",
        "Las distribuciones normales son fundamentales en probabilidad y estadísticas y son ampliamente utilizadas en IA, por ejemplo, en técnicas de regresión y modelos probabilísticos."
      ],
      "metadata": {
        "id": "9nuAsEx7dOQy"
      }
    },
    {
      "cell_type": "code",
      "source": [
        "# Definir parámetros de la distribución\n",
        "media = 0\n",
        "desviacion_estandar = 1\n",
        "\n",
        "# Generar una distribución normal\n",
        "x = np.linspace(-5, 5, 100)\n",
        "y = norm.pdf(x, media, desviacion_estandar)\n",
        "\n",
        "# Graficar la distribución\n",
        "plt.plot(x, y)\n",
        "plt.title(\"Distribución Normal\")\n",
        "plt.xlabel(\"Valor\")\n",
        "plt.ylabel(\"Densidad de probabilidad\")\n",
        "plt.show()\n"
      ],
      "metadata": {
        "id": "DRqCKoi0dTdb"
      },
      "execution_count": null,
      "outputs": []
    },
    {
      "cell_type": "markdown",
      "source": [
        "## Teorema de Bayes\n",
        "\n",
        "El teorema de Bayes se utiliza en métodos de clasificación como el clasificador Naive Bayes y en la inferencia probabilística en redes bayesianas."
      ],
      "metadata": {
        "id": "EiTzlcYhdbk2"
      }
    },
    {
      "cell_type": "code",
      "source": [
        "# Probabilidades previas\n",
        "p_A = 0.4\n",
        "p_B = 0.6\n",
        "\n",
        "# Probabilidad condicional\n",
        "p_B_dado_A = 0.7\n",
        "\n",
        "# Aplicar el teorema de Bayes\n",
        "p_A_dado_B = (p_B_dado_A * p_A) / p_B\n",
        "\n",
        "print(\"P(A|B) usando el Teorema de Bayes:\", p_A_dado_B)\n"
      ],
      "metadata": {
        "id": "Ek58oAo0dfCF"
      },
      "execution_count": null,
      "outputs": []
    }
  ]
}