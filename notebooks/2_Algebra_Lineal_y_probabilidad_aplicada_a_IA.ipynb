{
  "nbformat": 4,
  "nbformat_minor": 0,
  "metadata": {
    "colab": {
      "provenance": [],
      "toc_visible": true
    },
    "kernelspec": {
      "name": "python3",
      "display_name": "Python 3"
    },
    "language_info": {
      "name": "python"
    }
  },
  "cells": [
    {
      "cell_type": "markdown",
      "source": [
        "# Álgebral lineal y probabilidad aplicada a IA\n",
        "\n",
        "**Autor:** Jazna Meza Hidalgo\n",
        "\n",
        "**Correo Electrónico:** ymeza@ubiobio.cl\n",
        "\n",
        "**Fecha de Creación:** Noviembre de 2024  \n",
        "**Versión:** 1.0  \n",
        "\n",
        "---\n",
        "\n",
        "## Descripción\n",
        "\n",
        "En este notebook se explican los conceptos de álgebra lineal y probabilidad y sus aplicaciones en la IA.\n",
        "\n",
        "---\n",
        "\n",
        "## Requisitos de Software\n",
        "\n",
        "Este notebook fue desarrollado con Python 3.9. A continuación se listan las bibliotecas necesarias:\n",
        "\n",
        "- numpy (1.26.4)\n",
        "- matplotlib (3.7.1)\n",
        "- scipy (1.14.1)\n",
        "- sklearn (1.6.1)\n",
        "\n",
        "\n",
        "Para verificar la versión instalada ejecutar usando el nombre del paquete del cual quieres saber la versión; por ejemplo, si quieres saber la versión de sklearn usas:\n",
        "\n",
        "```bash\n",
        "import numpy\n",
        "print(numpy.__version__)\n",
        "````"
      ],
      "metadata": {
        "id": "GLGFzrJK49IX"
      }
    },
    {
      "cell_type": "code",
      "source": [
        "import numpy as np\n",
        "import matplotlib.pyplot as plt\n",
        "import seaborn as sns\n",
        "\n",
        "from scipy.stats import mode, norm\n",
        "from sklearn.preprocessing import StandardScaler, normalize"
      ],
      "metadata": {
        "id": "lvy3x4cucj2k"
      },
      "execution_count": 17,
      "outputs": []
    },
    {
      "cell_type": "markdown",
      "source": [
        "# Álgebra lineal"
      ],
      "metadata": {
        "id": "84pNFyiVcYXR"
      }
    },
    {
      "cell_type": "markdown",
      "source": [
        "## Producto punto entre vectores\n",
        "\n",
        "El producto punto (o producto escalar) es una operación fundamental en álgebra lineal y se usa en muchos algoritmos de IA, como en redes neuronales y en métodos de optimización."
      ],
      "metadata": {
        "id": "eXL-_KO0cgD1"
      }
    },
    {
      "cell_type": "code",
      "execution_count": null,
      "metadata": {
        "colab": {
          "base_uri": "https://localhost:8080/"
        },
        "id": "jX_r0090cKIZ",
        "outputId": "d065ed3d-263d-45e9-b25f-506efd7ade89"
      },
      "outputs": [
        {
          "output_type": "stream",
          "name": "stdout",
          "text": [
            "Producto Punto: 32\n"
          ]
        }
      ],
      "source": [
        "# Definir dos vectores\n",
        "x_vector = np.array([1, 2, 3])\n",
        "y_vector = np.array([4, 5, 6])\n",
        "\n",
        "# Calcular el producto punto\n",
        "producto_punto = np.dot(x_vector, y_vector)\n",
        "\n",
        "print(\"Producto Punto:\", producto_punto)\n"
      ]
    },
    {
      "cell_type": "markdown",
      "source": [
        "## Multiplicación de matrices\n",
        "\n",
        "La multiplicación de matrices es esencial en IA, especialmente en la propagación hacia adelante y hacia atrás en redes neuronales."
      ],
      "metadata": {
        "id": "QXz6Fnz9cyMX"
      }
    },
    {
      "cell_type": "code",
      "source": [
        "# Definir dos matrices\n",
        "matriz_a = np.array([[1, 2, 3],\n",
        "                     [4, 5, 6]])\n",
        "matriz_b = np.array([[7, 8],\n",
        "                     [9, 10],\n",
        "                     [11, 12]])\n",
        "\n",
        "# Calcular la multiplicación de matrices\n",
        "resultado = np.dot(matriz_a, matriz_b)\n",
        "\n",
        "print(\"Multiplicación de Matrices:\\n\", resultado)\n"
      ],
      "metadata": {
        "id": "3osntf10c1nX",
        "colab": {
          "base_uri": "https://localhost:8080/"
        },
        "outputId": "a0c23573-fded-4af6-c5e3-cfb8207a5e95"
      },
      "execution_count": null,
      "outputs": [
        {
          "output_type": "stream",
          "name": "stdout",
          "text": [
            "Multiplicación de Matrices:\n",
            " [[ 58  64]\n",
            " [139 154]]\n"
          ]
        }
      ]
    },
    {
      "cell_type": "markdown",
      "source": [
        "# Vector ortogonal\n",
        "\n",
        "Dos vectores se consideran ortogonales si su producto punto (producto escalar) es igual a cero. Es decir, los vectores son perpendiculares entre sí en el espacio n-dimensional. En el espacio bidimensional y tridimensional, los vectores ortogonales son aquellos que forman un ángulo de 90 grados.\n",
        "\n",
        "Propiedad de los Vectores Ortogonales:\n",
        "Dado dos vectores\n",
        "$𝑎=(𝑎_1,𝑎_2,…,𝑎_𝑛)$ y $𝑏=(𝑏_1,𝑏_2,…,𝑏_𝑛)$, estos son ortogonales si:\n",
        "\n",
        "$𝑎⋅𝑏=𝑎_1⋅𝑏_1+𝑎_2⋅𝑏_2+…+𝑎_𝑛⋅𝑏_𝑛=0$\n"
      ],
      "metadata": {
        "id": "5UFPfludNYwH"
      }
    },
    {
      "cell_type": "code",
      "source": [
        "# Define dos vectores\n",
        "a = np.array([1, 2, 3])\n",
        "b = np.array([4, -2, 0])\n",
        "\n",
        "# Calcula el producto punto\n",
        "dot_product = np.dot(a, b)\n",
        "\n",
        "# Verifica si los vectores son ortogonales\n",
        "print(\"Los vectores son ortogonales.\" if dot_product == 0 else \"Los vectores no son ortogonales.\")\n",
        "print(f\"Producto punto: {dot_product}\")\n"
      ],
      "metadata": {
        "colab": {
          "base_uri": "https://localhost:8080/"
        },
        "id": "L91FdTp6PmCn",
        "outputId": "184ebe3f-90c7-4072-85d5-8f3153a96ede"
      },
      "execution_count": null,
      "outputs": [
        {
          "output_type": "stream",
          "name": "stdout",
          "text": [
            "Los vectores son ortogonales.\n",
            "Producto punto: 0\n"
          ]
        }
      ]
    },
    {
      "cell_type": "markdown",
      "source": [
        "#Matriz ortogonal"
      ],
      "metadata": {
        "id": "j8-MdHOCCT8e"
      }
    },
    {
      "cell_type": "markdown",
      "source": [
        "Una matriz es ortogonal si sus columnas (y filas) son vectores ortogonales unitarios, es decir, los vectores son perpendiculares entre sí y tienen una longitud de 1. Matemáticamente, una matriz cuadrada 𝐴 de tamaño 𝑛×𝑛 es ortogonal si cumple con la siguiente condición:\n",
        "\n",
        "$𝐴^𝑇𝐴$=𝐴$𝐴^𝑇$=𝐼\n",
        "\n",
        "donde:\n",
        "\n",
        "$𝐴^𝑇$ es la transpuesta de la matriz 𝐴.\n",
        "𝐼 es la matriz identidad de tamaño 𝑛×𝑛.\n",
        "\n",
        "**Propiedades de una Matriz Ortogonal**\n",
        "+ Vectores Ortogonales y Normalizados: las columnas (o filas) de una matriz ortogonal son vectores ortogonales entre sí (es decir, su producto punto es cero) y son vectores unitarios (es decir, su norma es 1).\n",
        "\n",
        "+ Preservación de Longitudes y Ángulos: la transformación lineal que representa una matriz ortogonal preserva las longitudes de los vectores y los ángulos entre ellos. Por lo tanto, una matriz ortogonal representa una transformación rígida (como una rotación o reflexión).\n",
        "\n",
        "+ Inversa Igual a la Transpuesta: Para una matriz ortogonal\n",
        "𝐴, la inversa de la matriz es igual a su transpuesta: $𝐴^{−1}$=$𝐴^𝑇$\n",
        "\n",
        "+ Determinante Igual a ±1: el determinante de una matriz ortogonal es siempre +1 o −1. Esto implica que no cambia el volumen de los vectores transformados (lo preserva o lo refleja).\n",
        "\n",
        "**Ejemplo de una matriz ortogonal**\n",
        "Una matriz de rotación de 90º en el plano 2D es un ejemplo clásico de matriz ortogonal: *A* =$\\begin{equation}\n",
        "\\begin{bmatrix}\n",
        "0 & -1 \\\\\n",
        "1 & 0\\\\\n",
        "\\end{bmatrix}\n",
        "\\end{equation}$\n",
        "\n",
        "Para verificar que *A* es ortogonal, se puede comprobar que:\n",
        "\n",
        "$A^T$=$\\begin{equation}\n",
        "\\begin{bmatrix}\n",
        "0 & 1 \\\\\n",
        "-1 & 0\\\\\n",
        "\\end{bmatrix}\n",
        "\\end{equation}$$\\begin{equation}\n",
        "\\begin{bmatrix}\n",
        "0 & -1 \\\\\n",
        "1 & 0\\\\\n",
        "\\end{bmatrix}\n",
        "\\end{equation}$=$\\begin{equation}\n",
        "\\begin{bmatrix}\n",
        "1 & 0 \\\\\n",
        "0 & 1\\\\\n",
        "\\end{bmatrix}\n",
        "\\end{equation}$\n",
        "\n",
        "Dado que el resultado es la matriz identidad, entonces *A* es ortogonal!!!.\n"
      ],
      "metadata": {
        "id": "X1RZ4Ffnd8ba"
      }
    },
    {
      "cell_type": "markdown",
      "source": [
        "# Valor propio y vector propio"
      ],
      "metadata": {
        "id": "EAOyUs-nCyqa"
      }
    },
    {
      "cell_type": "markdown",
      "source": [
        "📌 **Definiciones**\n",
        "\n",
        "+ Valores propios (λ): son los escalares que satisfacen la ecuación\n",
        "𝐴𝑣=𝜆𝑣\n",
        "\n",
        "+ Vectores propios (𝑣): son los vectores que no cambian de dirección cuando se multiplican por la matriz 𝐴, solo se escalan por 𝜆."
      ],
      "metadata": {
        "id": "jlsxz8j0CsIt"
      }
    },
    {
      "cell_type": "markdown",
      "source": [
        "Un vector propio (o autovector) de una matriz es un vector no nulo que cambia de magnitud pero no de dirección cuando se aplica la matriz a él. Es decir, si se tiene una matriz\n",
        "𝐴 y un vector 𝑣, el vector 𝑣 es un vector propio de 𝐴 si cumple con la siguiente ecuación:\n",
        "\n",
        "𝐴𝑣=𝜆𝑣 donde:\n",
        "\n",
        "+ 𝐴 es una matriz cuadrada.\n",
        "+ 𝑣 es el vector propio.\n",
        "+ 𝜆 es un valor propio (o autovalor), que es un escalar.\n",
        "\n",
        "El valor propio asociado a un vector propio indica en qué medida se escala el vector propio cuando se aplica la matriz 𝐴.\n",
        "\n"
      ],
      "metadata": {
        "id": "QlShjrywQXY3"
      }
    },
    {
      "cell_type": "code",
      "source": [
        "# Define una matriz cuadrada\n",
        "A = np.array([[4, 1],\n",
        "              [2, 3]])\n",
        "\n",
        "# Calcula los valores propios (autovalores) y los vectores propios (autovectores)\n",
        "valores_propios, vectores_propios = np.linalg.eig(A)\n",
        "\n",
        "print(\"Valores Propios:\")\n",
        "print(valores_propios)\n",
        "\n",
        "print(\"\\nVectores Propios:\")\n",
        "print(vectores_propios)\n"
      ],
      "metadata": {
        "colab": {
          "base_uri": "https://localhost:8080/"
        },
        "id": "l19xLiRjQZab",
        "outputId": "c058a047-9ad9-4d64-a2ac-019d9c33c929"
      },
      "execution_count": 23,
      "outputs": [
        {
          "output_type": "stream",
          "name": "stdout",
          "text": [
            "Valores Propios:\n",
            "[5. 2.]\n",
            "\n",
            "Vectores Propios:\n",
            "[[ 0.70710678 -0.4472136 ]\n",
            " [ 0.70710678  0.89442719]]\n"
          ]
        }
      ]
    },
    {
      "cell_type": "code",
      "source": [
        "# Definir una matriz A\n",
        "A = np.array([[2, 1],\n",
        "              [1, 2]])\n",
        "\n",
        "# Calcular valores propios y vectores propios\n",
        "valores_propios, vectores_propios = np.linalg.eig(A)\n",
        "\n",
        "print(\"Valores propios:\")\n",
        "print(valores_propios)\n",
        "\n",
        "print(\"\\nVectores propios (columnas):\")\n",
        "print(vectores_propios)"
      ],
      "metadata": {
        "colab": {
          "base_uri": "https://localhost:8080/"
        },
        "id": "GPYkbAbzCdzi",
        "outputId": "c5fe1de9-31d3-4edc-f52e-545db1f0fa2a"
      },
      "execution_count": 24,
      "outputs": [
        {
          "output_type": "stream",
          "name": "stdout",
          "text": [
            "Valores propios:\n",
            "[3. 1.]\n",
            "\n",
            "Vectores propios (columnas):\n",
            "[[ 0.70710678 -0.70710678]\n",
            " [ 0.70710678  0.70710678]]\n"
          ]
        }
      ]
    },
    {
      "cell_type": "code",
      "source": [
        "# Elegir el primer vector propio y su valor propio\n",
        "v1 = vectores_propios[:, 0]  # Primer vector propio\n",
        "lambda1 = valores_propios[0]  # Primer valor propio\n",
        "\n",
        "# Multiplicar A * v1\n",
        "Av1 = A @ v1  # Producto matricial\n",
        "\n",
        "# Comparar con lambda1 * v1\n",
        "lambda_v1 = lambda1 * v1\n",
        "\n",
        "print(\"\\nA * v1:\")\n",
        "print(Av1)\n",
        "\n",
        "print(\"\\nλ1 * v1:\")\n",
        "print(lambda_v1)\n",
        "\n",
        "# Deberían ser aproximadamente iguales\n"
      ],
      "metadata": {
        "colab": {
          "base_uri": "https://localhost:8080/"
        },
        "id": "PCN79XqWDNtw",
        "outputId": "20086fa5-5d84-4853-e9d7-98a996c04639"
      },
      "execution_count": 25,
      "outputs": [
        {
          "output_type": "stream",
          "name": "stdout",
          "text": [
            "\n",
            "A * v1:\n",
            "[2.12132034 2.12132034]\n",
            "\n",
            "λ1 * v1:\n",
            "[2.12132034 2.12132034]\n"
          ]
        }
      ]
    },
    {
      "cell_type": "markdown",
      "source": [
        "## Descomposición en valores singulares (SVD)\n",
        "\n",
        "SVD es una técnica importante en la reducción de dimensionalidad y se utiliza en métodos como PCA y en el tratamiento de datos en IA.\n"
      ],
      "metadata": {
        "id": "Afxgxf4mdDBu"
      }
    },
    {
      "cell_type": "markdown",
      "source": [
        "Es una técnica que descompone una matriz en tres matrices:\n",
        "𝑈,𝑆 y $𝑉^𝑇$. Esta descomposición es muy útil en diversas áreas, como el análisis de datos, la reducción de dimensionalidad, la compresión de imágenes, entre otros.\n",
        "\n",
        "Funciona de la siguiente manera: para una matriz 𝐴 de dimensión $𝑚×𝑛$ la descomposición en valores singulares se expresa como:\n",
        "\n",
        "$𝐴=𝑈⋅𝑆⋅𝑉^𝑇$\n",
        "\n",
        "donde:\n",
        "+ 𝑈 es una matriz ortogonal de tamaño 𝑚×𝑚. Sus columnas son los vectores propios de $𝐴𝐴^T$\n",
        "+ 𝑆 es una matriz diagonal de tamaño 𝑚×𝑛, que contiene los valores singulares de 𝐴 ordenados de mayor a menor.\n",
        "+ $𝑉^𝑇$ es la transpuesta de una matriz ortogonal 𝑉 de tamaño 𝑛×𝑛. Sus columnas son los vectores propios de $𝐴^𝑇𝐴$."
      ],
      "metadata": {
        "id": "T6uQ7IMEZfgP"
      }
    },
    {
      "cell_type": "code",
      "source": [
        "# Crear una matriz\n",
        "matriz = np.array([[1, 2, 3],\n",
        "                   [4, 5, 6],\n",
        "                   [7, 8, 9]])\n",
        "\n",
        "# Aplicar SVD\n",
        "U, S, Vt = np.linalg.svd(matriz)\n",
        "print(\"A:\\n\", matriz)\n",
        "print(\"-\"*50)\n",
        "print(\"Matriz U:\\n\", U)\n",
        "print(\"-\"*50)\n",
        "print(\"Valores singulares S:\\n\", S)\n",
        "print(\"-\"*50)\n",
        "print(\"Matriz V traspuesta:\\n\", Vt)\n"
      ],
      "metadata": {
        "id": "VlFBPmOpdIBB",
        "colab": {
          "base_uri": "https://localhost:8080/"
        },
        "outputId": "605a71ef-6282-4825-998e-31e21376adfb"
      },
      "execution_count": 5,
      "outputs": [
        {
          "output_type": "stream",
          "name": "stdout",
          "text": [
            "A:\n",
            " [[1 2 3]\n",
            " [4 5 6]\n",
            " [7 8 9]]\n",
            "--------------------------------------------------\n",
            "Matriz U:\n",
            " [[-0.21483724  0.88723069  0.40824829]\n",
            " [-0.52058739  0.24964395 -0.81649658]\n",
            " [-0.82633754 -0.38794278  0.40824829]]\n",
            "--------------------------------------------------\n",
            "Valores singulares S:\n",
            " [1.68481034e+01 1.06836951e+00 4.41842475e-16]\n",
            "--------------------------------------------------\n",
            "Matriz V traspuesta:\n",
            " [[-0.47967118 -0.57236779 -0.66506441]\n",
            " [-0.77669099 -0.07568647  0.62531805]\n",
            " [-0.40824829  0.81649658 -0.40824829]]\n"
          ]
        }
      ]
    },
    {
      "cell_type": "markdown",
      "source": [
        "1. Matriz 𝑈: esta es una matriz ortogonal que contiene los vectores propios de 𝐴$𝐴^𝑇$. Dado que 𝐴 es una matriz de tamaño\n",
        "3×3, 𝑈 también será de tamaño 3×3. Cada columna de 𝑈 es un vector propio de 𝐴$𝐴^𝑇$ y está normalizada.\n",
        "\n",
        "2. Valores singulares 𝑆:𝑆 contiene los valores singulares de la matriz original, que son las raíces cuadradas de los valores propios de $𝐴^𝑇$𝐴. Estos valores están ordenados de mayor a menor. En NumPy, np.linalg.svd devuelve 𝑆 como un vector de valores singulares (no como una matriz diagonal), por lo que el resultado es un vector de tamaño 3 para esta matriz 3x3.\n",
        "\n",
        "3. Matriz $𝑉^𝑇$: esta es la transpuesta de la matriz ortogonal\n",
        "𝑉 que contiene los vectores propios de $𝐴^𝑇𝐴$. Dado que\n",
        "𝐴 es una matriz de tamaño 3×3, $𝑉^𝑇$ también será de tamaño 3×3."
      ],
      "metadata": {
        "id": "D0RNM-Dwcsid"
      }
    },
    {
      "cell_type": "code",
      "source": [
        "def es_ortogonal(matriz: np.array):\n",
        "    # Calcular la transpuesta de la matriz\n",
        "    matriz_transpuesta = matriz.T\n",
        "\n",
        "    # Multiplicar la matriz por su transpuesta\n",
        "    resultado = np.dot(matriz, matriz_transpuesta)\n",
        "\n",
        "    # Crear una matriz identidad del mismo tamaño\n",
        "    identidad = np.eye(matriz.shape[0])\n",
        "\n",
        "    # Comprobar si el resultado es igual a la matriz identidad\n",
        "    return np.allclose(resultado, identidad)"
      ],
      "metadata": {
        "id": "Vilpw3E6-nQl"
      },
      "execution_count": 4,
      "outputs": []
    },
    {
      "cell_type": "code",
      "source": [
        "# Comprueba si la matriz U es ortogonal\n",
        "es_ortogonal(U)"
      ],
      "metadata": {
        "colab": {
          "base_uri": "https://localhost:8080/"
        },
        "id": "NSvz806K-usm",
        "outputId": "e6b1953a-62a3-4bc7-ed31-70a4825d2da8"
      },
      "execution_count": 6,
      "outputs": [
        {
          "output_type": "execute_result",
          "data": {
            "text/plain": [
              "True"
            ]
          },
          "metadata": {},
          "execution_count": 6
        }
      ]
    },
    {
      "cell_type": "code",
      "source": [
        "# Crear una matriz de ejemplo\n",
        "x_matriz = np.array([[1, 2, 3],\n",
        "                   [4, 5, 6],\n",
        "                   [7, 8, 9]])\n",
        "\n",
        "print(x_matriz[:,0])\n",
        "print(np.linalg.norm(x_matriz[:,0]))"
      ],
      "metadata": {
        "colab": {
          "base_uri": "https://localhost:8080/"
        },
        "id": "N29gu6vLAL9p",
        "outputId": "a460bed9-0b27-4e1b-b7b2-c90f161ab6a5"
      },
      "execution_count": 7,
      "outputs": [
        {
          "output_type": "stream",
          "name": "stdout",
          "text": [
            "[1 4 7]\n",
            "8.12403840463596\n"
          ]
        }
      ]
    },
    {
      "cell_type": "markdown",
      "source": [
        "#¿Dónde se usan los valores y vectores propios?"
      ],
      "metadata": {
        "id": "aCaE5ek-EIkC"
      }
    },
    {
      "cell_type": "markdown",
      "source": [
        "✔️ PCA usa valores propios para reducción de dimensiones.\n",
        "\n",
        "✔️ SVD usa vectores propios en recomendadores y compresión.\n",
        "\n",
        "✔️ Deep Learning usa valores propios para mejorar el entrenamiento de redes neuronales."
      ],
      "metadata": {
        "id": "mogRz7R9ED64"
      }
    },
    {
      "cell_type": "markdown",
      "source": [
        "## Tensores y escalares\n",
        "\n",
        "Un tensor es un objeto matemático que generaliza la noción de escalares, vectores y matrices. En términos más simples, un tensor puede ser un número, un vector, una matriz o cualquier colección de estos objetos. En el contexto del aprendizaje profundo y la biblioteca TensorFlow, los tensores se utilizan para representar datos multidimensionales.\n",
        "\n",
        "**Diferencia con Escalar:**\n",
        "\n",
        "Escalar: Es simplemente un número, como 15 o -29. Un escalar tiene magnitud pero no dirección. Puede considerarse un tensor de rango 0, ya que no tiene dimensiones.\n",
        "\n",
        "Tensor: Es un objeto más general que puede contener múltiples escalares organizados en una estructura multidimensional. Por ejemplo, un vector de números es un tensor de rango 1, una matriz es un tensor de rango 2, y así sucesivamente.\n"
      ],
      "metadata": {
        "id": "u0PoUcJIeFNV"
      }
    },
    {
      "cell_type": "code",
      "source": [
        "# Escalar (Tensor de rango 0)\n",
        "escalar = 29"
      ],
      "metadata": {
        "id": "ibkBvtDheMAF"
      },
      "execution_count": null,
      "outputs": []
    },
    {
      "cell_type": "code",
      "source": [
        "# Vector (Tensor de rango 1)\n",
        "vector = np.array([1, 2, 3])\n",
        "print(\"Vector\\n\", vector)\n",
        "\n",
        "# Matriz (Tensor de rango 2)\n",
        "matriz = np.array([[1, 2, 3], [4, 5, 6], [7, 8, 9]])\n",
        "print(\"Matriz\\n\", matriz)\n",
        "\n",
        "# Tensor de rango 3\n",
        "tensor_3d = np.array([[[1, 2], [3, 4]], [[5, 6], [7, 8]], [[9, 10], [11, 12]]])\n",
        "print(\"Tensor 3D\\n\", tensor_3d)"
      ],
      "metadata": {
        "id": "I6YYI24ZeNVK",
        "colab": {
          "base_uri": "https://localhost:8080/"
        },
        "outputId": "ba707990-b566-4735-ac82-b74903c9878a"
      },
      "execution_count": null,
      "outputs": [
        {
          "output_type": "stream",
          "name": "stdout",
          "text": [
            "Vector\n",
            " [1 2 3]\n",
            "Matriz\n",
            " [[1 2 3]\n",
            " [4 5 6]\n",
            " [7 8 9]]\n",
            "Tensor 3D\n",
            " [[[ 1  2]\n",
            "  [ 3  4]]\n",
            "\n",
            " [[ 5  6]\n",
            "  [ 7  8]]\n",
            "\n",
            " [[ 9 10]\n",
            "  [11 12]]]\n"
          ]
        }
      ]
    },
    {
      "cell_type": "markdown",
      "source": [
        "En estos ejemplos, *escalar* es un tensor de rango 0, vector es un tensor de rango 1, *matriz* es un tensor de rango 2, y *tensor_3d* es un tensor de rango 3.\n",
        "Los tensores son fundamentales en el aprendizaje profundo (Deep Learning), donde representan datos en conjuntos de muestras con múltiples dimensiones."
      ],
      "metadata": {
        "id": "Un0fSZQieSfZ"
      }
    },
    {
      "cell_type": "code",
      "source": [
        "tensor = np.array([1,2,3,4,5,6,7])\n",
        "tensor"
      ],
      "metadata": {
        "colab": {
          "base_uri": "https://localhost:8080/"
        },
        "id": "iqcR18-DcgIS",
        "outputId": "892ebd60-313d-405e-c58d-1d88ef02d912"
      },
      "execution_count": 8,
      "outputs": [
        {
          "output_type": "execute_result",
          "data": {
            "text/plain": [
              "array([1, 2, 3, 4, 5, 6, 7])"
            ]
          },
          "metadata": {},
          "execution_count": 8
        }
      ]
    },
    {
      "cell_type": "code",
      "source": [
        "tensor.reshape(7,1).shape"
      ],
      "metadata": {
        "colab": {
          "base_uri": "https://localhost:8080/"
        },
        "id": "HFAqqhtpc6Ix",
        "outputId": "de649b60-0484-4f73-8827-9c104cb793f1"
      },
      "execution_count": 9,
      "outputs": [
        {
          "output_type": "execute_result",
          "data": {
            "text/plain": [
              "(7, 1)"
            ]
          },
          "metadata": {},
          "execution_count": 9
        }
      ]
    },
    {
      "cell_type": "code",
      "source": [
        "tensor = np.array([[1,2],[3,4],[5,6]])\n",
        "tensor"
      ],
      "metadata": {
        "colab": {
          "base_uri": "https://localhost:8080/"
        },
        "id": "XgiGlPXodZMq",
        "outputId": "36e267c3-3c19-4372-af1d-daa106ba3c06"
      },
      "execution_count": 10,
      "outputs": [
        {
          "output_type": "execute_result",
          "data": {
            "text/plain": [
              "array([[1, 2],\n",
              "       [3, 4],\n",
              "       [5, 6]])"
            ]
          },
          "metadata": {},
          "execution_count": 10
        }
      ]
    },
    {
      "cell_type": "code",
      "source": [
        "otro = tensor.reshape(3,2,1)\n",
        "otro"
      ],
      "metadata": {
        "colab": {
          "base_uri": "https://localhost:8080/"
        },
        "id": "okrWibOEdihO",
        "outputId": "16715b14-cfb3-4ae9-c804-e1b1636e9877"
      },
      "execution_count": 11,
      "outputs": [
        {
          "output_type": "execute_result",
          "data": {
            "text/plain": [
              "array([[[1],\n",
              "        [2]],\n",
              "\n",
              "       [[3],\n",
              "        [4]],\n",
              "\n",
              "       [[5],\n",
              "        [6]]])"
            ]
          },
          "metadata": {},
          "execution_count": 11
        }
      ]
    },
    {
      "cell_type": "markdown",
      "source": [
        "## Operaciones entre vectores"
      ],
      "metadata": {
        "id": "luXCLkZ1ehPk"
      }
    },
    {
      "cell_type": "code",
      "source": [
        "x = 5\n",
        "y = 6\n",
        "z = x + y\n",
        "print(z)"
      ],
      "metadata": {
        "colab": {
          "base_uri": "https://localhost:8080/"
        },
        "id": "o6WTYxEgUs0f",
        "outputId": "7941bfab-2a52-4c52-ec5a-e67a926edfa4"
      },
      "execution_count": null,
      "outputs": [
        {
          "output_type": "stream",
          "name": "stdout",
          "text": [
            "11\n"
          ]
        }
      ]
    },
    {
      "cell_type": "code",
      "source": [
        "# Suma\n",
        "a = np.array([1, 2, 4])\n",
        "b = np.array([15,25,30])\n",
        "c = a + b\n",
        "print(c)"
      ],
      "metadata": {
        "id": "7uSG1f1RekvW",
        "colab": {
          "base_uri": "https://localhost:8080/"
        },
        "outputId": "1faa2e6f-f3a0-4585-b320-bbd7f31bf307"
      },
      "execution_count": null,
      "outputs": [
        {
          "output_type": "stream",
          "name": "stdout",
          "text": [
            "[16 27 34]\n"
          ]
        }
      ]
    },
    {
      "cell_type": "code",
      "source": [
        "# Resta\n",
        "a = np.array([1, 2, 4])\n",
        "b = np.array([15,25,30])\n",
        "c = a - b\n",
        "print(c)"
      ],
      "metadata": {
        "id": "eyjHV8KIeoH2",
        "colab": {
          "base_uri": "https://localhost:8080/"
        },
        "outputId": "66568810-eacc-4954-e6fe-0d222a7d88c0"
      },
      "execution_count": null,
      "outputs": [
        {
          "output_type": "stream",
          "name": "stdout",
          "text": [
            "[-14 -23 -26]\n"
          ]
        }
      ]
    },
    {
      "cell_type": "code",
      "source": [
        "# Multiplicación\n",
        "a = np.array([1, 2, 4])\n",
        "b = np.array([15,25,30])\n",
        "c = a * b\n",
        "print(c)"
      ],
      "metadata": {
        "id": "7n5ZGVjGeqbR"
      },
      "execution_count": null,
      "outputs": []
    },
    {
      "cell_type": "code",
      "source": [
        "# División\n",
        "a = np.array([1, 2, 4])\n",
        "b = np.array([15,25,30])\n",
        "c = a / b\n",
        "print(c)"
      ],
      "metadata": {
        "id": "pG5Tlz_Peslz"
      },
      "execution_count": null,
      "outputs": []
    },
    {
      "cell_type": "code",
      "source": [
        "# Usando escalares\n",
        "a = np.array([15,3,25])\n",
        "b = a + 7\n",
        "print(b)"
      ],
      "metadata": {
        "id": "bFyBmSR2eu9D",
        "colab": {
          "base_uri": "https://localhost:8080/"
        },
        "outputId": "8cd2143b-bb26-4b85-8bbb-f269279406d7"
      },
      "execution_count": null,
      "outputs": [
        {
          "output_type": "stream",
          "name": "stdout",
          "text": [
            "[22 10 32]\n"
          ]
        }
      ]
    },
    {
      "cell_type": "markdown",
      "source": [
        "## Funciones universales"
      ],
      "metadata": {
        "id": "4GFYddSgeyGC"
      }
    },
    {
      "cell_type": "code",
      "source": [
        "valores = np.array([2,3,5,6])\n",
        "print(\"Elementos\", valores)"
      ],
      "metadata": {
        "id": "RgKXH47Je2Z5",
        "colab": {
          "base_uri": "https://localhost:8080/"
        },
        "outputId": "771d3c8c-fb08-4fa7-fc98-2900761efeef"
      },
      "execution_count": null,
      "outputs": [
        {
          "output_type": "stream",
          "name": "stdout",
          "text": [
            "Elementos [2 3 5 6]\n"
          ]
        }
      ]
    },
    {
      "cell_type": "code",
      "source": [
        "# Suma de los valores\n",
        "np.sum(valores)"
      ],
      "metadata": {
        "id": "8mxj0LOce3HL",
        "colab": {
          "base_uri": "https://localhost:8080/"
        },
        "outputId": "b5862f0b-ea73-4db5-b4d7-c901a029bf72"
      },
      "execution_count": null,
      "outputs": [
        {
          "output_type": "execute_result",
          "data": {
            "text/plain": [
              "16"
            ]
          },
          "metadata": {},
          "execution_count": 15
        }
      ]
    },
    {
      "cell_type": "code",
      "source": [
        "# Acumula los valores del arreglo\n",
        "np.cumsum(valores)"
      ],
      "metadata": {
        "id": "a-sunpMhe6Gw",
        "colab": {
          "base_uri": "https://localhost:8080/"
        },
        "outputId": "63dc93da-a05b-4908-8f87-580ccc55c884"
      },
      "execution_count": null,
      "outputs": [
        {
          "output_type": "execute_result",
          "data": {
            "text/plain": [
              "array([ 2,  5, 10, 16])"
            ]
          },
          "metadata": {},
          "execution_count": 16
        }
      ]
    },
    {
      "cell_type": "code",
      "source": [
        "# Obtiene la productoria de los elementos del arreglo\n",
        "np.cumprod(valores)"
      ],
      "metadata": {
        "id": "5ciTwagye8A9",
        "colab": {
          "base_uri": "https://localhost:8080/"
        },
        "outputId": "6278547f-59ee-414b-fb0c-3558c1c1779c"
      },
      "execution_count": null,
      "outputs": [
        {
          "output_type": "execute_result",
          "data": {
            "text/plain": [
              "array([  2,   6,  30, 180])"
            ]
          },
          "metadata": {},
          "execution_count": 17
        }
      ]
    },
    {
      "cell_type": "code",
      "source": [
        "valores = np.array([[2,4,5,6],[8,10,15,50]])\n",
        "valores"
      ],
      "metadata": {
        "id": "fEjcOXu3e-Xz",
        "colab": {
          "base_uri": "https://localhost:8080/"
        },
        "outputId": "c8d36c17-60c9-4319-ae86-de34d8378164"
      },
      "execution_count": null,
      "outputs": [
        {
          "output_type": "execute_result",
          "data": {
            "text/plain": [
              "array([[ 2,  4,  5,  6],\n",
              "       [ 8, 10, 15, 50]])"
            ]
          },
          "metadata": {},
          "execution_count": 18
        }
      ]
    },
    {
      "cell_type": "code",
      "source": [
        "# Suma todos lo valores del arreglo bidimensional\n",
        "np.sum(valores)"
      ],
      "metadata": {
        "id": "OGuI1BM_fBOd",
        "colab": {
          "base_uri": "https://localhost:8080/"
        },
        "outputId": "324f2c41-211b-4f3e-ce88-7d7c52ec2231"
      },
      "execution_count": null,
      "outputs": [
        {
          "output_type": "execute_result",
          "data": {
            "text/plain": [
              "100"
            ]
          },
          "metadata": {},
          "execution_count": 19
        }
      ]
    },
    {
      "cell_type": "code",
      "source": [
        "# Suma los valores por fila\n",
        "np.sum(valores, axis = 1)"
      ],
      "metadata": {
        "id": "eiLpHQ-0fCAZ",
        "colab": {
          "base_uri": "https://localhost:8080/"
        },
        "outputId": "499acabf-5d5e-47d8-b09d-b87a2552725e"
      },
      "execution_count": null,
      "outputs": [
        {
          "output_type": "execute_result",
          "data": {
            "text/plain": [
              "array([17, 83])"
            ]
          },
          "metadata": {},
          "execution_count": 20
        }
      ]
    },
    {
      "cell_type": "code",
      "source": [
        "# Suma los valores por columna\n",
        "np.sum(valores, axis = 0)"
      ],
      "metadata": {
        "id": "3Mc-01wUfFQ2",
        "colab": {
          "base_uri": "https://localhost:8080/"
        },
        "outputId": "bfb23588-f558-42ca-c9bb-b7854acd50c3"
      },
      "execution_count": null,
      "outputs": [
        {
          "output_type": "execute_result",
          "data": {
            "text/plain": [
              "array([10, 14, 20, 56])"
            ]
          },
          "metadata": {},
          "execution_count": 21
        }
      ]
    },
    {
      "cell_type": "markdown",
      "source": [
        "## Manipulación de forma"
      ],
      "metadata": {
        "id": "6ppt3ZhnfJDU"
      }
    },
    {
      "cell_type": "code",
      "source": [
        "# Creación de los elementos\n",
        "elementos = np.array([[1, 2, 3, 1], [4, 5, 6, 1], [7, 8, 9, 1]])\n",
        "elementos"
      ],
      "metadata": {
        "id": "xUpmpkm0fLm3",
        "colab": {
          "base_uri": "https://localhost:8080/"
        },
        "outputId": "a389f1ff-cf6b-489c-d3ed-21993575e9aa"
      },
      "execution_count": null,
      "outputs": [
        {
          "output_type": "execute_result",
          "data": {
            "text/plain": [
              "array([[1, 2, 3, 1],\n",
              "       [4, 5, 6, 1],\n",
              "       [7, 8, 9, 1]])"
            ]
          },
          "metadata": {},
          "execution_count": 22
        }
      ]
    },
    {
      "cell_type": "code",
      "source": [
        "# Obtiene la cantidad de filas y columnas\n",
        "elementos.shape"
      ],
      "metadata": {
        "id": "5UH_0e_ZfP5b",
        "colab": {
          "base_uri": "https://localhost:8080/"
        },
        "outputId": "46305d61-b7c8-41e1-c0d6-841008ec8741"
      },
      "execution_count": null,
      "outputs": [
        {
          "output_type": "execute_result",
          "data": {
            "text/plain": [
              "(3, 4)"
            ]
          },
          "metadata": {},
          "execution_count": 23
        }
      ]
    },
    {
      "cell_type": "code",
      "source": [
        "# Reorganiza en 4 filas y 3 columnas\n",
        "elementos.reshape(4,3)"
      ],
      "metadata": {
        "id": "B7-Jd3H_fR2p",
        "colab": {
          "base_uri": "https://localhost:8080/"
        },
        "outputId": "1675650d-ea00-4709-95fc-1c3f62078057"
      },
      "execution_count": null,
      "outputs": [
        {
          "output_type": "execute_result",
          "data": {
            "text/plain": [
              "array([[1, 2, 3],\n",
              "       [1, 4, 5],\n",
              "       [6, 1, 7],\n",
              "       [8, 9, 1]])"
            ]
          },
          "metadata": {},
          "execution_count": 27
        }
      ]
    },
    {
      "cell_type": "code",
      "source": [
        "# Reorganiza en 2 filas y 6 columnas\n",
        "elementos.reshape(2,6)"
      ],
      "metadata": {
        "id": "dwbW7XfkfT4E",
        "colab": {
          "base_uri": "https://localhost:8080/"
        },
        "outputId": "a56ffccc-03dc-412c-b37d-26575943a686"
      },
      "execution_count": null,
      "outputs": [
        {
          "output_type": "execute_result",
          "data": {
            "text/plain": [
              "array([[1, 2, 3, 1, 4, 5],\n",
              "       [6, 1, 7, 8, 9, 1]])"
            ]
          },
          "metadata": {},
          "execution_count": 5
        }
      ]
    },
    {
      "cell_type": "code",
      "source": [
        "# Obtiene la traspuesta - Alternativa 1\n",
        "elementos.T"
      ],
      "metadata": {
        "id": "rDcPK2U7fWT3",
        "colab": {
          "base_uri": "https://localhost:8080/"
        },
        "outputId": "d6906e81-094b-4ef8-e618-6e964a6d45ed"
      },
      "execution_count": null,
      "outputs": [
        {
          "output_type": "execute_result",
          "data": {
            "text/plain": [
              "array([[1, 4, 7],\n",
              "       [2, 5, 8],\n",
              "       [3, 6, 9],\n",
              "       [1, 1, 1]])"
            ]
          },
          "metadata": {},
          "execution_count": 28
        }
      ]
    },
    {
      "cell_type": "code",
      "source": [
        "# Obtiene la traspuesta - Alternativa 2\n",
        "elementos.transpose()"
      ],
      "metadata": {
        "id": "hW8aeHXAfYrA",
        "colab": {
          "base_uri": "https://localhost:8080/"
        },
        "outputId": "481af7e4-2884-40d8-d386-c0df25d65a25"
      },
      "execution_count": null,
      "outputs": [
        {
          "output_type": "execute_result",
          "data": {
            "text/plain": [
              "array([[1, 4, 7],\n",
              "       [2, 5, 8],\n",
              "       [3, 6, 9],\n",
              "       [1, 1, 1]])"
            ]
          },
          "metadata": {},
          "execution_count": 29
        }
      ]
    },
    {
      "cell_type": "code",
      "source": [
        "# Obtiene los elementos como una lista - Alternativa 1\n",
        "elementos.ravel()"
      ],
      "metadata": {
        "id": "ypPog-M5fbHn",
        "colab": {
          "base_uri": "https://localhost:8080/"
        },
        "outputId": "a408ca90-ee5a-4761-d9d7-8b2b5202dc2d"
      },
      "execution_count": null,
      "outputs": [
        {
          "output_type": "execute_result",
          "data": {
            "text/plain": [
              "array([1, 2, 3, 1, 4, 5, 6, 1, 7, 8, 9, 1])"
            ]
          },
          "metadata": {},
          "execution_count": 8
        }
      ]
    },
    {
      "cell_type": "code",
      "source": [
        "# Obtiene los elementos como una lista - Alternativa 2\n",
        "elementos.flatten()"
      ],
      "metadata": {
        "id": "9WYMEz-Ofc08",
        "colab": {
          "base_uri": "https://localhost:8080/"
        },
        "outputId": "ddc10d34-a0c5-4b0a-a97b-e2f8890d096c"
      },
      "execution_count": null,
      "outputs": [
        {
          "output_type": "execute_result",
          "data": {
            "text/plain": [
              "array([1, 2, 3, 1, 4, 5, 6, 1, 7, 8, 9, 1])"
            ]
          },
          "metadata": {},
          "execution_count": 9
        }
      ]
    },
    {
      "cell_type": "markdown",
      "source": [
        "## Indexación y selección"
      ],
      "metadata": {
        "id": "bx8L0KjFfj4u"
      }
    },
    {
      "cell_type": "code",
      "source": [
        "valores = np.array([20,3,5,6,1,-3,10,45,43,50,4])\n",
        "print(\"Elementos\", valores)"
      ],
      "metadata": {
        "id": "j81vtdM_fmuN",
        "colab": {
          "base_uri": "https://localhost:8080/"
        },
        "outputId": "baeaa36c-94fd-4d1a-ee49-e50f63d27ba0"
      },
      "execution_count": null,
      "outputs": [
        {
          "output_type": "stream",
          "name": "stdout",
          "text": [
            "Elementos [20  3  5  6  1 -3 10 45 43 50  4]\n"
          ]
        }
      ]
    },
    {
      "cell_type": "code",
      "source": [
        "len(valores)"
      ],
      "metadata": {
        "colab": {
          "base_uri": "https://localhost:8080/"
        },
        "id": "fiOIEDt2unw0",
        "outputId": "d980bf13-2317-4a77-d73c-6d56631f2e87"
      },
      "execution_count": null,
      "outputs": [
        {
          "output_type": "execute_result",
          "data": {
            "text/plain": [
              "11"
            ]
          },
          "metadata": {},
          "execution_count": 31
        }
      ]
    },
    {
      "cell_type": "code",
      "source": [
        "# Acceso a un elemento, por su índice\n",
        "valores[4]"
      ],
      "metadata": {
        "id": "2ALjGqB4fo0Y",
        "colab": {
          "base_uri": "https://localhost:8080/"
        },
        "outputId": "6554c24c-c07e-4cd7-bb72-f8d41b6a4284"
      },
      "execution_count": null,
      "outputs": [
        {
          "output_type": "execute_result",
          "data": {
            "text/plain": [
              "1"
            ]
          },
          "metadata": {},
          "execution_count": 14
        }
      ]
    },
    {
      "cell_type": "code",
      "source": [
        "# Selección con uso de slice - Versión 1\n",
        "valores[:2]"
      ],
      "metadata": {
        "id": "Y4gagsrcfq-9",
        "colab": {
          "base_uri": "https://localhost:8080/"
        },
        "outputId": "c9e61bc3-f4ad-4a42-c73b-05043226fdac"
      },
      "execution_count": null,
      "outputs": [
        {
          "output_type": "execute_result",
          "data": {
            "text/plain": [
              "array([20,  3])"
            ]
          },
          "metadata": {},
          "execution_count": 15
        }
      ]
    },
    {
      "cell_type": "code",
      "source": [
        "# Selección con uso de slice - Versión 2\n",
        "valores[4:]"
      ],
      "metadata": {
        "id": "wVi5gTibftE_",
        "colab": {
          "base_uri": "https://localhost:8080/"
        },
        "outputId": "5ed13533-969e-4812-c649-a08f36b00b20"
      },
      "execution_count": null,
      "outputs": [
        {
          "output_type": "execute_result",
          "data": {
            "text/plain": [
              "array([ 1, -3, 10, 45, 43, 50,  4])"
            ]
          },
          "metadata": {},
          "execution_count": 16
        }
      ]
    },
    {
      "cell_type": "code",
      "source": [
        "# Selección con uso de slice - Versión 3\n",
        "valores[4:10]"
      ],
      "metadata": {
        "id": "pE-WtrwQfvQw",
        "colab": {
          "base_uri": "https://localhost:8080/"
        },
        "outputId": "1d54de4d-f026-483f-868e-75a29b11d65c"
      },
      "execution_count": null,
      "outputs": [
        {
          "output_type": "execute_result",
          "data": {
            "text/plain": [
              "array([ 1, -3, 10, 45, 43, 50])"
            ]
          },
          "metadata": {},
          "execution_count": 17
        }
      ]
    },
    {
      "cell_type": "code",
      "source": [
        "# Selección usando condición\n",
        "valores[valores > 15]"
      ],
      "metadata": {
        "id": "viHSfkwQfxXf",
        "colab": {
          "base_uri": "https://localhost:8080/"
        },
        "outputId": "ba0dfe44-9346-4980-c4a7-f6050e9bbb66"
      },
      "execution_count": null,
      "outputs": [
        {
          "output_type": "execute_result",
          "data": {
            "text/plain": [
              "array([20, 45, 43, 50])"
            ]
          },
          "metadata": {},
          "execution_count": 18
        }
      ]
    },
    {
      "cell_type": "markdown",
      "source": [
        "# Probabilidad y distribuciones"
      ],
      "metadata": {
        "id": "HsFir4cncch0"
      }
    },
    {
      "cell_type": "markdown",
      "source": [
        "## Distribución normal\n",
        "\n",
        "Las distribuciones normales son fundamentales en probabilidad y estadísticas y son ampliamente utilizadas en IA, por ejemplo, en técnicas de regresión y modelos probabilísticos."
      ],
      "metadata": {
        "id": "9nuAsEx7dOQy"
      }
    },
    {
      "cell_type": "code",
      "source": [
        "# Definir parámetros de la distribución\n",
        "media = 0\n",
        "desviacion_estandar = 1\n",
        "\n",
        "# Generar una distribución normal\n",
        "x = np.linspace(-5, 5, 100)\n",
        "y = norm.pdf(x, media, desviacion_estandar)\n",
        "\n",
        "# Graficar la distribución\n",
        "plt.plot(x, y)\n",
        "plt.title(\"Distribución Normal\", fontsize=14, fontweight=\"bold\")\n",
        "plt.xlabel(\"Valor\", fontsize=12, fontweight=\"bold\")\n",
        "plt.ylabel(\"Densidad de probabilidad\", fontsize=12, fontweight=\"bold\")\n",
        "plt.show()\n"
      ],
      "metadata": {
        "id": "DRqCKoi0dTdb",
        "colab": {
          "base_uri": "https://localhost:8080/",
          "height": 477
        },
        "outputId": "a0c29da0-32a9-4e6d-9e54-9d6fa71536a4"
      },
      "execution_count": 12,
      "outputs": [
        {
          "output_type": "display_data",
          "data": {
            "text/plain": [
              "<Figure size 640x480 with 1 Axes>"
            ],
            "image/png": "[encoded data removed]"
          },
          "metadata": {}
        }
      ]
    },
    {
      "cell_type": "code",
      "source": [
        "# Configurar semilla para reproducibilidad\n",
        "np.random.seed(29)\n",
        "\n",
        "# 1. Distribución normal (simétrica)\n",
        "data_normal = np.random.normal(loc=50, scale=10, size=1000)\n",
        "\n",
        "# 2. Distribución sesgada a la izquierda (cola larga a la izquierda)\n",
        "data_sesgada_izquierda = np.random.gamma(shape=5, scale=5, size=1000)\n",
        "\n",
        "# 3. Distribución sesgada a la derecha (cola larga a la derecha)\n",
        "data_sesgada_derecha = np.random.exponential(scale=10, size=1000)\n",
        "\n",
        "# Función para calcular media, mediana y moda\n",
        "def calcula_estadisticas(data: np.array):\n",
        "  return np.mean(data), np.median(data), mode(data, keepdims=True).mode[0]\n",
        "\n",
        "# Obtener estadísticas\n",
        "stats_normal = calcula_estadisticas(data_normal)\n",
        "stats_left_skew = calcula_estadisticas(data_sesgada_izquierda)\n",
        "stats_right_skew = calcula_estadisticas(data_sesgada_derecha)\n",
        "\n",
        "# Graficar histogramas\n",
        "fig, axes = plt.subplots(1, 3, figsize=(18, 5))\n",
        "\n",
        "distributions = [\n",
        "    (data_normal, \"Distribución Normal\", stats_normal),\n",
        "    (data_sesgada_izquierda, \"Sesgada a la Izquierda\", stats_left_skew),\n",
        "    (data_sesgada_derecha, \"Sesgada a la Derecha\", stats_right_skew),\n",
        "]\n",
        "\n",
        "for ax, (data, title, stats) in zip(axes, distributions):\n",
        "    sns.histplot(data, bins=30, kde=True, ax=ax, color='royalblue', alpha=0.7)\n",
        "    ax.axvline(stats[0], color='red', linestyle='dashed', label=f'Media: {stats[0]:.2f}')\n",
        "    ax.axvline(stats[1], color='green', linestyle='dashed', label=f'Mediana: {stats[1]:.2f}')\n",
        "    ax.axvline(stats[2], color='purple', linestyle='dashed', label=f'Moda: {stats[2]:.2f}')\n",
        "    ax.set_title(title)\n",
        "    ax.legend()\n",
        "\n",
        "plt.tight_layout()\n",
        "plt.show()\n"
      ],
      "metadata": {
        "colab": {
          "base_uri": "https://localhost:8080/",
          "height": 426
        },
        "id": "ATYwjZfW8-dK",
        "outputId": "6f7454e2-b3a2-4c75-b927-29ca5a0abf25"
      },
      "execution_count": 21,
      "outputs": [
        {
          "output_type": "display_data",
          "data": {
            "text/plain": [
              "<Figure size 1800x500 with 3 Axes>"
            ],
            "image/png": "[encoded data removed]"
          },
          "metadata": {}
        }
      ]
    },
    {
      "cell_type": "markdown",
      "source": [
        "## Teorema de Bayes\n",
        "\n",
        "El teorema de Bayes se utiliza en métodos de clasificación como el clasificador Naive Bayes y en la inferencia probabilística en redes bayesianas."
      ],
      "metadata": {
        "id": "EiTzlcYhdbk2"
      }
    },
    {
      "cell_type": "markdown",
      "source": [
        "## Ejemplo de Teorema de Bayes\n",
        "\n",
        "El **Teorema de Bayes** permite calcular la probabilidad de una clase \\( C \\) dada una observación \\( X \\):\n",
        "\n",
        "$$\n",
        "P(C | X) = \\frac{P(X | C) P(C)}{P(X)}\n",
        "$$\n",
        "\n",
        "donde:\n",
        "- \\( P(C | X) \\) es la **probabilidad posterior** de la clase \\( C \\) dada la evidencia \\( X \\).\n",
        "- \\( P(X | C) \\) es la **verosimilitud**, es decir, la probabilidad de observar \\( X \\) si la clase es \\( C \\).\n",
        "- \\( P(C) \\) es la **probabilidad previa** de la clase.\n",
        "- \\( P(X) \\) es la probabilidad total de la observación \\( X \\) (se ignora en clasificación).\n",
        "\n",
        "---\n",
        "\n",
        "Supongamos que se quiere clasificar correos electrónicos en **Spam** o **No Spam** según las palabras \"oferta\" y \"gratis\".  \n",
        "\n",
        "### **Conjunto de datos de entrenamiento**\n",
        "| Tipo       | \"oferta\" | \"gratis\" | Total |\n",
        "|------------|---------|---------|------|\n",
        "| **Spam**   | 3       | 2       | 5    |\n",
        "| **No Spam**| 1       | 2       | 3\n",
        "\n",
        "\n",
        "---\n",
        "\n",
        "### **Paso 1: Calcular probabilidades previas**\n",
        "$P(Spam) = \\frac{5}{8} = 0.625, \\quad P(No\\ Spam) = \\frac{3}{8} = 0.375$\n",
        "\n",
        "---\n",
        "\n",
        "### **Paso 2: Calcular probabilidades condicionales**\n",
        "Se usa **suavizado de Laplace** con \\( k=1 \\) (para evitar las probabilidades cero):\n",
        "\n",
        "$P(\"oferta\" | Spam) = \\frac{3 + 1}{5 + 2} = \\frac{4}{7}, \\quad P(\"gratis\" | Spam) = \\frac{2 + 1}{5 + 2} = \\frac{3}{7}$\n",
        "\n",
        "$P(\"oferta\" | No\\ Spam) = \\frac{1 + 1}{3 + 2} = \\frac{2}{5}, \\quad P(\"gratis\" | No\\ Spam) = \\frac{2 + 1}{3 + 2} = \\frac{3}{5}$\n",
        "\n",
        "---\n",
        "\n",
        "### **Paso 3: Aplicar Teorema de Bayes**\n",
        "Para un nuevo correo con las palabras **\"oferta gratis\"**, se calcula:\n",
        "\n",
        "#### **Para Spam:**\n",
        "$P(Spam | X) \\propto P(\"oferta\" | Spam) P(\"gratis\" | Spam) P(Spam)$\n",
        "\n",
        "$= \\left(\\frac{4}{7} \\times \\frac{3}{7} \\times 0.625 \\right) = 0.1527$\n",
        "\n",
        "#### **Para No Spam:**\n",
        "$P(No\\ Spam | X) \\propto P(\"oferta\" | No\\ Spam) P(\"gratis\" | No\\ Spam) P(No\\ Spam)$\n",
        "\n",
        "$= \\left(\\frac{2}{5} \\times \\frac{3}{5} \\times 0.375 \\right) = 0.09$\n",
        "\n",
        "Como $( P(Spam | X) > P(No\\ Spam | X) )$, se clasifica el correo como **Spam**.\n",
        "\n",
        "---\n"
      ],
      "metadata": {
        "id": "mPD3Dr37GHcO"
      }
    }
  ]
}