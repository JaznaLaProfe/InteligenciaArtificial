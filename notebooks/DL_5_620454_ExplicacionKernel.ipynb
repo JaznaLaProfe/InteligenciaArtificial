{
  "nbformat": 4,
  "nbformat_minor": 0,
  "metadata": {
    "colab": {
      "provenance": []
    },
    "kernelspec": {
      "name": "python3",
      "display_name": "Python 3"
    },
    "language_info": {
      "name": "python"
    }
  },
  "cells": [
    {
      "cell_type": "markdown",
      "source": [
        "# Explicación del concepto de kernel\n",
        "\n",
        "**Autor:** Jazna Meza Hidalgo\n",
        "\n",
        "**Correo Electrónico:** ymeza@ubiobio.cl\n",
        "\n",
        "**Fecha de Creación:** Diciembre de 2024  \n",
        "**Versión:** 1.0  \n",
        "\n",
        "---\n",
        "\n",
        "## Descripción\n",
        "\n",
        "Este notebook contiene la explicación del uso de kernel sobre una imagen que va a contribuir con el entendimiento de la forma en la que se procesan las imágenes en una red neuronal convolucional (CNN)\n",
        "\n",
        "---\n",
        "\n",
        "## Requisitos de Software\n",
        "\n",
        "Este notebook fue desarrollado con Python 3.9. A continuación se listan las bibliotecas necesarias:\n",
        "\n",
        "- numpy (1.26.4)\n"
      ],
      "metadata": {
        "id": "VdzPzvHin5y3"
      }
    },
    {
      "cell_type": "code",
      "source": [
        "# Descargar el archivo\n",
        "!wget https://raw.githubusercontent.com/JaznaLaProfe/InteligenciaArtificial/main/data/imagen.jpeg"
      ],
      "metadata": {
        "colab": {
          "base_uri": "https://localhost:8080/"
        },
        "id": "ooFSDFmP-DRU",
        "outputId": "9aa9fed0-f291-41c1-b017-eae18181c53c"
      },
      "execution_count": null,
      "outputs": [
        {
          "output_type": "stream",
          "name": "stdout",
          "text": [
            "--2024-12-05 22:37:30--  https://raw.githubusercontent.com/JaznaLaProfe/InteligenciaArtificial/main/data/imagen.jpeg\n",
            "Resolving raw.githubusercontent.com (raw.githubusercontent.com)... 185.199.108.133, 185.199.109.133, 185.199.110.133, ...\n",
            "Connecting to raw.githubusercontent.com (raw.githubusercontent.com)|185.199.108.133|:443... connected.\n",
            "HTTP request sent, awaiting response... 200 OK\n",
            "Length: 1748870 (1.7M) [image/jpeg]\n",
            "Saving to: ‘imagen.jpeg’\n",
            "\n",
            "imagen.jpeg         100%[===================>]   1.67M  --.-KB/s    in 0.07s   \n",
            "\n",
            "2024-12-05 22:37:31 (23.7 MB/s) - ‘imagen.jpeg’ saved [1748870/1748870]\n",
            "\n"
          ]
        }
      ]
    },
    {
      "cell_type": "code",
      "source": [
        "import numpy as np\n",
        "\n",
        "from PIL import Image, ImageFilter"
      ],
      "metadata": {
        "id": "SqibSpbg-O3f"
      },
      "execution_count": null,
      "outputs": []
    },
    {
      "cell_type": "code",
      "execution_count": null,
      "metadata": {
        "id": "2LxWzcdLNX9s"
      },
      "outputs": [],
      "source": [
        "imgpath = 'imagen.jpeg'\n",
        "img = Image.open(imgpath)\n",
        "img = img.convert('RGB')\n",
        "display(img)"
      ]
    },
    {
      "cell_type": "code",
      "source": [
        "imgmatrix = np.asarray(img, dtype=np.uint8)\n",
        "print (imgmatrix)"
      ],
      "metadata": {
        "colab": {
          "base_uri": "https://localhost:8080/"
        },
        "id": "Tp67nXuoOIi2",
        "outputId": "96517344-bffa-468e-c973-e537a23a0bc2"
      },
      "execution_count": null,
      "outputs": [
        {
          "output_type": "stream",
          "name": "stdout",
          "text": [
            "[[[173 202 216]\n",
            "  [173 202 216]\n",
            "  [173 202 216]\n",
            "  ...\n",
            "  [131 177 192]\n",
            "  [131 177 192]\n",
            "  [131 177 192]]\n",
            "\n",
            " [[173 202 216]\n",
            "  [173 202 216]\n",
            "  [173 202 216]\n",
            "  ...\n",
            "  [132 178 193]\n",
            "  [132 178 193]\n",
            "  [132 178 193]]\n",
            "\n",
            " [[173 202 216]\n",
            "  [173 202 216]\n",
            "  [173 202 216]\n",
            "  ...\n",
            "  [132 178 193]\n",
            "  [132 178 193]\n",
            "  [132 178 193]]\n",
            "\n",
            " ...\n",
            "\n",
            " [[139 154 157]\n",
            "  [138 153 156]\n",
            "  [137 152 155]\n",
            "  ...\n",
            "  [ 79  97 111]\n",
            "  [ 78  97 112]\n",
            "  [ 85 104 118]]\n",
            "\n",
            " [[142 161 159]\n",
            "  [141 160 158]\n",
            "  [143 162 160]\n",
            "  ...\n",
            "  [ 71  93 104]\n",
            "  [ 65  89 101]\n",
            "  [ 66  93 102]]\n",
            "\n",
            " [[144 165 160]\n",
            "  [143 164 159]\n",
            "  [146 167 162]\n",
            "  ...\n",
            "  [ 76  98 109]\n",
            "  [ 69  98 106]\n",
            "  [ 71 101 109]]]\n"
          ]
        }
      ]
    },
    {
      "cell_type": "code",
      "source": [
        "imgmatrix.shape"
      ],
      "metadata": {
        "colab": {
          "base_uri": "https://localhost:8080/"
        },
        "id": "fkyTCzKNX7Sj",
        "outputId": "cb4aec94-57ac-4ca8-c719-f30e17e918c3"
      },
      "execution_count": null,
      "outputs": [
        {
          "output_type": "execute_result",
          "data": {
            "text/plain": [
              "(2002, 3000, 3)"
            ]
          },
          "metadata": {},
          "execution_count": 5
        }
      ]
    },
    {
      "cell_type": "markdown",
      "source": [
        "# Kernel 1"
      ],
      "metadata": {
        "id": "of4o7AoKmwDx"
      }
    },
    {
      "cell_type": "code",
      "source": [
        "kernelValues = [-1,-1,-1,-1, 8,-1,-1,-1,-1]\n",
        "np.reshape(kernelValues, (3,3))"
      ],
      "metadata": {
        "colab": {
          "base_uri": "https://localhost:8080/"
        },
        "id": "4FmBqGvIOM1Z",
        "outputId": "777fc194-45c4-4223-a2cf-78b93427c859"
      },
      "execution_count": null,
      "outputs": [
        {
          "output_type": "execute_result",
          "data": {
            "text/plain": [
              "array([[-1, -1, -1],\n",
              "       [-1,  8, -1],\n",
              "       [-1, -1, -1]])"
            ]
          },
          "metadata": {},
          "execution_count": 6
        }
      ]
    },
    {
      "cell_type": "code",
      "source": [
        "kernel = ImageFilter.Kernel((3,3), kernelValues, 1, 0)\n",
        "imagen_filter = img.filter(kernel)\n",
        "display(imagen_filter)"
      ],
      "metadata": {
        "id": "qTuF4OulU8ot"
      },
      "execution_count": null,
      "outputs": []
    },
    {
      "cell_type": "markdown",
      "source": [
        "**Comentarios**\n",
        "\n",
        "+ El kernel anterior es un filtro de detección de bordes o de realce de bordes.\n",
        "\n",
        "+ Es un filtro de tamaño 3×3, lo que significa que operará en vecindarios de 3x3 píxeles de la imagen.\n",
        "\n",
        "+ El centro del kernel tiene un valor 8, y los demás elementos tienen valores -1.\n",
        "\n",
        "**Operación matemática**\n",
        "\n",
        "+ Para cada píxel de la imagen, multiplicar los valores de intensidad del vecindario (los píxeles vecinos) por los valores correspondientes en el kernel.\n",
        "+ Sumar todos esos productos.\n",
        "+ Dividir por la normalización (en este caso, es 1, así que no hay cambio).\n",
        "+ Agregar el sesgo (en este caso, es 0, por lo que no se agrega nada extra).\n",
        "\n",
        "**Función del kernel**\n",
        "\n",
        "+ Este kernel destaca la diferencia de intensidad entre un píxel y sus vecinos.\n",
        "+ Si un píxel tiene una intensidad muy diferente a la de sus vecinos, el resultado será un valor alto (realzando el borde en esa región).\n",
        "+ Si el píxel tiene una intensidad similar a sus vecinos, el resultado será cercano a 0 (suprimiendo las áreas uniformes).\n",
        "\n",
        "**Resultado**\n",
        "+ Obtendrás una imagen resaltando los bordes y los cambios abruptos de intensidad en la imagen original.\n",
        "+ Las áreas homogéneas (sin cambios en la intensidad) serán casi negras, mientras que los bordes y los detalles tendrán valores altos (brillantes).\n",
        "+ Este filtro es útil para detección de bordes y realce de detalles en imágene"
      ],
      "metadata": {
        "id": "46CJ4VxQAycJ"
      }
    },
    {
      "cell_type": "markdown",
      "source": [
        "# Kernel 2"
      ],
      "metadata": {
        "id": "xR-8THjOmzY-"
      }
    },
    {
      "cell_type": "code",
      "source": [
        "x_kernelValues = [1,-2, -1, 0,0,0,1,1,2]\n",
        "np.reshape(x_kernelValues, (3,3))\n"
      ],
      "metadata": {
        "colab": {
          "base_uri": "https://localhost:8080/"
        },
        "id": "ioRamM7bR1sG",
        "outputId": "ad361507-cbe7-4723-f8e7-7c615fffd1bb"
      },
      "execution_count": null,
      "outputs": [
        {
          "output_type": "execute_result",
          "data": {
            "text/plain": [
              "array([[ 1, -2, -1],\n",
              "       [ 0,  0,  0],\n",
              "       [ 1,  1,  2]])"
            ]
          },
          "metadata": {},
          "execution_count": 8
        }
      ]
    },
    {
      "cell_type": "code",
      "source": [
        "kernel = ImageFilter.Kernel((3,3), x_kernelValues, 1, 0)\n",
        "imagen_filter = img.filter(kernel)\n",
        "display(imagen_filter)"
      ],
      "metadata": {
        "id": "gnIDYi-nXNDU"
      },
      "execution_count": null,
      "outputs": []
    },
    {
      "cell_type": "markdown",
      "source": [
        "**Función del Kernel**\n",
        "\n",
        "Este kernel realiza un tipo de detección de bordes direccionada, específicamente para resaltar los cambios en la intensidad de los píxeles a lo largo de una dirección. En este caso:\n",
        "\n",
        "+ Los valores positivos (en la parte inferior derecha del kernel) y los valores negativos (en la parte superior izquierda) sugieren que este filtro realza los cambios de intensidad a lo largo de una dirección diagonal, de arriba-izquierda a abajo-derecha.\n",
        "\n",
        "+ Los valores centrales son ceros, lo que significa que no se considera la intensidad del píxel central directamente.\n",
        "\n",
        "**Operación Matemática**\n",
        "\n",
        "El proceso consiste en:\n",
        "\n",
        "+ Multiplicar los valores del vecindario 3×3 de cada píxel por los valores correspondientes del kernel.\n",
        "\n",
        "+ Sumar los productos, generando una nueva intensidad para el píxel procesado.\n",
        "**Características del Kernel**\n",
        "Diferencias diagonales:\n",
        "+ Detecta bordes diagonales, principalmente los que están alineados desde arriba a la izquierda hacia abajo a la derecha.\n",
        "\n",
        "Refuerzo direccional:\n",
        "+ Las diferencias de intensidad en esa dirección serán amplificadas.\n",
        "+ En cambio, bordes o cambios en direcciones no alineadas con el kernel (por ejemplo, vertical u horizontal) no serán tan destacados.\n",
        "\n",
        "**Resultado**\n",
        "+ Los bordes diagonales que van de arriba-izquierda hacia abajo-derecha serán más prominentes.\n",
        "+ Las regiones con cambios en intensidad en otras direcciones tendrán menor importancia o estarán atenuadas.\n",
        "\n",
        "**Aplicaciones**\n",
        "\n",
        "Este tipo de filtro es útil en:\n",
        "\n",
        "+ Detección de bordes direccionales en imágenes.\n",
        "+ Análisis de texturas o características con orientaciones específicas.\n",
        "+ Tareas como preprocesamiento en visión por computadora para resaltar detalles clave en la dirección del kernel."
      ],
      "metadata": {
        "id": "zVtAJZ8gCLep"
      }
    },
    {
      "cell_type": "markdown",
      "source": [
        "# Kernel 3"
      ],
      "metadata": {
        "id": "xbYFNgZWEFcl"
      }
    },
    {
      "cell_type": "code",
      "source": [
        "x_kernelValues = [-1,0, 1, -2,0,2, -1,0,1]\n",
        "np.reshape(x_kernelValues, (3,3))"
      ],
      "metadata": {
        "colab": {
          "base_uri": "https://localhost:8080/"
        },
        "id": "GB377SEiWpYq",
        "outputId": "f9add488-412e-47d4-dc9e-8fa4812a0112"
      },
      "execution_count": null,
      "outputs": [
        {
          "output_type": "execute_result",
          "data": {
            "text/plain": [
              "array([[-1,  0,  1],\n",
              "       [-2,  0,  2],\n",
              "       [-1,  0,  1]])"
            ]
          },
          "metadata": {},
          "execution_count": 10
        }
      ]
    },
    {
      "cell_type": "code",
      "source": [
        "kernel = ImageFilter.Kernel((3,3), x_kernelValues, 1, 0)\n",
        "\n",
        "imagen_filter = img.filter(kernel)\n",
        "\n",
        "display(imagen_filter)"
      ],
      "metadata": {
        "id": "QpOfroIZXUF_"
      },
      "execution_count": null,
      "outputs": []
    },
    {
      "cell_type": "markdown",
      "source": [
        "**Función del Kernel**\n",
        "\n",
        "Este kernel es un filtro Sobel en dirección horizontal (también conocido como Sobel-X), ampliamente utilizado en el procesamiento de imágenes para detectar bordes horizontales. En este caso, está diseñado para resaltar cambios de intensidad de izquierda a derecha en la imagen.\n",
        "\n",
        "**Características principales:**\n",
        "\n",
        "Los valores en la izquierda son negativos , en el centro son ceros y en la derecha son positivos.\n",
        "Esto mide cómo cambia la intensidad de los píxeles de izquierda a derecha en cada vecindario 3×3.\n",
        "\n",
        "**Operación del Kernel**\n",
        "\n",
        "**Aplicación**:\n",
        "\n",
        "+ Para cada píxel, se toma su vecindario 3×3.\n",
        "+ Se multiplican los valores del vecindario por los valores correspondientes del kernel.\n",
        "+ Se suman los productos para calcular el nuevo valor de intensidad para ese píxel.\n",
        "\n",
        "El resultado es un mapa de bordes horizontales en la imagen:\n",
        "\n",
        "+ Los bordes donde los valores cambian de bajo a alto de izquierda a derecha tendrán valores positivos.\n",
        "+ Los bordes donde los valores cambian de alto a bajo de izquierda a derecha tendrán valores negativos.\n",
        "+ Las regiones homogéneas tendrán un valor cercano a cero (se atenúan).\n",
        "\n",
        "**Resultado del Filtro**\n",
        "Este kernel produce:\n",
        "\n",
        "+ Detección de bordes horizontales: cambios abruptos de intensidad en la dirección horizontal (izquierda-derecha).\n",
        "+ Contraste direccional: resalta líneas y contornos que separan áreas claras y oscuras a lo largo de la dirección horizontal.\n",
        "\n",
        "**Comparación con el Kernel Sobel Vertical**\n",
        "El kernel Sobel vertical (o Sobel-Y) es similar, pero orientado a cambios verticales. Tiene la forma:\n",
        "\n",
        " [-1, -2, -1,\n",
        "                   0,  0,  0,\n",
        "                   1,  2,  1]\n",
        "\n",
        "Usando ambos (Sobel-X y Sobel-Y), es posible calcular el gradiente de intensidad completo de la imagen y combinar los resultados para una detección general de bordes.\n",
        "\n",
        "**Aplicaciones**\n",
        "+ Detección de bordes horizontales en visión por computadora.\n",
        "+ Segmentación de imágenes.\n",
        "+ Análisis de texturas y contornos en imágenes.\n",
        "\n",
        "Este kernel es parte de los filtros Sobel, que son rápidos y efectivos para tareas de procesamiento de imágenes."
      ],
      "metadata": {
        "id": "tgipBhEyFNEL"
      }
    },
    {
      "cell_type": "markdown",
      "source": [
        "# Kernel 4"
      ],
      "metadata": {
        "id": "E8kQP-TDpzBq"
      }
    },
    {
      "cell_type": "code",
      "source": [
        "z_kernelValues = [-1, -1, -1, 2,  2,  2, -1, -1, -1]\n",
        "np.reshape(z_kernelValues, (3,3))"
      ],
      "metadata": {
        "colab": {
          "base_uri": "https://localhost:8080/"
        },
        "id": "k_TkTuQomLQz",
        "outputId": "1e30a434-dd74-49a6-d23a-55538dec8643"
      },
      "execution_count": null,
      "outputs": [
        {
          "output_type": "execute_result",
          "data": {
            "text/plain": [
              "array([[-1, -1, -1],\n",
              "       [ 2,  2,  2],\n",
              "       [-1, -1, -1]])"
            ]
          },
          "metadata": {},
          "execution_count": 13
        }
      ]
    },
    {
      "cell_type": "code",
      "source": [
        "kernel = ImageFilter.Kernel((3,3), z_kernelValues, 1, 0)\n",
        "\n",
        "imagen_filter = img.filter(kernel)\n",
        "\n",
        "display(imagen_filter)"
      ],
      "metadata": {
        "id": "jZYCKi2WmjW3"
      },
      "execution_count": null,
      "outputs": []
    }
  ]
}