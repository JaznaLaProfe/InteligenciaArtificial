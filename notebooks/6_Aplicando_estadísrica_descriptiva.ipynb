{
  "nbformat": 4,
  "nbformat_minor": 0,
  "metadata": {
    "colab": {
      "provenance": []
    },
    "kernelspec": {
      "name": "python3",
      "display_name": "Python 3"
    },
    "language_info": {
      "name": "python"
    }
  },
  "cells": [
    {
      "cell_type": "markdown",
      "source": [
        "# Carga y descripción de la data"
      ],
      "metadata": {
        "id": "t_z7eFhfhVeT"
      }
    },
    {
      "cell_type": "code",
      "execution_count": null,
      "metadata": {
        "id": "tG3VLIPRgqIc"
      },
      "outputs": [],
      "source": [
        "!wget https://raw.githubusercontent.com/JaznaLaProfe/InteligenciaArtificial/master/data/TCM2022.xls"
      ]
    },
    {
      "cell_type": "markdown",
      "source": [
        "Su trabajo será, mediante tablas y medidas de estadíostica descriptiva, realizar análisis de datos. Para el cumplimiento de lo anterior, el Departamento de Informática les hace llegar una pequeña muestra aleatoria simple de clientes con información histórica y los atributos solicitados (ver `TCM2022.xlsx`). Las variables de la muestra son las siguientes:\n",
        "\n",
        "* `Cliente`: código de identificación del cliente – asociada a la fecha de otorgamiento.\n",
        "* `Edad`: en años actualizada a diciembre 2022.\n",
        "* `Sexo`: F (femenino), M (masculino).\n",
        "* `Region`: Indica si el cliente pertenece a la región metropolitana (RM) o no (No RM).\n",
        "* `Uso2022`: 1 si ha usado la tarjeta durante 2022, 0 si solo la ha usado en 2021.\n",
        "* `Monto2022`: Monto total en compras desde enero a diciembre de 2022 (en miles).\n"
      ],
      "metadata": {
        "id": "KBGrg3A3hMGN"
      }
    },
    {
      "cell_type": "markdown",
      "source": [
        "# Análisis de datos"
      ],
      "metadata": {
        "id": "N_g_nt0Fhbxb"
      }
    },
    {
      "cell_type": "markdown",
      "source": [
        "## Obtener cantidad de observaciones y características"
      ],
      "metadata": {
        "id": "_IQEf5OXh4Ck"
      }
    },
    {
      "cell_type": "code",
      "source": [
        "# Escriba su código acá"
      ],
      "metadata": {
        "id": "F65198iiiAcx"
      },
      "execution_count": null,
      "outputs": []
    },
    {
      "cell_type": "markdown",
      "source": [
        "## Identificar variables discretas y continuas"
      ],
      "metadata": {
        "id": "viy2J7DOh_h9"
      }
    },
    {
      "cell_type": "code",
      "source": [
        "# Escriba su código acá"
      ],
      "metadata": {
        "id": "e7E-0TfeiG9u"
      },
      "execution_count": null,
      "outputs": []
    },
    {
      "cell_type": "markdown",
      "source": [
        "## Análisis estadístico de una variable discreta"
      ],
      "metadata": {
        "id": "__kSkAW0iKgI"
      }
    },
    {
      "cell_type": "code",
      "source": [
        "# Escriba su código acá"
      ],
      "metadata": {
        "id": "fdQZzOcliS9P"
      },
      "execution_count": null,
      "outputs": []
    },
    {
      "cell_type": "markdown",
      "source": [
        "## Análisis estadísitico de una variable continua"
      ],
      "metadata": {
        "id": "1Sljy-xSiPmW"
      }
    },
    {
      "cell_type": "code",
      "source": [
        "# Escriba su código acá"
      ],
      "metadata": {
        "id": "AAcQ0aTQiVLm"
      },
      "execution_count": null,
      "outputs": []
    },
    {
      "cell_type": "markdown",
      "source": [
        "## Análisis propuesto por usted\n",
        "\n",
        "En esta sección debería proponer un análisis que usted considere relevantes para profundizar su entendimiento de los datos"
      ],
      "metadata": {
        "id": "FbmgCI9CkAqh"
      }
    },
    {
      "cell_type": "code",
      "source": [
        "# Escriba su código acá"
      ],
      "metadata": {
        "id": "n4enYSC6kmUs"
      },
      "execution_count": null,
      "outputs": []
    }
  ]
}