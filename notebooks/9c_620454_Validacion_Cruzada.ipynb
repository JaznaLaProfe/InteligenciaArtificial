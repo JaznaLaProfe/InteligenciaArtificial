{
  "nbformat": 4,
  "nbformat_minor": 0,
  "metadata": {
    "colab": {
      "provenance": [],
      "toc_visible": true
    },
    "kernelspec": {
      "name": "python3",
      "display_name": "Python 3"
    },
    "language_info": {
      "name": "python"
    }
  },
  "cells": [
    {
      "cell_type": "markdown",
      "source": [
        "# Explicación de validación cruzada\n",
        "\n",
        "**Autor:** Jazna Meza Hidalgo\n",
        "\n",
        "**Correo Electrónico:** ymeza@ubiobio.cl\n",
        "\n",
        "**Fecha de Creación:** Octubre de 2024  \n",
        "**Versión:** 1.0  \n",
        "\n",
        "---\n",
        "\n",
        "## Descripción\n",
        "\n",
        "Este notebook explica el uso de validación cruzada, considerando 2 alternativas de uso, y mostrando en cómo se puede mejorar el rendimiento.\n",
        "\n",
        "Se trabaja un un set de datos disponible en sklearn relacionado con los tipos de flores.\n",
        "\n",
        "## Requisitos de Software\n",
        "\n",
        "Este notebook fue desarrollado con Python 3.9. A continuación se listan las bibliotecas necesarias:\n",
        "\n",
        "- pandas (>=1.1.0)\n",
        "- numpy (1.26.4)\n",
        "- sklearn (1.3.2)\n",
        "\n",
        "Para verificar la versión instalada ejecutar usando el nombre del paquete del cual quieres saber la versión; por ejemplo, si quieres saber la versión de sklearn usas:\n",
        "\n",
        "```bash\n",
        "import sklearn\n",
        "print(sklearn.__version__)\n",
        "```"
      ],
      "metadata": {
        "id": "ND8cK72qkZxY"
      }
    },
    {
      "cell_type": "code",
      "source": [
        "import numpy as np\n",
        "import pandas as pd\n",
        "\n",
        "from sklearn.model_selection import train_test_split, cross_val_score, KFold, cross_validate\n",
        "from sklearn.linear_model import LogisticRegression\n",
        "from sklearn.metrics import accuracy_score\n",
        "from sklearn.datasets import load_iris"
      ],
      "metadata": {
        "id": "0Mz5_Bf9ngYc"
      },
      "execution_count": 9,
      "outputs": []
    },
    {
      "cell_type": "code",
      "source": [
        "# Cargar datos Iris\n",
        "iris = load_iris()\n",
        "X, y = iris.data, iris.target"
      ],
      "metadata": {
        "id": "qOOERRXgnnDo"
      },
      "execution_count": 10,
      "outputs": []
    },
    {
      "cell_type": "code",
      "source": [
        "# Calcular la frecuencia de cada valor en y\n",
        "unique, counts = np.unique(y, return_counts=True)\n",
        "frecuencia = dict(zip(unique, counts))\n",
        "frecuencia"
      ],
      "metadata": {
        "colab": {
          "base_uri": "https://localhost:8080/"
        },
        "id": "dZMfhUtIlbb6",
        "outputId": "746ba94a-a3aa-4857-c66a-ff2e7e95a7c9"
      },
      "execution_count": 13,
      "outputs": [
        {
          "output_type": "execute_result",
          "data": {
            "text/plain": [
              "{0: 50, 1: 50, 2: 50}"
            ]
          },
          "metadata": {},
          "execution_count": 13
        }
      ]
    },
    {
      "cell_type": "markdown",
      "source": [
        "\n",
        "\n",
        "---\n",
        "\n",
        "***Observación***\n",
        "\n",
        "---\n",
        "\n",
        "Se aprecia una distribución perfecta entre las 3 clases disponibles, esto es porque el conjunto de datos es académico; esta situación no es común en el mundo real.\n",
        "\n",
        "Independiente de lo anterior, el saber que hay equilibrio de clases transforma el ***accuracy*** como una medida confiable."
      ],
      "metadata": {
        "id": "YRDzyhtHmMnq"
      }
    },
    {
      "cell_type": "markdown",
      "source": [
        "# Modelo a evaluar\n",
        "\n",
        "El modelo de `LogisticRegression` usado se puede resumir de la siguiente manera:\n",
        "\n",
        "1. **Tipo de modelo**:\n",
        "   - Es un modelo de regresión logística, que se utiliza principalmente para tareas de clasificación binaria o multiclase. En la clasificación binaria, predice la probabilidad de pertenecer a una de las dos clases.\n",
        "\n",
        "2. **Parámetro `solver`**:\n",
        "   - `solver='lbfgs'`: el algoritmo de optimización utilizado es \"Limited-memory Broyden–Fletcher–Goldfarb–Shanno\" (LBFGS), que es un método iterativo para encontrar el mínimo de una función. Es adecuado para problemas de clasificación con muchas características y admite la clasificación multiclase de manera eficiente.\n",
        "\n",
        "3. **Parámetro `max_iter`**:\n",
        "   - `max_iter=1000`: Indica el número máximo de iteraciones permitidas para que el algoritmo de optimización (LBFGS en este caso) converja. Un valor más alto proporciona más oportunidades para que el algoritmo encuentre la solución óptima, especialmente si los datos son complejos o tienen muchas características.\n",
        "\n",
        "4. **Función de pérdida**:\n",
        "   - Utiliza la función de pérdida logística, también conocida como \"log loss\" o \"cross-entropy loss\", para optimizar el modelo. Esto permite calcular la probabilidad de pertenecer a una clase específica.\n",
        "\n",
        "5. **Aplicaciones**:\n",
        "   - Ideal para problemas en los que la relación entre las características independientes y la probabilidad del resultado es aproximadamente lineal.\n",
        "\n",
        "En resumen, este modelo es un clasificador de regresión logística que utiliza el algoritmo LBFGS para optimizar la función de pérdida logística, con un límite de 1000 iteraciones para la convergencia del algoritmo."
      ],
      "metadata": {
        "id": "_7dr-geawuyT"
      }
    },
    {
      "cell_type": "markdown",
      "source": [
        "# Evaluación del modelo"
      ],
      "metadata": {
        "id": "-ry6u17nm63a"
      }
    },
    {
      "cell_type": "markdown",
      "source": [
        "## Sin validación cruzada"
      ],
      "metadata": {
        "id": "WGJ6SbI1m9AM"
      }
    },
    {
      "cell_type": "code",
      "execution_count": 3,
      "metadata": {
        "colab": {
          "base_uri": "https://localhost:8080/"
        },
        "id": "WRWfVr9zKzqB",
        "outputId": "fbdc9009-b4ce-4ae8-ea76-9432be289237"
      },
      "outputs": [
        {
          "output_type": "stream",
          "name": "stdout",
          "text": [
            "Exactitud (sin validación cruzada): 0.9\n"
          ]
        }
      ],
      "source": [
        "# Dividir los datos en entrenamiento (80%) y prueba (20%) sin validación cruzada\n",
        "X_train, X_test, y_train, y_test = train_test_split(X, y, test_size=0.2, random_state=29)\n",
        "\n",
        "# Entrenar el modelo con los datos de entrenamiento\n",
        "model = LogisticRegression(solver='lbfgs', max_iter=1000)\n",
        "model.fit(X_train, y_train)\n",
        "\n",
        "# Predecir y evaluar en los datos de prueba\n",
        "y_pred = model.predict(X_test)\n",
        "accuracy_normal = accuracy_score(y_test, y_pred)\n",
        "\n",
        "print(\"Exactitud (sin validación cruzada):\", accuracy_normal)\n"
      ]
    },
    {
      "cell_type": "markdown",
      "source": [
        "---\n",
        "\n",
        "***Observación***\n",
        "\n",
        "---\n",
        "\n",
        "\n",
        "Acá se aprecia un accuracy (una de las métricas usadas en clasificación) igual al 90%."
      ],
      "metadata": {
        "id": "E0kJSUzelO20"
      }
    },
    {
      "cell_type": "markdown",
      "source": [
        "## Con validación cruzada\n",
        "\n",
        "Existen 2 formas de aplicar validación cruzada:\n",
        "\n",
        "+ Usando [cross_val_score](https://scikit-learn.org/stable/modules/generated/sklearn.model_selection.cross_val_score.html)\n",
        "+ Usando [cross_validate ](https://scikit-learn.org/stable/modules/generated/sklearn.model_selection.cross_validate.html)"
      ],
      "metadata": {
        "id": "RHLmTekfnAkf"
      }
    },
    {
      "cell_type": "markdown",
      "source": [
        "#### Usando 'cros_val_score' en combinación con 'KFold'"
      ],
      "metadata": {
        "id": "8QiK9HXzqQI5"
      }
    },
    {
      "cell_type": "code",
      "source": [
        "# Definir el número de divisiones (split) para la validación cruzada\n",
        "k_fold = KFold(n_splits=5)\n",
        "\n",
        "# Realizar validación cruzada con 5 divisiones\n",
        "accuracy_cross_val = cross_val_score(model, X_train, y_train, cv=k_fold, scoring='accuracy')\n",
        "\n",
        "print(f\"{'Exactitud por división (con validación cruzada)':<50}:\", accuracy_cross_val)\n",
        "print(f\"{'Promedio de exactitud (con validación cruzada)':<50}: {accuracy_cross_val.mean():.4f}\")\n"
      ],
      "metadata": {
        "colab": {
          "base_uri": "https://localhost:8080/"
        },
        "id": "lqtptWGnLZs9",
        "outputId": "88a6d364-6fd0-4ffc-fa29-f041434ad721"
      },
      "execution_count": 25,
      "outputs": [
        {
          "output_type": "stream",
          "name": "stdout",
          "text": [
            "Exactitud por división (con validación cruzada)   : [1.         0.91666667 0.95833333 0.95833333 0.95833333]\n",
            "Promedio de exactitud (con validación cruzada)    : 0.9583\n"
          ]
        }
      ]
    },
    {
      "cell_type": "markdown",
      "source": [
        "---\n",
        "\n",
        "***Observaciones***\n",
        "\n",
        "---\n",
        "+ Usando esta técnica de valdiación cruzada se aprecia una mejora en el rendimiento.\n",
        "+ Se tienen 5 divisiones (split), significa que, en cada división, se arma un grupo que formará parte de entrenamiento y otro como validación. Gráficamente se tiene:\n",
        "\n",
        "![Validación cruzada](https://qu4nt.github.io/sklearn-doc-es/_images/grid_search_cross_validation.png)\n",
        "\n",
        "+ De esta forma se asegura la participación de cada observación disponible para entrenamiento en la base de validación del modelo.\n",
        "+ Los cinco valores que se aprencian en el arreglo que imprime:\n",
        "```\n",
        "print(f\"{'Exactitud por división (con validación cruzada)':<50}:\", accuracy_cross_val)\n",
        "```\n",
        "corresponde al rendimiento obtenido por el modelo.\n",
        "+ La exactitud final del modelo es el promedio de lo que se obtiene en cada división.\n",
        "\n"
      ],
      "metadata": {
        "id": "V5YAVQpmns1Z"
      }
    },
    {
      "cell_type": "code",
      "source": [
        "# Realizar validación cruzada con 5 divisiones sin el uso de KFold\n",
        "accuracy_cross_val_x = cross_val_score(model, X_train, y_train, cv=5, scoring='accuracy')\n",
        "print(f\"{'Exactitud por división (con validación cruzada)':<50}:\", accuracy_cross_val_x)\n",
        "print(f\"{'Promedio de exactitud (con validación cruzada)':<50}: {accuracy_cross_val_x.mean():.4f}\")"
      ],
      "metadata": {
        "colab": {
          "base_uri": "https://localhost:8080/"
        },
        "id": "vns5luLlspQf",
        "outputId": "2e615cbd-cb2b-49ae-dfb2-74e763e779ae"
      },
      "execution_count": 16,
      "outputs": [
        {
          "output_type": "stream",
          "name": "stdout",
          "text": [
            "Exactitud por división (con validación cruzada)   : [1.         0.91666667 1.         0.91666667 0.95833333]\n",
            "Promedio de exactitud (con validación cruzada)    : 0.9583\n"
          ]
        }
      ]
    },
    {
      "cell_type": "markdown",
      "source": [
        "#### Usando 'cross_validate'"
      ],
      "metadata": {
        "id": "ncDL7YJup-5w"
      }
    },
    {
      "cell_type": "markdown",
      "source": [
        "##### Usando 'KFold'"
      ],
      "metadata": {
        "id": "OgEetg0eq3pt"
      }
    },
    {
      "cell_type": "code",
      "source": [
        "accuracy_cross_val_full = cross_validate(model, X_train, y_train, cv=k_fold, return_train_score = True, scoring='accuracy')\n",
        "print(f\"{'Exactitud en los datos de validación':<55}: {accuracy_cross_val_full['test_score']}\")\n",
        "print(f\"{'Promedio de exactitud en validación':<55}: {accuracy_cross_val_full['test_score'].mean():.4f}\")\n",
        "print(f\"{'Exactitud en los datos de entrenamiento':<55}: {accuracy_cross_val_full['train_score']}\")\n",
        "print(f\"{'Promedio de exactitud en entrenamiento':<55}: {accuracy_cross_val_full['train_score'].mean():.4f}\")"
      ],
      "metadata": {
        "colab": {
          "base_uri": "https://localhost:8080/"
        },
        "id": "EGg-rFLZNtxD",
        "outputId": "ce6ec519-23d8-450d-e1c5-151518a41a79"
      },
      "execution_count": 23,
      "outputs": [
        {
          "output_type": "stream",
          "name": "stdout",
          "text": [
            "Exactitud en los datos de validación                   : [1.         0.91666667 0.95833333 0.95833333 0.95833333]\n",
            "Promedio de exactitud en validación                    : 0.9583\n",
            "Exactitud en los datos de entrenamiento                : [0.97916667 0.96875    0.98958333 0.96875    0.96875   ]\n",
            "Promedio de exactitud en entrenamiento                 : 0.9750\n"
          ]
        }
      ]
    },
    {
      "cell_type": "markdown",
      "source": [
        "##### Sin el uso de KFold"
      ],
      "metadata": {
        "id": "0Q73g9jdqI9Q"
      }
    },
    {
      "cell_type": "code",
      "source": [
        "accuracy_cross_val_full = cross_validate(model, X_train, y_train, cv=5, return_train_score = True, scoring='accuracy')\n",
        "print(f\"{'Exactitud en los datos de validación':<55}: {accuracy_cross_val_full['test_score']}\")\n",
        "print(f\"{'Promedio de exactitud en validación':<55}: {accuracy_cross_val_full['test_score'].mean():.4f}\")\n",
        "print(f\"{'Exactitud en los datos de entrenamiento':<55}: {accuracy_cross_val_full['train_score']}\")\n",
        "print(f\"{'Promedio de exactitud en entrenamiento':<55}: {accuracy_cross_val_full['train_score'].mean():.4f}\")"
      ],
      "metadata": {
        "colab": {
          "base_uri": "https://localhost:8080/"
        },
        "id": "ZMSjFAC2rBGv",
        "outputId": "4b778d39-4413-439d-f67f-fe782420923d"
      },
      "execution_count": 21,
      "outputs": [
        {
          "output_type": "stream",
          "name": "stdout",
          "text": [
            "Exactitud en los datos de validación                   : [1.         0.91666667 1.         0.91666667 0.95833333]\n",
            "Promedio de exactitud en validación                    : 0.9583\n",
            "Exactitud en los datos de entrenamiento                : [0.97916667 0.97916667 0.96875    0.97916667 0.97916667]\n",
            "Promedio de exactitud en entrenamiento                 : 0.9771\n"
          ]
        }
      ]
    },
    {
      "cell_type": "markdown",
      "source": [
        "\n",
        "---\n",
        "\n",
        "***¿Por qué se tienen resultados de exactitud (en entrenamiento) distintos?***\n",
        "\n",
        "---\n",
        "\n",
        "La diferencia en los resultados de rendimiento podría deberse a la forma en que se realiza la validación cruzada en cada caso:\n",
        "\n",
        "1. **`cv=k_fold` vs `cv=5`**:\n",
        "   - Si `k_fold` es una instancia predefinida de `KFold` o alguna otra estrategia de validación cruzada, entonces tiene un comportamiento específico en términos de cómo divide los datos. Esto incluye el número de divisiones, la aleatoriedad y si las divisiones están estratificadas o no.\n",
        "   - Por otro lado, `cv=5` simplemente indica que se usará la validación cruzada con 5 ivisiones. Si el modelo es sensible a la forma en que se dividen los datos, los resultados pueden variar.\n",
        "\n",
        "2. **Posibles factores que afectan los resultados**:\n",
        "   - **Aleatoriedad en la división de los datos**: Cuando `cv=5` se usa con la opción predeterminada de `KFold`, la aleatoriedad podría ser diferente en comparación con una instancia personalizada de `KFold`.\n",
        "   - **Diferente número de divisiones o configuración específica**: Si `k_fold` está configurado con diferentes parámetros, como una división estratificada (por ejemplo, `StratifiedKFold`), o una semilla de aleatoriedad distinta, los resultados pueden diferir.\n",
        "\n",
        "En resumen, la razón principal es que el parámetro `cv` puede afectar la manera en que los datos son divididos y, por lo tanto, puede influir en la evaluación del rendimiento del modelo.\n"
      ],
      "metadata": {
        "id": "4m7JAXcmuPYl"
      }
    },
    {
      "cell_type": "markdown",
      "source": [
        "# Comentarios finales\n",
        "\n",
        "+ ***cross_validate*** da resultados más detallados, incluyendo exactitud en entrenamiento y validación, tiempos, y permite múltiples métricas.\n",
        "+ ***cross_val_score*** es una versión más simple, que sólo da la métrica de validación seleccionada para cada división.\n",
        "\n",
        "+ Si bien es cierto que se puede aplicar validación cruzada al conjunto de datos completo, es una práctica NO RECOMENDABLE porque siempre se aconseja tener un conjunto de datos desconocidos para el modelo para ponerlo a prueba."
      ],
      "metadata": {
        "id": "-sgddjWlM6Pw"
      }
    }
  ]
}