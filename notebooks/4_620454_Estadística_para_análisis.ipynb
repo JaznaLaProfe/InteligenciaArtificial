{
  "nbformat": 4,
  "nbformat_minor": 0,
  "metadata": {
    "colab": {
      "provenance": []
    },
    "kernelspec": {
      "name": "python3",
      "display_name": "Python 3"
    },
    "language_info": {
      "name": "python"
    }
  },
  "cells": [
    {
      "cell_type": "markdown",
      "source": [
        "# Medidas de tendencia central\n",
        "\n",
        "## Promedio o media aritmética\n",
        "\n",
        "$\\bar{x}=\\frac{\\sum_{i=1}^{n}x_i}{n}$\n",
        "\n",
        "## Varianza\n",
        "### Población\n",
        "\n",
        "$\\sigma^{2}={\\frac{{\\displaystyle \\sum_{i=1}^{N}\\left(x_{i}-\\mu\\right)^{2}}}{N}}$\n",
        "\n",
        "### Muestra\n",
        "\n",
        "$s^{2}={\\frac{{\\displaystyle \\sum_{i=1}^{n}\\left(x_{i}-\\mu\\right)^{2}}}{n-1}}$\n",
        "\n",
        "## Desviación estándar\n",
        "### Población : $\\sigma=\\sqrt{\\sigma^{2}}$\n",
        "### Muestra : $s=\\sqrt{s^{2}}$"
      ],
      "metadata": {
        "id": "TOCdlxudeOuT"
      }
    },
    {
      "cell_type": "code",
      "source": [
        "import random\n",
        "import numpy as np\n",
        "import pandas as pd\n",
        "from statistics import mean, median, median_grouped"
      ],
      "metadata": {
        "id": "PxShhsuugUw6"
      },
      "execution_count": null,
      "outputs": []
    },
    {
      "cell_type": "code",
      "execution_count": null,
      "metadata": {
        "colab": {
          "base_uri": "https://localhost:8080/"
        },
        "id": "1--sPe-vc1zG",
        "outputId": "af985163-30b4-4b86-fb28-349b07079229"
      },
      "outputs": [
        {
          "output_type": "stream",
          "name": "stdout",
          "text": [
            "[52, 21, 39, 55, 62, 35, 22, 49, 63, 42, 43, 18, 19, 23, 45, 31, 57, 59, 32, 27, 36, 34, 30, 40, 65, 50, 48, 24, 61, 37]\n"
          ]
        }
      ],
      "source": [
        "random.seed(29)\n",
        "edades = range(17,66)\n",
        "muestra = random.sample(edades, 30)\n",
        "print(muestra)"
      ]
    },
    {
      "cell_type": "code",
      "source": [
        "print(\"{0:<25} : {1:.2f}\".format(\"Media\", np.mean(muestra)))\n",
        "print(\"{0:<25} : {1:.2f}\".format(\"Mediana\", np.median(muestra)))\n",
        "print(\"{0:<25} : {1:.2f}\".format(\"Varianza\", np.var(muestra)))\n",
        "print(\"{0:<25} : {1:.2f}\".format(\"Desviación estándar\", np.std(muestra)))\n",
        "print(\"{0:<25} : {1:.2f}\".format(\"Desviación estándar *\", np.sqrt(np.var(muestra))))"
      ],
      "metadata": {
        "colab": {
          "base_uri": "https://localhost:8080/"
        },
        "id": "0UrlJvMYdWUY",
        "outputId": "ef9b8edf-d8aa-4e20-fb7d-dee12b25402e"
      },
      "execution_count": null,
      "outputs": [
        {
          "output_type": "stream",
          "name": "stdout",
          "text": [
            "Media                     : 40.63\n",
            "Mediana                   : 39.50\n",
            "Varianza                  : 200.83\n",
            "Desviación estándar       : 14.17\n",
            "Desviación estándar *     : 14.17\n"
          ]
        }
      ]
    },
    {
      "cell_type": "markdown",
      "source": [
        "# Medidas de posición"
      ],
      "metadata": {
        "id": "q53CWTRZeSml"
      }
    },
    {
      "cell_type": "code",
      "source": [
        "# Medidas de posición\n",
        "# Tercer cuartil\n",
        "print(\"{0:<15}: {1}\".format(\"Tercer quartil\", np.percentile(muestra, 75)))\n",
        "# Segundo cuartil\n",
        "print(\"{0:<15}: {1}\".format(\"Tercer quartil\", np.percentile(muestra, 50)))\n",
        "# Primer cuartil\n",
        "print(\"{0:<15}: {1}\".format(\"Primer quartil\", np.percentile(muestra, 25)))"
      ],
      "metadata": {
        "colab": {
          "base_uri": "https://localhost:8080/"
        },
        "id": "xAKJLqEUeCsu",
        "outputId": "ded96008-3985-406d-b011-433158b25dac"
      },
      "execution_count": null,
      "outputs": [
        {
          "output_type": "stream",
          "name": "stdout",
          "text": [
            "Tercer quartil : 51.5\n",
            "Tercer quartil : 39.5\n",
            "Primer quartil : 30.25\n"
          ]
        }
      ]
    },
    {
      "cell_type": "code",
      "source": [
        "print(\"{0:<20} : {1:.2f}\".format(\"Mediana \", median(muestra)))\n",
        "print(\"{0:<20} : {1:.2f}\".format(\"Mediana agrupada\", median_grouped(muestra)))\n",
        "print(\"{0:<20} : {1:.2f}\".format(\"Promedio\", mean(muestra)))"
      ],
      "metadata": {
        "colab": {
          "base_uri": "https://localhost:8080/"
        },
        "id": "b9vaddE3e-Q2",
        "outputId": "ffe9948f-a63c-49af-bbdb-af586a431d34"
      },
      "execution_count": null,
      "outputs": [
        {
          "output_type": "stream",
          "name": "stdout",
          "text": [
            "Mediana              : 39.50\n",
            "Mediana agrupada     : 39.50\n",
            "Promedio             : 40.63\n"
          ]
        }
      ]
    },
    {
      "cell_type": "code",
      "source": [
        "# Definir los datos\n",
        "datos = [15, 25, 35, 45, 55]  # Puntos medios de los intervalos\n",
        "frecuencias = [5, 8, 12, 7, 3]  # Frecuencias correspondientes\n",
        "\n",
        "# Expander los datos según las frecuencias\n",
        "datos_expandidos = []\n",
        "for dato, frecuencia in zip(datos, frecuencias):\n",
        "    datos_expandidos.extend([dato] * frecuencia)\n",
        "\n",
        "# Calcular la mediana agrupada\n",
        "mediana = median_grouped(datos_expandidos)\n",
        "print(f\"Mediana Agrupada: {mediana}\")\n"
      ],
      "metadata": {
        "colab": {
          "base_uri": "https://localhost:8080/"
        },
        "id": "UrwAEh3MipfT",
        "outputId": "5a2edb17-bdd6-49cc-df19-75cf22ca4b35"
      },
      "execution_count": null,
      "outputs": [
        {
          "output_type": "stream",
          "name": "stdout",
          "text": [
            "Mediana Agrupada: 34.875\n"
          ]
        }
      ]
    },
    {
      "cell_type": "markdown",
      "source": [
        "# Trabajando con dataset"
      ],
      "metadata": {
        "id": "Sb7Jbky8lon7"
      }
    },
    {
      "cell_type": "markdown",
      "source": [
        "[Descripción de los datos](http://www.biostatisticien.eu/springeR/jeuxDonnees4-en.html)"
      ],
      "metadata": {
        "id": "ZAQ8tL2qmnS8"
      }
    },
    {
      "cell_type": "code",
      "source": [
        "# Descargar el archivo y guardarlo en el entorno\n",
        "!wget https://raw.githubusercontent.com/JaznaLaProfe/InteligenciaArtificial/master/data/nutrition_elderly.xls"
      ],
      "metadata": {
        "colab": {
          "base_uri": "https://localhost:8080/"
        },
        "id": "TkfnYBlmkQzx",
        "outputId": "d20469ab-10d1-41fe-eb16-358fa82921c9"
      },
      "execution_count": null,
      "outputs": [
        {
          "output_type": "stream",
          "name": "stdout",
          "text": [
            "--2024-08-20 16:18:43--  https://raw.githubusercontent.com/JaznaLaProfe/InteligenciaArtificial/master/data/nutrition_elderly.xls\n",
            "Resolving raw.githubusercontent.com (raw.githubusercontent.com)... 185.199.109.133, 185.199.111.133, 185.199.108.133, ...\n",
            "Connecting to raw.githubusercontent.com (raw.githubusercontent.com)|185.199.109.133|:443... connected.\n",
            "HTTP request sent, awaiting response... 200 OK\n",
            "Length: 30208 (30K) [application/octet-stream]\n",
            "Saving to: ‘nutrition_elderly.xls’\n",
            "\n",
            "\rnutrition_elderly.x   0%[                    ]       0  --.-KB/s               \rnutrition_elderly.x 100%[===================>]  29.50K  --.-KB/s    in 0.002s  \n",
            "\n",
            "2024-08-20 16:18:43 (18.2 MB/s) - ‘nutrition_elderly.xls’ saved [30208/30208]\n",
            "\n"
          ]
        }
      ]
    },
    {
      "cell_type": "code",
      "source": [
        "data = pd.read_excel(\"nutrition_elderly.xls\")"
      ],
      "metadata": {
        "id": "_5Wya0TllsM5"
      },
      "execution_count": null,
      "outputs": []
    },
    {
      "cell_type": "code",
      "source": [
        "# Cantidad de observaciones y características\n",
        "data.shape"
      ],
      "metadata": {
        "colab": {
          "base_uri": "https://localhost:8080/"
        },
        "id": "kgBoZsUlm-Jf",
        "outputId": "4bb244d8-1807-453f-90f4-6f827a4e0dec"
      },
      "execution_count": null,
      "outputs": [
        {
          "output_type": "execute_result",
          "data": {
            "text/plain": [
              "(226, 13)"
            ]
          },
          "metadata": {},
          "execution_count": 23
        }
      ]
    },
    {
      "cell_type": "code",
      "source": [
        "# Muestra 5 observaciones al azar\n",
        "data.sample(5)"
      ],
      "metadata": {
        "colab": {
          "base_uri": "https://localhost:8080/",
          "height": 206
        },
        "id": "3GOPdywnl2pG",
        "outputId": "982788a6-048f-4a0f-c5d3-2fae371a2fa9"
      },
      "execution_count": null,
      "outputs": [
        {
          "output_type": "execute_result",
          "data": {
            "text/plain": [
              "     gender  situation  tea  coffee  height  weight  age  meat  fish  \\\n",
              "95        1          2    0       2     176      75   86     4     2   \n",
              "111       1          2    2       0     168      65   70     5     2   \n",
              "181       2          2    0       1     152      53   78     3     2   \n",
              "107       2          1    2       1     163      75   89     3     3   \n",
              "16        2          1    0       2     159      57   74     3     2   \n",
              "\n",
              "     raw_fruit  cooked_fruit_veg  chocol  fat  \n",
              "95           4                 5       0    4  \n",
              "111          1                 5       1    4  \n",
              "181          5                 5       3    4  \n",
              "107          5                 5       1    2  \n",
              "16           5                 3       1    4  "
            ],
            "text/html": [
              "\n",
              "  <div id=\"df-b41538b0-fca4-4c92-911c-49eb441d942e\" class=\"colab-df-container\">\n",
              "    <div>\n",
              "<style scoped>\n",
              "    .dataframe tbody tr th:only-of-type {\n",
              "        vertical-align: middle;\n",
              "    }\n",
              "\n",
              "    .dataframe tbody tr th {\n",
              "        vertical-align: top;\n",
              "    }\n",
              "\n",
              "    .dataframe thead th {\n",
              "        text-align: right;\n",
              "    }\n",
              "</style>\n",
              "<table border=\"1\" class=\"dataframe\">\n",
              "  <thead>\n",
              "    <tr style=\"text-align: right;\">\n",
              "      <th></th>\n",
              "      <th>gender</th>\n",
              "      <th>situation</th>\n",
              "      <th>tea</th>\n",
              "      <th>coffee</th>\n",
              "      <th>height</th>\n",
              "      <th>weight</th>\n",
              "      <th>age</th>\n",
              "      <th>meat</th>\n",
              "      <th>fish</th>\n",
              "      <th>raw_fruit</th>\n",
              "      <th>cooked_fruit_veg</th>\n",
              "      <th>chocol</th>\n",
              "      <th>fat</th>\n",
              "    </tr>\n",
              "  </thead>\n",
              "  <tbody>\n",
              "    <tr>\n",
              "      <th>95</th>\n",
              "      <td>1</td>\n",
              "      <td>2</td>\n",
              "      <td>0</td>\n",
              "      <td>2</td>\n",
              "      <td>176</td>\n",
              "      <td>75</td>\n",
              "      <td>86</td>\n",
              "      <td>4</td>\n",
              "      <td>2</td>\n",
              "      <td>4</td>\n",
              "      <td>5</td>\n",
              "      <td>0</td>\n",
              "      <td>4</td>\n",
              "    </tr>\n",
              "    <tr>\n",
              "      <th>111</th>\n",
              "      <td>1</td>\n",
              "      <td>2</td>\n",
              "      <td>2</td>\n",
              "      <td>0</td>\n",
              "      <td>168</td>\n",
              "      <td>65</td>\n",
              "      <td>70</td>\n",
              "      <td>5</td>\n",
              "      <td>2</td>\n",
              "      <td>1</td>\n",
              "      <td>5</td>\n",
              "      <td>1</td>\n",
              "      <td>4</td>\n",
              "    </tr>\n",
              "    <tr>\n",
              "      <th>181</th>\n",
              "      <td>2</td>\n",
              "      <td>2</td>\n",
              "      <td>0</td>\n",
              "      <td>1</td>\n",
              "      <td>152</td>\n",
              "      <td>53</td>\n",
              "      <td>78</td>\n",
              "      <td>3</td>\n",
              "      <td>2</td>\n",
              "      <td>5</td>\n",
              "      <td>5</td>\n",
              "      <td>3</td>\n",
              "      <td>4</td>\n",
              "    </tr>\n",
              "    <tr>\n",
              "      <th>107</th>\n",
              "      <td>2</td>\n",
              "      <td>1</td>\n",
              "      <td>2</td>\n",
              "      <td>1</td>\n",
              "      <td>163</td>\n",
              "      <td>75</td>\n",
              "      <td>89</td>\n",
              "      <td>3</td>\n",
              "      <td>3</td>\n",
              "      <td>5</td>\n",
              "      <td>5</td>\n",
              "      <td>1</td>\n",
              "      <td>2</td>\n",
              "    </tr>\n",
              "    <tr>\n",
              "      <th>16</th>\n",
              "      <td>2</td>\n",
              "      <td>1</td>\n",
              "      <td>0</td>\n",
              "      <td>2</td>\n",
              "      <td>159</td>\n",
              "      <td>57</td>\n",
              "      <td>74</td>\n",
              "      <td>3</td>\n",
              "      <td>2</td>\n",
              "      <td>5</td>\n",
              "      <td>3</td>\n",
              "      <td>1</td>\n",
              "      <td>4</td>\n",
              "    </tr>\n",
              "  </tbody>\n",
              "</table>\n",
              "</div>\n",
              "    <div class=\"colab-df-buttons\">\n",
              "\n",
              "  <div class=\"colab-df-container\">\n",
              "    <button class=\"colab-df-convert\" onclick=\"convertToInteractive('df-b41538b0-fca4-4c92-911c-49eb441d942e')\"\n",
              "            title=\"Convert this dataframe to an interactive table.\"\n",
              "            style=\"display:none;\">\n",
              "\n",
              "  <svg xmlns=\"http://www.w3.org/2000/svg\" height=\"24px\" viewBox=\"0 -960 960 960\">\n",
              "    <path d=\"M120-120v-720h720v720H120Zm60-500h600v-160H180v160Zm220 220h160v-160H400v160Zm0 220h160v-160H400v160ZM180-400h160v-160H180v160Zm440 0h160v-160H620v160ZM180-180h160v-160H180v160Zm440 0h160v-160H620v160Z\"/>\n",
              "  </svg>\n",
              "    </button>\n",
              "\n",
              "  <style>\n",
              "    .colab-df-container {\n",
              "      display:flex;\n",
              "      gap: 12px;\n",
              "    }\n",
              "\n",
              "    .colab-df-convert {\n",
              "      background-color: #E8F0FE;\n",
              "      border: none;\n",
              "      border-radius: 50%;\n",
              "      cursor: pointer;\n",
              "      display: none;\n",
              "      fill: #1967D2;\n",
              "      height: 32px;\n",
              "      padding: 0 0 0 0;\n",
              "      width: 32px;\n",
              "    }\n",
              "\n",
              "    .colab-df-convert:hover {\n",
              "      background-color: #E2EBFA;\n",
              "      box-shadow: 0px 1px 2px rgba(60, 64, 67, 0.3), 0px 1px 3px 1px rgba(60, 64, 67, 0.15);\n",
              "      fill: #174EA6;\n",
              "    }\n",
              "\n",
              "    .colab-df-buttons div {\n",
              "      margin-bottom: 4px;\n",
              "    }\n",
              "\n",
              "    [theme=dark] .colab-df-convert {\n",
              "      background-color: #3B4455;\n",
              "      fill: #D2E3FC;\n",
              "    }\n",
              "\n",
              "    [theme=dark] .colab-df-convert:hover {\n",
              "      background-color: #434B5C;\n",
              "      box-shadow: 0px 1px 3px 1px rgba(0, 0, 0, 0.15);\n",
              "      filter: drop-shadow(0px 1px 2px rgba(0, 0, 0, 0.3));\n",
              "      fill: #FFFFFF;\n",
              "    }\n",
              "  </style>\n",
              "\n",
              "    <script>\n",
              "      const buttonEl =\n",
              "        document.querySelector('#df-b41538b0-fca4-4c92-911c-49eb441d942e button.colab-df-convert');\n",
              "      buttonEl.style.display =\n",
              "        google.colab.kernel.accessAllowed ? 'block' : 'none';\n",
              "\n",
              "      async function convertToInteractive(key) {\n",
              "        const element = document.querySelector('#df-b41538b0-fca4-4c92-911c-49eb441d942e');\n",
              "        const dataTable =\n",
              "          await google.colab.kernel.invokeFunction('convertToInteractive',\n",
              "                                                    [key], {});\n",
              "        if (!dataTable) return;\n",
              "\n",
              "        const docLinkHtml = 'Like what you see? Visit the ' +\n",
              "          '<a target=\"_blank\" href=https://colab.research.google.com/notebooks/data_table.ipynb>data table notebook</a>'\n",
              "          + ' to learn more about interactive tables.';\n",
              "        element.innerHTML = '';\n",
              "        dataTable['output_type'] = 'display_data';\n",
              "        await google.colab.output.renderOutput(dataTable, element);\n",
              "        const docLink = document.createElement('div');\n",
              "        docLink.innerHTML = docLinkHtml;\n",
              "        element.appendChild(docLink);\n",
              "      }\n",
              "    </script>\n",
              "  </div>\n",
              "\n",
              "\n",
              "<div id=\"df-d939d6c8-251e-45ad-86ac-0e9476ca7fff\">\n",
              "  <button class=\"colab-df-quickchart\" onclick=\"quickchart('df-d939d6c8-251e-45ad-86ac-0e9476ca7fff')\"\n",
              "            title=\"Suggest charts\"\n",
              "            style=\"display:none;\">\n",
              "\n",
              "<svg xmlns=\"http://www.w3.org/2000/svg\" height=\"24px\"viewBox=\"0 0 24 24\"\n",
              "     width=\"24px\">\n",
              "    <g>\n",
              "        <path d=\"M19 3H5c-1.1 0-2 .9-2 2v14c0 1.1.9 2 2 2h14c1.1 0 2-.9 2-2V5c0-1.1-.9-2-2-2zM9 17H7v-7h2v7zm4 0h-2V7h2v10zm4 0h-2v-4h2v4z\"/>\n",
              "    </g>\n",
              "</svg>\n",
              "  </button>\n",
              "\n",
              "<style>\n",
              "  .colab-df-quickchart {\n",
              "      --bg-color: #E8F0FE;\n",
              "      --fill-color: #1967D2;\n",
              "      --hover-bg-color: #E2EBFA;\n",
              "      --hover-fill-color: #174EA6;\n",
              "      --disabled-fill-color: #AAA;\n",
              "      --disabled-bg-color: #DDD;\n",
              "  }\n",
              "\n",
              "  [theme=dark] .colab-df-quickchart {\n",
              "      --bg-color: #3B4455;\n",
              "      --fill-color: #D2E3FC;\n",
              "      --hover-bg-color: #434B5C;\n",
              "      --hover-fill-color: #FFFFFF;\n",
              "      --disabled-bg-color: #3B4455;\n",
              "      --disabled-fill-color: #666;\n",
              "  }\n",
              "\n",
              "  .colab-df-quickchart {\n",
              "    background-color: var(--bg-color);\n",
              "    border: none;\n",
              "    border-radius: 50%;\n",
              "    cursor: pointer;\n",
              "    display: none;\n",
              "    fill: var(--fill-color);\n",
              "    height: 32px;\n",
              "    padding: 0;\n",
              "    width: 32px;\n",
              "  }\n",
              "\n",
              "  .colab-df-quickchart:hover {\n",
              "    background-color: var(--hover-bg-color);\n",
              "    box-shadow: 0 1px 2px rgba(60, 64, 67, 0.3), 0 1px 3px 1px rgba(60, 64, 67, 0.15);\n",
              "    fill: var(--button-hover-fill-color);\n",
              "  }\n",
              "\n",
              "  .colab-df-quickchart-complete:disabled,\n",
              "  .colab-df-quickchart-complete:disabled:hover {\n",
              "    background-color: var(--disabled-bg-color);\n",
              "    fill: var(--disabled-fill-color);\n",
              "    box-shadow: none;\n",
              "  }\n",
              "\n",
              "  .colab-df-spinner {\n",
              "    border: 2px solid var(--fill-color);\n",
              "    border-color: transparent;\n",
              "    border-bottom-color: var(--fill-color);\n",
              "    animation:\n",
              "      spin 1s steps(1) infinite;\n",
              "  }\n",
              "\n",
              "  @keyframes spin {\n",
              "    0% {\n",
              "      border-color: transparent;\n",
              "      border-bottom-color: var(--fill-color);\n",
              "      border-left-color: var(--fill-color);\n",
              "    }\n",
              "    20% {\n",
              "      border-color: transparent;\n",
              "      border-left-color: var(--fill-color);\n",
              "      border-top-color: var(--fill-color);\n",
              "    }\n",
              "    30% {\n",
              "      border-color: transparent;\n",
              "      border-left-color: var(--fill-color);\n",
              "      border-top-color: var(--fill-color);\n",
              "      border-right-color: var(--fill-color);\n",
              "    }\n",
              "    40% {\n",
              "      border-color: transparent;\n",
              "      border-right-color: var(--fill-color);\n",
              "      border-top-color: var(--fill-color);\n",
              "    }\n",
              "    60% {\n",
              "      border-color: transparent;\n",
              "      border-right-color: var(--fill-color);\n",
              "    }\n",
              "    80% {\n",
              "      border-color: transparent;\n",
              "      border-right-color: var(--fill-color);\n",
              "      border-bottom-color: var(--fill-color);\n",
              "    }\n",
              "    90% {\n",
              "      border-color: transparent;\n",
              "      border-bottom-color: var(--fill-color);\n",
              "    }\n",
              "  }\n",
              "</style>\n",
              "\n",
              "  <script>\n",
              "    async function quickchart(key) {\n",
              "      const quickchartButtonEl =\n",
              "        document.querySelector('#' + key + ' button');\n",
              "      quickchartButtonEl.disabled = true;  // To prevent multiple clicks.\n",
              "      quickchartButtonEl.classList.add('colab-df-spinner');\n",
              "      try {\n",
              "        const charts = await google.colab.kernel.invokeFunction(\n",
              "            'suggestCharts', [key], {});\n",
              "      } catch (error) {\n",
              "        console.error('Error during call to suggestCharts:', error);\n",
              "      }\n",
              "      quickchartButtonEl.classList.remove('colab-df-spinner');\n",
              "      quickchartButtonEl.classList.add('colab-df-quickchart-complete');\n",
              "    }\n",
              "    (() => {\n",
              "      let quickchartButtonEl =\n",
              "        document.querySelector('#df-d939d6c8-251e-45ad-86ac-0e9476ca7fff button');\n",
              "      quickchartButtonEl.style.display =\n",
              "        google.colab.kernel.accessAllowed ? 'block' : 'none';\n",
              "    })();\n",
              "  </script>\n",
              "</div>\n",
              "\n",
              "    </div>\n",
              "  </div>\n"
            ],
            "application/vnd.google.colaboratory.intrinsic+json": {
              "type": "dataframe",
              "summary": "{\n  \"name\": \"data\",\n  \"rows\": 5,\n  \"fields\": [\n    {\n      \"column\": \"gender\",\n      \"properties\": {\n        \"dtype\": \"number\",\n        \"std\": 0,\n        \"min\": 1,\n        \"max\": 2,\n        \"num_unique_values\": 2,\n        \"samples\": [\n          2,\n          1\n        ],\n        \"semantic_type\": \"\",\n        \"description\": \"\"\n      }\n    },\n    {\n      \"column\": \"situation\",\n      \"properties\": {\n        \"dtype\": \"number\",\n        \"std\": 0,\n        \"min\": 1,\n        \"max\": 2,\n        \"num_unique_values\": 2,\n        \"samples\": [\n          1,\n          2\n        ],\n        \"semantic_type\": \"\",\n        \"description\": \"\"\n      }\n    },\n    {\n      \"column\": \"tea\",\n      \"properties\": {\n        \"dtype\": \"number\",\n        \"std\": 1,\n        \"min\": 0,\n        \"max\": 2,\n        \"num_unique_values\": 2,\n        \"samples\": [\n          2,\n          0\n        ],\n        \"semantic_type\": \"\",\n        \"description\": \"\"\n      }\n    },\n    {\n      \"column\": \"coffee\",\n      \"properties\": {\n        \"dtype\": \"number\",\n        \"std\": 0,\n        \"min\": 0,\n        \"max\": 2,\n        \"num_unique_values\": 3,\n        \"samples\": [\n          2,\n          0\n        ],\n        \"semantic_type\": \"\",\n        \"description\": \"\"\n      }\n    },\n    {\n      \"column\": \"height\",\n      \"properties\": {\n        \"dtype\": \"number\",\n        \"std\": 9,\n        \"min\": 152,\n        \"max\": 176,\n        \"num_unique_values\": 5,\n        \"samples\": [\n          168,\n          159\n        ],\n        \"semantic_type\": \"\",\n        \"description\": \"\"\n      }\n    },\n    {\n      \"column\": \"weight\",\n      \"properties\": {\n        \"dtype\": \"number\",\n        \"std\": 10,\n        \"min\": 53,\n        \"max\": 75,\n        \"num_unique_values\": 4,\n        \"samples\": [\n          65,\n          57\n        ],\n        \"semantic_type\": \"\",\n        \"description\": \"\"\n      }\n    },\n    {\n      \"column\": \"age\",\n      \"properties\": {\n        \"dtype\": \"number\",\n        \"std\": 7,\n        \"min\": 70,\n        \"max\": 89,\n        \"num_unique_values\": 5,\n        \"samples\": [\n          70,\n          74\n        ],\n        \"semantic_type\": \"\",\n        \"description\": \"\"\n      }\n    },\n    {\n      \"column\": \"meat\",\n      \"properties\": {\n        \"dtype\": \"number\",\n        \"std\": 0,\n        \"min\": 3,\n        \"max\": 5,\n        \"num_unique_values\": 3,\n        \"samples\": [\n          4,\n          5\n        ],\n        \"semantic_type\": \"\",\n        \"description\": \"\"\n      }\n    },\n    {\n      \"column\": \"fish\",\n      \"properties\": {\n        \"dtype\": \"number\",\n        \"std\": 0,\n        \"min\": 2,\n        \"max\": 3,\n        \"num_unique_values\": 2,\n        \"samples\": [\n          3,\n          2\n        ],\n        \"semantic_type\": \"\",\n        \"description\": \"\"\n      }\n    },\n    {\n      \"column\": \"raw_fruit\",\n      \"properties\": {\n        \"dtype\": \"number\",\n        \"std\": 1,\n        \"min\": 1,\n        \"max\": 5,\n        \"num_unique_values\": 3,\n        \"samples\": [\n          4,\n          1\n        ],\n        \"semantic_type\": \"\",\n        \"description\": \"\"\n      }\n    },\n    {\n      \"column\": \"cooked_fruit_veg\",\n      \"properties\": {\n        \"dtype\": \"number\",\n        \"std\": 0,\n        \"min\": 3,\n        \"max\": 5,\n        \"num_unique_values\": 2,\n        \"samples\": [\n          3,\n          5\n        ],\n        \"semantic_type\": \"\",\n        \"description\": \"\"\n      }\n    },\n    {\n      \"column\": \"chocol\",\n      \"properties\": {\n        \"dtype\": \"number\",\n        \"std\": 1,\n        \"min\": 0,\n        \"max\": 3,\n        \"num_unique_values\": 3,\n        \"samples\": [\n          0,\n          1\n        ],\n        \"semantic_type\": \"\",\n        \"description\": \"\"\n      }\n    },\n    {\n      \"column\": \"fat\",\n      \"properties\": {\n        \"dtype\": \"number\",\n        \"std\": 0,\n        \"min\": 2,\n        \"max\": 4,\n        \"num_unique_values\": 2,\n        \"samples\": [\n          2,\n          4\n        ],\n        \"semantic_type\": \"\",\n        \"description\": \"\"\n      }\n    }\n  ]\n}"
            }
          },
          "metadata": {},
          "execution_count": 24
        }
      ]
    },
    {
      "cell_type": "markdown",
      "source": [
        "## Variables\n",
        "\n",
        "Existen 2 tipos de variables\n",
        "\n",
        "+ Cualitativas\n",
        "+ Cuantitativas\n",
        "\n",
        "Las cualitativas se dividen en:\n",
        "+ Discreta\n",
        "+ Continua"
      ],
      "metadata": {
        "id": "ttbRHFSjniCQ"
      }
    },
    {
      "cell_type": "markdown",
      "source": [
        "![](https://rea.ceibal.edu.uy/elp/aprendiendo-estadistica/curso_variable.png)"
      ],
      "metadata": {
        "id": "ZA-_wGySmCwC"
      }
    },
    {
      "cell_type": "code",
      "source": [
        "# Nombre de las columnas\n",
        "data.columns"
      ],
      "metadata": {
        "colab": {
          "base_uri": "https://localhost:8080/"
        },
        "id": "LxAcHhAxmSnq",
        "outputId": "1f21fc68-de56-4de2-aed9-0437f22d6a9a"
      },
      "execution_count": null,
      "outputs": [
        {
          "output_type": "execute_result",
          "data": {
            "text/plain": [
              "Index(['gender', 'situation', 'tea', 'coffee', 'height', 'weight', 'age',\n",
              "       'meat', 'fish', 'raw_fruit', 'cooked_fruit_veg', 'chocol', 'fat'],\n",
              "      dtype='object')"
            ]
          },
          "metadata": {},
          "execution_count": 8
        }
      ]
    },
    {
      "cell_type": "markdown",
      "source": [
        "$\\textbf{Cualitativas}$\n",
        "+ gender,\n",
        "+ situation,\n",
        "+ fat,\n",
        "+ meat,\n",
        "+ fish,\n",
        "+ raw_fruit,\n",
        "+ cooked_fruit_veg,\n",
        "+ chocol\n",
        "\n",
        "$\\textbf{Cuantitativa discreta}$\n",
        "+ tea\n",
        "+ coffee\n",
        "\n",
        "$\\textbf{Cuantitativa continua}$\n",
        "+ height\n",
        "+ weight\n",
        "+ age"
      ],
      "metadata": {
        "id": "Z1xj_eQwnhOx"
      }
    },
    {
      "cell_type": "code",
      "source": [
        "# Información de las columnas disponibles\n",
        "data.info()"
      ],
      "metadata": {
        "colab": {
          "base_uri": "https://localhost:8080/"
        },
        "id": "UG9BM7m7pHbc",
        "outputId": "14f0c249-e7d6-45cc-82c5-a6f81dd79704"
      },
      "execution_count": null,
      "outputs": [
        {
          "output_type": "stream",
          "name": "stdout",
          "text": [
            "<class 'pandas.core.frame.DataFrame'>\n",
            "RangeIndex: 226 entries, 0 to 225\n",
            "Data columns (total 13 columns):\n",
            " #   Column            Non-Null Count  Dtype\n",
            "---  ------            --------------  -----\n",
            " 0   gender            226 non-null    int64\n",
            " 1   situation         226 non-null    int64\n",
            " 2   tea               226 non-null    int64\n",
            " 3   coffee            226 non-null    int64\n",
            " 4   height            226 non-null    int64\n",
            " 5   weight            226 non-null    int64\n",
            " 6   age               226 non-null    int64\n",
            " 7   meat              226 non-null    int64\n",
            " 8   fish              226 non-null    int64\n",
            " 9   raw_fruit         226 non-null    int64\n",
            " 10  cooked_fruit_veg  226 non-null    int64\n",
            " 11  chocol            226 non-null    int64\n",
            " 12  fat               226 non-null    int64\n",
            "dtypes: int64(13)\n",
            "memory usage: 23.1 KB\n"
          ]
        }
      ]
    },
    {
      "cell_type": "code",
      "source": [
        "# Obtiene los valores únicos de la columna\n",
        "data.fat.unique()"
      ],
      "metadata": {
        "colab": {
          "base_uri": "https://localhost:8080/"
        },
        "id": "raHosd5nmyXQ",
        "outputId": "6baa44a4-3d13-4e85-e38c-6e09cc090686"
      },
      "execution_count": null,
      "outputs": [
        {
          "output_type": "execute_result",
          "data": {
            "text/plain": [
              "array([6, 4, 2, 3, 8, 1, 5, 7])"
            ]
          },
          "metadata": {},
          "execution_count": 10
        }
      ]
    },
    {
      "cell_type": "code",
      "source": [
        "data.gender.unique()"
      ],
      "metadata": {
        "colab": {
          "base_uri": "https://localhost:8080/"
        },
        "id": "bIsK08ixpBai",
        "outputId": "371755ed-a36b-43d3-ce55-6fe131ea9605"
      },
      "execution_count": null,
      "outputs": [
        {
          "output_type": "execute_result",
          "data": {
            "text/plain": [
              "array([2, 1])"
            ]
          },
          "metadata": {},
          "execution_count": 11
        }
      ]
    },
    {
      "cell_type": "markdown",
      "source": [
        "## Análisis de columnas"
      ],
      "metadata": {
        "id": "M_ySgg4RnQt7"
      }
    },
    {
      "cell_type": "code",
      "source": [
        "# Cálculo de medidas\n",
        "data['age'].describe()"
      ],
      "metadata": {
        "colab": {
          "base_uri": "https://localhost:8080/"
        },
        "id": "ldcNszfWhqaR",
        "outputId": "eaae6b05-b3d9-41f7-a94b-6db54947ffa3"
      },
      "execution_count": null,
      "outputs": [
        {
          "output_type": "execute_result",
          "data": {
            "text/plain": [
              "count    226.000000\n",
              "mean      74.477876\n",
              "std        6.005327\n",
              "min       65.000000\n",
              "25%       70.000000\n",
              "50%       74.000000\n",
              "75%       78.000000\n",
              "max       91.000000\n",
              "Name: age, dtype: float64"
            ]
          },
          "metadata": {},
          "execution_count": 12
        }
      ]
    },
    {
      "cell_type": "code",
      "source": [
        "# Cálculo de medidas\n",
        "data['gender'].describe()"
      ],
      "metadata": {
        "colab": {
          "base_uri": "https://localhost:8080/"
        },
        "id": "3GL5vISKtqSU",
        "outputId": "029026b4-b171-40b2-f9bb-97b866cecdbc"
      },
      "execution_count": null,
      "outputs": [
        {
          "output_type": "execute_result",
          "data": {
            "text/plain": [
              "count    226.000000\n",
              "mean       1.623894\n",
              "std        0.485482\n",
              "min        1.000000\n",
              "25%        1.000000\n",
              "50%        2.000000\n",
              "75%        2.000000\n",
              "max        2.000000\n",
              "Name: gender, dtype: float64"
            ]
          },
          "metadata": {},
          "execution_count": 13
        }
      ]
    },
    {
      "cell_type": "markdown",
      "source": [
        "**OBSERVACIÓN**\n",
        "\n",
        "\n",
        "\n",
        "---\n",
        "\n",
        "\n",
        "\n",
        "Lo anterior no tiene mucho sentido porque la variable género está codificada, porque la variable es cualitativa"
      ],
      "metadata": {
        "id": "GpebTmG1hyQx"
      }
    },
    {
      "cell_type": "code",
      "source": [
        "# Agrega la descripción\n",
        "dict_gender = {1:'Male', 2:'Female'}\n",
        "data['gender_c'] = data['gender'].replace(dict_gender).astype(\"category\")"
      ],
      "metadata": {
        "id": "7nO7pASOs8Zy"
      },
      "execution_count": null,
      "outputs": []
    },
    {
      "cell_type": "code",
      "source": [
        "# Volvemos a usar el método describe()\n",
        "data['gender_c'].describe()"
      ],
      "metadata": {
        "colab": {
          "base_uri": "https://localhost:8080/"
        },
        "id": "zvDjDskJt_z_",
        "outputId": "10f5b462-1224-47c7-a3b7-341a165d0b88"
      },
      "execution_count": null,
      "outputs": [
        {
          "output_type": "execute_result",
          "data": {
            "text/plain": [
              "count        226\n",
              "unique         2\n",
              "top       Female\n",
              "freq         141\n",
              "Name: gender_c, dtype: object"
            ]
          },
          "metadata": {},
          "execution_count": 15
        }
      ]
    },
    {
      "cell_type": "code",
      "source": [
        "# Construye una simple tabla de frecuencia relativa\n",
        "data['gender_c'].value_counts()"
      ],
      "metadata": {
        "colab": {
          "base_uri": "https://localhost:8080/"
        },
        "id": "YDnwVayWinTj",
        "outputId": "71b821c2-98a0-4e08-8f7e-20c910657b7f"
      },
      "execution_count": null,
      "outputs": [
        {
          "output_type": "execute_result",
          "data": {
            "text/plain": [
              "Female    141\n",
              "Male       85\n",
              "Name: gender_c, dtype: int64"
            ]
          },
          "metadata": {},
          "execution_count": 16
        }
      ]
    },
    {
      "cell_type": "markdown",
      "source": [
        "## Desafío\n",
        "\n",
        "+ Termine usted de transformar todas las otras variables del tipo cualitativas considerando la descripción de la data desde el enlace que le han entregado.\n",
        "\n",
        "+ Calcule e interprete las medidas de tendencia central que estime conveniente de, al menos, 2 variables."
      ],
      "metadata": {
        "id": "6qptGuG6uM0c"
      }
    }
  ]
}