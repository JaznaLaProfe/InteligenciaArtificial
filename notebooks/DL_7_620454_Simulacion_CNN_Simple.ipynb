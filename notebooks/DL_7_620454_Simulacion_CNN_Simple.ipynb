{
  "nbformat": 4,
  "nbformat_minor": 0,
  "metadata": {
    "colab": {
      "provenance": []
    },
    "kernelspec": {
      "name": "python3",
      "display_name": "Python 3"
    },
    "language_info": {
      "name": "python"
    }
  },
  "cells": [
    {
      "cell_type": "markdown",
      "source": [
        "# Simulación de una red neuronal convolucional simple\n",
        "\n",
        "**Autor:** Jazna Meza Hidalgo\n",
        "\n",
        "**Correo Electrónico:** ymeza@ubiobio.cl\n",
        "\n",
        "**Fecha de Creación:** Diciembre de 2024  \n",
        "**Versión:** 1.0  \n",
        "\n",
        "---\n",
        "\n",
        "## Descripción\n",
        "\n",
        "Este notebook contiene la sumulación de una red neuronal convolucional simple\n",
        "\n",
        "---\n",
        "\n",
        "## Requisitos de Software\n",
        "\n",
        "Este notebook fue desarrollado con Python 3.9. A continuación se listan las bibliotecas necesarias:\n",
        "\n",
        "- numpy (1.26.4)"
      ],
      "metadata": {
        "id": "5adsG2XB70wn"
      }
    },
    {
      "cell_type": "code",
      "source": [
        "!pip install matplotlib --upgrade"
      ],
      "metadata": {
        "colab": {
          "base_uri": "https://localhost:8080/"
        },
        "id": "NdrK4rUGriuR",
        "outputId": "22659816-46d2-49aa-a119-7f1a2aaa0673"
      },
      "execution_count": null,
      "outputs": [
        {
          "output_type": "stream",
          "name": "stdout",
          "text": [
            "Requirement already satisfied: matplotlib in /usr/local/lib/python3.10/dist-packages (3.8.0)\n",
            "Collecting matplotlib\n",
            "  Downloading matplotlib-3.9.3-cp310-cp310-manylinux_2_17_x86_64.manylinux2014_x86_64.whl.metadata (11 kB)\n",
            "Requirement already satisfied: contourpy>=1.0.1 in /usr/local/lib/python3.10/dist-packages (from matplotlib) (1.3.1)\n",
            "Requirement already satisfied: cycler>=0.10 in /usr/local/lib/python3.10/dist-packages (from matplotlib) (0.12.1)\n",
            "Requirement already satisfied: fonttools>=4.22.0 in /usr/local/lib/python3.10/dist-packages (from matplotlib) (4.55.0)\n",
            "Requirement already satisfied: kiwisolver>=1.3.1 in /usr/local/lib/python3.10/dist-packages (from matplotlib) (1.4.7)\n",
            "Requirement already satisfied: numpy>=1.23 in /usr/local/lib/python3.10/dist-packages (from matplotlib) (1.26.4)\n",
            "Requirement already satisfied: packaging>=20.0 in /usr/local/lib/python3.10/dist-packages (from matplotlib) (24.2)\n",
            "Requirement already satisfied: pillow>=8 in /usr/local/lib/python3.10/dist-packages (from matplotlib) (11.0.0)\n",
            "Requirement already satisfied: pyparsing>=2.3.1 in /usr/local/lib/python3.10/dist-packages (from matplotlib) (3.2.0)\n",
            "Requirement already satisfied: python-dateutil>=2.7 in /usr/local/lib/python3.10/dist-packages (from matplotlib) (2.8.2)\n",
            "Requirement already satisfied: six>=1.5 in /usr/local/lib/python3.10/dist-packages (from python-dateutil>=2.7->matplotlib) (1.16.0)\n",
            "Downloading matplotlib-3.9.3-cp310-cp310-manylinux_2_17_x86_64.manylinux2014_x86_64.whl (8.3 MB)\n",
            "\u001b[2K   \u001b[90m━━━━━━━━━━━━━━━━━━━━━━━━━━━━━━━━━━━━━━━━\u001b[0m \u001b[32m8.3/8.3 MB\u001b[0m \u001b[31m47.6 MB/s\u001b[0m eta \u001b[36m0:00:00\u001b[0m\n",
            "\u001b[?25hInstalling collected packages: matplotlib\n",
            "  Attempting uninstall: matplotlib\n",
            "    Found existing installation: matplotlib 3.8.0\n",
            "    Uninstalling matplotlib-3.8.0:\n",
            "      Successfully uninstalled matplotlib-3.8.0\n",
            "Successfully installed matplotlib-3.9.3\n"
          ]
        }
      ]
    },
    {
      "cell_type": "markdown",
      "source": [
        "# Ejemplo de red neuronal convolucional (CNN)"
      ],
      "metadata": {
        "id": "ou1gz9Oiwqg9"
      }
    },
    {
      "cell_type": "markdown",
      "source": [
        "<img src=https://miro.medium.com/v2/resize:fit:750/format:webp/1*RfTBURSzu1OQ2rLfL8jWVw.png> (Fuente: https://medium.com/@jajp2203/clasificaci%C3%B3n-de-im%C3%A1genes-con-redes-profundas-a229774e53f4)"
      ],
      "metadata": {
        "id": "C7kG6OCauaEP"
      }
    },
    {
      "cell_type": "markdown",
      "source": [
        "# Representación biológica"
      ],
      "metadata": {
        "id": "wVWNY1iSwfxe"
      }
    },
    {
      "cell_type": "markdown",
      "source": [
        "<img src=https://miro.medium.com/v2/resize:fit:750/format:webp/1*iMarvGHMA67YbohJvCgodA.png>\n",
        "\n",
        "(Fuente: https://medium.com/@jajp2203/clasificaci%C3%B3n-de-im%C3%A1genes-con-redes-profundas-a229774e53f4)"
      ],
      "metadata": {
        "id": "n79O6FdAv38R"
      }
    },
    {
      "cell_type": "markdown",
      "source": [
        "# Estructura de una CNN"
      ],
      "metadata": {
        "id": "Jw4tK5pVwl6T"
      }
    },
    {
      "cell_type": "markdown",
      "source": [
        "<img src=https://miro.medium.com/v2/resize:fit:750/format:webp/1*bGjusyTjh2SACnkkMHU_hA.png>\n",
        "\n",
        "(Fuente: https://medium.com/@jajp2203/clasificaci%C3%B3n-de-im%C3%A1genes-con-redes-profundas-a229774e53f4)"
      ],
      "metadata": {
        "id": "C0H9pukBwSsy"
      }
    },
    {
      "cell_type": "code",
      "source": [
        "import numpy as np\n",
        "import tensorflow as tf\n",
        "\n",
        "import matplotlib.pyplot as plt\n",
        "from tensorflow.keras import layers, models\n",
        "\n",
        "\n",
        "# Imagen de entrada (3x3 con escala de grises)\n",
        "input_image = np.array([\n",
        "    [0, 0, 0],\n",
        "    [1, 1, 1],\n",
        "    [0, 0, 0]\n",
        "], dtype=np.float32)\n",
        "\n",
        "# Asegura que input_image sea 4D\n",
        "input_image = input_image.reshape(1, 3, 3, 1)\n",
        "\n",
        "# Creamos un modelo simple con una capa convolucional\n",
        "model = models.Sequential([\n",
        "    layers.Input(shape=(3,3,1)),\n",
        "    layers.Conv2D(filters=1, kernel_size=(3, 3), use_bias=False)\n",
        "])\n",
        "\n",
        "# Asigna un kernel manualmente (borde horizontal)\n",
        "kernel = np.array([\n",
        "    [-1, -1, -1],\n",
        "    [ 2,  2,  2],\n",
        "    [-1, -1, -1]\n",
        "], dtype=np.float32).reshape(3, 3, 1, 1)  # (height, width, input_channels, output_channels)\n",
        "\n",
        "# Asigna los pesos del kernel al modelo\n",
        "model.layers[0].set_weights([kernel])\n",
        "\n",
        "# Pasamos la imagen por la red\n",
        "output = model.predict(input_image)\n",
        "\n",
        "# Visualización\n",
        "plt.figure(figsize=(10, 5))  # Ajustar el tamaño del gráfico\n",
        "\n",
        "# Imagen de entrada\n",
        "plt.subplot(1, 2, 1)\n",
        "plt.imshow(input_image[0, :, :, 0], cmap='gray', interpolation='nearest')\n",
        "plt.colorbar()\n",
        "plt.title(\"Imagen de Entrada\")\n",
        "\n",
        "# Feature map\n",
        "plt.subplot(1, 2, 2)\n",
        "plt.imshow(output[0, :, :, 0], cmap='gray', interpolation='nearest')\n",
        "plt.colorbar()\n",
        "plt.title(\"Feature Map (Salida)\")\n",
        "\n",
        "plt.tight_layout()\n",
        "plt.show()\n"
      ],
      "metadata": {
        "colab": {
          "base_uri": "https://localhost:8080/",
          "height": 524
        },
        "id": "-C9qcPwlsXer",
        "outputId": "67a2e252-3a89-45ef-84d9-be69406a72ce"
      },
      "execution_count": null,
      "outputs": [
        {
          "output_type": "stream",
          "name": "stdout",
          "text": [
            "\u001b[1m1/1\u001b[0m \u001b[32m━━━━━━━━━━━━━━━━━━━━\u001b[0m\u001b[37m\u001b[0m \u001b[1m0s\u001b[0m 36ms/step\n"
          ]
        },
        {
          "output_type": "display_data",
          "data": {
            "text/plain": [
              "<Figure size 1000x500 with 4 Axes>"
            ],
            "image/png": "[encoded data removed]"
          },
          "metadata": {}
        }
      ]
    }
  ]
}